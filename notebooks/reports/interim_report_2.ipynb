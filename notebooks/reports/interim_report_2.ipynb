{
 "cells": [
  {
   "cell_type": "code",
   "execution_count": 1,
   "metadata": {},
   "outputs": [],
   "source": [
    "import numpy as np\n",
    "import os\n",
    "from pathlib import Path\n",
    "\n",
    "import matplotlib.pyplot as plt\n",
    "import pandas as pd\n",
    "import seaborn as sns"
   ]
  },
  {
   "cell_type": "markdown",
   "metadata": {},
   "source": [
    "Preprocessing\n",
    "\n",
    "- Select threshold: 80\n",
    "- Export papers\n",
    "- Load and filter altmetrics\n",
    "\n",
    "Report outputs\n",
    "\n",
    "- Citations are not available from local machines?\n",
    "- Select certain altmetrics\n",
    "- Break down report into BC and TPH\n",
    "\n",
    "To be added tables\n",
    "\n",
    "- Citations (WoS)\n",
    "- Disciplines (WoS)\n",
    "- Discipline specific articles"
   ]
  },
  {
   "cell_type": "code",
   "execution_count": 2,
   "metadata": {},
   "outputs": [],
   "source": [
    "# Load data\n",
    "project_dir = Path().absolute().parents[1]\n",
    "data_dir = project_dir / \"data\"\n",
    "\n",
    "# Articles after processing with anystyle\n",
    "articles = pd.read_csv(data_dir / \"interim/structured.csv\", index_col=\"article_id\")\n",
    "\n",
    "# External data from CR/Altmetric\n",
    "crossref = pd.read_csv(data_dir / \"interim/_crossref.csv\", index_col=\"article_id\", low_memory=False)\n",
    "altmetric = pd.read_csv(data_dir / \"interim/_altmetric.csv\", index_col=\"article_id\", low_memory=False)"
   ]
  },
  {
   "cell_type": "code",
   "execution_count": null,
   "metadata": {},
   "outputs": [],
   "source": []
  },
  {
   "cell_type": "code",
   "execution_count": null,
   "metadata": {},
   "outputs": [],
   "source": [
    "cr_thresh = 80"
   ]
  },
  {
   "cell_type": "code",
   "execution_count": null,
   "metadata": {},
   "outputs": [],
   "source": [
    "# Filter out DOIs that had a score lower than 80\n",
    "df.loc[df.score < cr_thresh, 'DOI_cr'] = None\n",
    "articles_with_doi = df[df.DOI_cr.notna()].index"
   ]
  }
 ],
 "metadata": {
  "kernelspec": {
   "display_name": "Python 3.6.10 64-bit ('.venv': venv)",
   "language": "python",
   "name": "python361064bitvenvvenvcdc679201519459280111e6b577316b7"
  },
  "language_info": {
   "codemirror_mode": {
    "name": "ipython",
    "version": 3
   },
   "file_extension": ".py",
   "mimetype": "text/x-python",
   "name": "python",
   "nbconvert_exporter": "python",
   "pygments_lexer": "ipython3",
   "version": "3.6.10"
  }
 },
 "nbformat": 4,
 "nbformat_minor": 4
}
