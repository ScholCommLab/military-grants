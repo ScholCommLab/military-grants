{
 "cells": [
  {
   "cell_type": "markdown",
   "metadata": {},
   "source": [
    "# Progress report 3\n",
    "\n",
    "*Asura Enkhbayar, 18.06.2020*\n",
    "\n",
    "Several plots and insights for individual research programs"
   ]
  },
  {
   "cell_type": "code",
   "execution_count": 2,
   "metadata": {},
   "outputs": [],
   "source": [
    "from pathlib import Path\n",
    "\n",
    "from IPython.display import Markdown as md\n",
    "\n",
    "import matplotlib.pyplot as plt\n",
    "import matplotlib.patches as mpatches\n",
    "from matplotlib_venn import venn3\n",
    "import pandas as pd\n",
    "import seaborn as sns\n",
    "\n",
    "import numpy as np\n",
    "\n",
    "from tracking_grants import references_f, articles_f, wos_f, altmetric_f"
   ]
  },
  {
   "cell_type": "code",
   "execution_count": 3,
   "metadata": {},
   "outputs": [],
   "source": [
    "# Seaborn styles\n",
    "sns.set_style(\"darkgrid\")\n",
    "\n",
    "# Matplotlib figure configuration fonts and figsizes\n",
    "plt.rcParams.update({\n",
    "    'font.family':'sans-serif',\n",
    "    'font.size': 16.0,\n",
    "    'text.usetex': False,\n",
    "    'figure.figsize': (11.69,8.27)\n",
    "})\n",
    "\n",
    "# Color palette\n",
    "cm = \"Paired\"\n",
    "cp3 = sns.color_palette(cm, 3)\n",
    "cp10 = sns.color_palette(cm, 10)"
   ]
  },
  {
   "cell_type": "markdown",
   "metadata": {},
   "source": [
    "## Load Data"
   ]
  },
  {
   "cell_type": "code",
   "execution_count": 4,
   "metadata": {},
   "outputs": [],
   "source": [
    "# Load references\n",
    "refs = pd.read_csv(references_f, index_col=\"reference_id\")"
   ]
  },
  {
   "cell_type": "code",
   "execution_count": 5,
   "metadata": {},
   "outputs": [],
   "source": [
    "# Load matched articles\n",
    "articles = pd.read_csv(articles_f, index_col=\"DOI\")\n",
    "articles.index = articles.index.str.lower()"
   ]
  },
  {
   "cell_type": "code",
   "execution_count": 6,
   "metadata": {},
   "outputs": [],
   "source": [
    "# Load metrics from WoS\n",
    "wos = pd.read_csv(wos_f,  low_memory=False, index_col=\"DOI\")\n",
    "wos.columns = [x.lower() for x in wos.columns.tolist()]\n",
    "wos.index = wos.index.str.lower()\n",
    "\n",
    "wos = wos.rename(columns={'relative citation score':'citation_score'})"
   ]
  },
  {
   "cell_type": "code",
   "execution_count": 7,
   "metadata": {},
   "outputs": [],
   "source": [
    "# Load metrics from Altmetric\n",
    "altmetrics = pd.read_json(altmetric_f).T\n",
    "\n",
    "# Filter out all articles had not altmetrics\n",
    "altmetrics = altmetrics[altmetrics.altmetric_id.notna()]"
   ]
  },
  {
   "cell_type": "code",
   "execution_count": 8,
   "metadata": {},
   "outputs": [],
   "source": [
    "dates = [\"last_updated\", \"published_on\", \"added_on\"]\n",
    "for d in dates:\n",
    "    altmetrics[d] = pd.to_datetime(altmetrics[d], unit=\"s\")\n",
    "\n",
    "str_cols = [\"pmid\", \"pmc\", \"altmetric_id\", \"doi\", 'hollis_id', \"arxiv_id\"]\n",
    "for _ in str_cols:\n",
    "    altmetrics[_] = altmetrics[_].astype(str)\n",
    "    \n",
    "metric_cols = {\n",
    "    'cited_by_posts_count': 'posts_count',\n",
    "    'cited_by_rh_count': 'research_highlight',\n",
    "    'cited_by_tweeters_count': 'twitter_accounts',\n",
    "    'cited_by_patents_count': 'patents',\n",
    "    'cited_by_msm_count': 'news_outlets',\n",
    "    'cited_by_feeds_count': 'blogs',\n",
    "    'cited_by_fbwalls_count': 'fb_pages',\n",
    "    'cited_by_qna_count': 'qna_count',\n",
    "    'cited_by_videos_count': 'videos',\n",
    "    'cited_by_peer_review_sites_count': 'peer_reviews',\n",
    "    'cited_by_weibo_count': 'weibo',\n",
    "    'cited_by_gplus_count': 'gplus',\n",
    "    'cited_by_rdts_count': 'reddit_threads',\n",
    "    'cited_by_policies_count': 'policies',\n",
    "    'cited_by_syllabi_count': 'syllabi',\n",
    "    'cited_by_linkedin_count': 'linkedin',\n",
    "    'cited_by_wikipedia_count': 'wikipedia',\n",
    "}\n",
    "altmetrics = altmetrics.rename(columns=metric_cols)\n",
    "metric_cols = list(metric_cols.values())\n",
    "\n",
    "altmetrics[metric_cols] = altmetrics[metric_cols].astype(float)\n",
    "\n",
    "cols_to_keep = metric_cols + dates + str_cols + ['subjects', 'scopus_subjects']\n",
    "altmetrics = altmetrics[cols_to_keep]\n",
    "\n",
    "# Transform all DOIs to lowercase\n",
    "altmetrics.index = altmetrics.index.str.lower()"
   ]
  },
  {
   "cell_type": "code",
   "execution_count": 9,
   "metadata": {},
   "outputs": [],
   "source": [
    "metrics = articles[[]].merge(altmetrics[metric_cols], left_index=True, right_index=True, how=\"left\")\n",
    "metrics = metrics.merge(wos[[\"citations\", \"citation_score\"]], left_index=True, right_index=True, how=\"left\")"
   ]
  },
  {
   "cell_type": "code",
   "execution_count": 10,
   "metadata": {},
   "outputs": [],
   "source": [
    "# Replace articles with 0 citations as NaN\n",
    "metrics = metrics.replace(0.0, np.nan)"
   ]
  },
  {
   "cell_type": "markdown",
   "metadata": {},
   "source": [
    "## Results"
   ]
  },
  {
   "cell_type": "code",
   "execution_count": 11,
   "metadata": {},
   "outputs": [],
   "source": [
    "# Choose program to explore (TSCRP, NFRP, PCRP, PRORP)\n",
    "selected_program = \"TSCRP\"\n",
    "\n",
    "results = articles.reset_index().merge(refs[refs.program==\"TSCRP\"][['grant_id', 'reference']], left_on=\"reference\", right_on=\"reference\", how=\"inner\")\n",
    "results = results.merge(metrics, left_on=\"DOI\", right_index=True)"
   ]
  },
  {
   "cell_type": "code",
   "execution_count": 12,
   "metadata": {},
   "outputs": [
    {
     "data": {
      "text/plain": [
       "Index(['DOI', 'article_id', 'reference', 'score', 'type', 'n_grants', 'pmid',\n",
       "       'grant_id', 'posts_count', 'research_highlight', 'twitter_accounts',\n",
       "       'patents', 'news_outlets', 'blogs', 'fb_pages', 'qna_count', 'videos',\n",
       "       'peer_reviews', 'weibo', 'gplus', 'reddit_threads', 'policies',\n",
       "       'syllabi', 'linkedin', 'wikipedia', 'citations', 'citation_score'],\n",
       "      dtype='object')"
      ]
     },
     "execution_count": 12,
     "metadata": {},
     "output_type": "execute_result"
    }
   ],
   "source": [
    "results.columns"
   ]
  },
  {
   "cell_type": "code",
   "execution_count": 12,
   "metadata": {},
   "outputs": [
    {
     "data": {
      "text/plain": [
       "<matplotlib.axes._subplots.AxesSubplot at 0x7f1a94dec240>"
      ]
     },
     "execution_count": 12,
     "metadata": {},
     "output_type": "execute_result"
    },
    {
     "data": {
      "image/png": "[encoded data removed]",
      "text/plain": [
       "<Figure size 841.68x595.44 with 1 Axes>"
      ]
     },
     "metadata": {},
     "output_type": "display_data"
    }
   ],
   "source": [
    "results.groupby(\"grant_id\").size().hist()"
   ]
  },
  {
   "cell_type": "code",
   "execution_count": 13,
   "metadata": {},
   "outputs": [],
   "source": [
    "mean_metrics = results.groupby(\"grant_id\")[['citation_score', 'citations', 'fb_pages', 'twitter_accounts']].mean()"
   ]
  },
  {
   "cell_type": "code",
   "execution_count": 14,
   "metadata": {},
   "outputs": [
    {
     "data": {
      "text/plain": [
       "(0.0, 1200.0)"
      ]
     },
     "execution_count": 14,
     "metadata": {},
     "output_type": "execute_result"
    },
    {
     "data": {
      "image/png": "[encoded data removed]",
      "text/plain": [
       "<Figure size 841.68x595.44 with 1 Axes>"
      ]
     },
     "metadata": {},
     "output_type": "display_data"
    }
   ],
   "source": [
    "pdf = results.melt(id_vars=\"grant_id\", value_vars=\"citations\")\n",
    "sns.distplot(pdf.value.dropna())\n",
    "plt.xlim(0,1200)"
   ]
  },
  {
   "cell_type": "code",
   "execution_count": 1,
   "metadata": {},
   "outputs": [
    {
     "ename": "NameError",
     "evalue": "name 'results' is not defined",
     "output_type": "error",
     "traceback": [
      "\u001b[0;31m---------------------------------------------------------------------------\u001b[0m",
      "\u001b[0;31mNameError\u001b[0m                                 Traceback (most recent call last)",
      "\u001b[0;32m<ipython-input-1-39feb7004b00>\u001b[0m in \u001b[0;36m<module>\u001b[0;34m\u001b[0m\n\u001b[0;32m----> 1\u001b[0;31m \u001b[0mpdf\u001b[0m \u001b[0;34m=\u001b[0m \u001b[0mresults\u001b[0m\u001b[0;34m.\u001b[0m\u001b[0mmelt\u001b[0m\u001b[0;34m(\u001b[0m\u001b[0mid_vars\u001b[0m\u001b[0;34m=\u001b[0m\u001b[0;34m\"grant_id\"\u001b[0m\u001b[0;34m,\u001b[0m \u001b[0mvalue_vars\u001b[0m\u001b[0;34m=\u001b[0m\u001b[0;34m[\u001b[0m\u001b[0;34m'citation_score'\u001b[0m\u001b[0;34m,\u001b[0m \u001b[0;34m'citations'\u001b[0m\u001b[0;34m,\u001b[0m \u001b[0;34m'fb_pages'\u001b[0m\u001b[0;34m,\u001b[0m \u001b[0;34m'twitter_accounts'\u001b[0m\u001b[0;34m]\u001b[0m\u001b[0;34m)\u001b[0m\u001b[0;34m\u001b[0m\u001b[0;34m\u001b[0m\u001b[0m\n\u001b[0m\u001b[1;32m      2\u001b[0m \u001b[0msns\u001b[0m\u001b[0;34m.\u001b[0m\u001b[0mboxplot\u001b[0m\u001b[0;34m(\u001b[0m\u001b[0my\u001b[0m\u001b[0;34m=\u001b[0m\u001b[0;34m\"variable\"\u001b[0m\u001b[0;34m,\u001b[0m \u001b[0mx\u001b[0m\u001b[0;34m=\u001b[0m\u001b[0;34m\"value\"\u001b[0m\u001b[0;34m,\u001b[0m \u001b[0mdata\u001b[0m\u001b[0;34m=\u001b[0m\u001b[0mpdf\u001b[0m\u001b[0;34m)\u001b[0m\u001b[0;34m\u001b[0m\u001b[0;34m\u001b[0m\u001b[0m\n\u001b[1;32m      3\u001b[0m \u001b[0mplt\u001b[0m\u001b[0;34m.\u001b[0m\u001b[0mxlim\u001b[0m\u001b[0;34m(\u001b[0m\u001b[0;36m0\u001b[0m\u001b[0;34m,\u001b[0m\u001b[0;36m25\u001b[0m\u001b[0;34m)\u001b[0m\u001b[0;34m;\u001b[0m\u001b[0;34m\u001b[0m\u001b[0;34m\u001b[0m\u001b[0m\n",
      "\u001b[0;31mNameError\u001b[0m: name 'results' is not defined"
     ]
    }
   ],
   "source": [
    "pdf = results.melt(id_vars=\"grant_id\", value_vars=['citation_score', 'citations', 'fb_pages', 'twitter_accounts'])\n",
    "sns.boxplot(y=\"variable\", x=\"value\", data=pdf)\n",
    "plt.xlim(0,25);"
   ]
  }
 ],
 "metadata": {
  "kernelspec": {
   "display_name": "Python 3.6.10 64-bit ('.venv': venv)",
   "language": "python",
   "name": "python361064bitvenvvenvcdc679201519459280111e6b577316b7"
  },
  "language_info": {
   "codemirror_mode": {
    "name": "ipython",
    "version": 3
   },
   "file_extension": ".py",
   "mimetype": "text/x-python",
   "name": "python",
   "nbconvert_exporter": "python",
   "pygments_lexer": "ipython3",
   "version": "3.6.10"
  }
 },
 "nbformat": 4,
 "nbformat_minor": 4
}
