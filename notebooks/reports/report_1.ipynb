{
 "cells": [
  {
   "cell_type": "code",
   "execution_count": 3,
   "metadata": {},
   "outputs": [],
   "source": [
    "import pandas as pd\n",
    "\n",
    "import matplotlib.pyplot as plt\n",
    "import seaborn as sns"
   ]
  },
  {
   "cell_type": "code",
   "execution_count": 2,
   "metadata": {},
   "outputs": [],
   "source": [
    "from tracking_grants.utils.helpers import load_articles, load_metrics, load_awards"
   ]
  },
  {
   "cell_type": "code",
   "execution_count": 8,
   "metadata": {},
   "outputs": [],
   "source": [
    "articles = load_articles()\n",
    "metrics = load_metrics()\n",
    "awards = load_awards()"
   ]
  },
  {
   "cell_type": "markdown",
   "metadata": {},
   "source": [
    "For any research program in the CDRMP we can provide insights on the award level:\n",
    "\n",
    "- Measures of scholarly impact\n",
    "    - Citations\n",
    "    - The number and phases of related clinical trials\n",
    "- Measures of societal impact\n",
    "    - Social Media\n",
    "    - Wikipedia\n",
    "    - News\n",
    "- OA status and information"
   ]
  },
  {
   "cell_type": "markdown",
   "metadata": {},
   "source": [
    "## Question: Which citations are we using?\n",
    "\n",
    "**Web of Science (field-normalized score) or Crossref (higher coverage)?**"
   ]
  },
  {
   "cell_type": "markdown",
   "metadata": {},
   "source": [
    "## Part 1 - Data Gathering and Enhancement"
   ]
  },
  {
   "cell_type": "markdown",
   "metadata": {},
   "source": [
    "### Slide - Overview of the data pipeline\n",
    "\n",
    "Input:\n",
    "\n",
    "- CDRMP: Awards, Publications\n",
    "\n",
    "Data sources we are pulling in:\n",
    "\n",
    "- Crossref: DOIs, Scholarly Metadata, Open Citations\n",
    "- NIH: Pubmed IDs, Clinical Trials\n",
    "- Web of Science: Citations\n",
    "- Altmetric.com: Alternative metrics\n",
    "- Unpaywall: Open Access status & links"
   ]
  },
  {
   "cell_type": "markdown",
   "metadata": {},
   "source": [
    "### Slide - Overall descriptives\n",
    "\n",
    "- Which research programs are we using?\n",
    "- How many articles?\n",
    "- How many awards?\n",
    "- Distribution of years publised in?"
   ]
  },
  {
   "cell_type": "markdown",
   "metadata": {},
   "source": [
    "### Slide - Coverage on the publication level\n",
    "\n",
    "- How many DOIs and PMIDs could we identify and match\n",
    "- How many articles have metrics:\n",
    "    - citations\n",
    "    - altmetrics\n",
    "- How many articles had clinical trials?"
   ]
  },
  {
   "cell_type": "markdown",
   "metadata": {},
   "source": [
    "## Part 2 - Data on the grant level\n",
    "\n",
    "After collecting article-level data we can offer insights on the grant level by aggregating by the IDs."
   ]
  },
  {
   "cell_type": "markdown",
   "metadata": {},
   "source": [
    "### Slide - Overview of grants\n",
    "\n",
    "- How many per research program?\n",
    "- Average size of awards (publications, award sizes)"
   ]
  },
  {
   "cell_type": "markdown",
   "metadata": {},
   "source": [
    "### Slide - Measuring grant outputs\n",
    "\n",
    "Boxplots for various metrics: citations, twitter, news, ..."
   ]
  },
  {
   "cell_type": "markdown",
   "metadata": {},
   "source": [
    "## Part 3 - Not all grants are the same"
   ]
  },
  {
   "cell_type": "markdown",
   "metadata": {},
   "source": [
    "### Slide - Comparing grants\n",
    "\n",
    "- Crossplots on the grant level\n",
    "    - Citations, Twitter, News"
   ]
  },
  {
   "cell_type": "markdown",
   "metadata": {},
   "source": [
    "### Slide - Clinical Trials\n",
    "\n",
    "Which grants have produced most clinical trials?\n",
    "\n",
    "Which grants have produced clinical trials in more advanced phases?"
   ]
  },
  {
   "cell_type": "markdown",
   "metadata": {},
   "source": [
    "### Slide"
   ]
  }
 ],
 "metadata": {
  "kernelspec": {
   "display_name": "tracking-grants",
   "language": "python",
   "name": "tracking-grants"
  },
  "language_info": {
   "codemirror_mode": {
    "name": "ipython",
    "version": 3
   },
   "file_extension": ".py",
   "mimetype": "text/x-python",
   "name": "python",
   "nbconvert_exporter": "python",
   "pygments_lexer": "ipython3",
   "version": "3.6.10"
  }
 },
 "nbformat": 4,
 "nbformat_minor": 4
}
