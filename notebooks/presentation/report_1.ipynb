{
 "cells": [
  {
   "cell_type": "code",
   "execution_count": 1,
   "metadata": {
    "slideshow": {
     "slide_type": "skip"
    }
   },
   "outputs": [],
   "source": [
    "import pandas as pd\n",
    "import numpy as np\n",
    "\n",
    "import matplotlib.pyplot as plt\n",
    "import seaborn as sns"
   ]
  },
  {
   "cell_type": "code",
   "execution_count": 2,
   "metadata": {
    "slideshow": {
     "slide_type": "skip"
    }
   },
   "outputs": [],
   "source": [
    "from tracking_grants.utils.helpers import load_articles, load_metrics, load_awards, load_grants"
   ]
  },
  {
   "cell_type": "code",
   "execution_count": 4,
   "metadata": {
    "slideshow": {
     "slide_type": "skip"
    }
   },
   "outputs": [],
   "source": [
    "articles = load_articles()\n",
    "metrics = load_metrics()\n",
    "awards = load_awards()\n",
    "grants = load_grants()"
   ]
  },
  {
   "cell_type": "markdown",
   "metadata": {
    "slideshow": {
     "slide_type": "slide"
    }
   },
   "source": [
    "# Tracking Grants\n",
    "\n",
    "29.07.2020, ScholCommLab"
   ]
  },
  {
   "cell_type": "markdown",
   "metadata": {
    "slideshow": {
     "slide_type": "slide"
    }
   },
   "source": [
    "## Part 0 - Goals/Overview"
   ]
  },
  {
   "cell_type": "markdown",
   "metadata": {
    "slideshow": {
     "slide_type": "subslide"
    }
   },
   "source": [
    "### What we hope this data can do (and what it cannot)\n",
    "\n",
    "- Enhance the available data regarding these programs with other sources\n",
    "- Provide an high-level overview of the outputs of each funding program\n",
    "- Give a sense of future areas of exploration"
   ]
  },
  {
   "cell_type": "markdown",
   "metadata": {
    "slideshow": {
     "slide_type": "subslide"
    }
   },
   "source": [
    "### What we are not doing\n",
    "\n",
    "- Not doing a detailed assessment of grants, papers, or programs\n",
    "- Not evaluating the quality of the work, efficiency of the programs, of measuring if they are meeting their stated objectives. \n",
    "- Citations ≠ quality, Altmetrics ≠ public value, News ≠ saliency"
   ]
  },
  {
   "cell_type": "markdown",
   "metadata": {
    "slideshow": {
     "slide_type": "slide"
    }
   },
   "source": [
    "## Part 1 - Data Gathering and Enhancement"
   ]
  },
  {
   "cell_type": "markdown",
   "metadata": {
    "slideshow": {
     "slide_type": "subslide"
    }
   },
   "source": [
    "### Overview of the data pipeline\n",
    "\n",
    "![](tracking_grants_flowchart.png)"
   ]
  },
  {
   "cell_type": "markdown",
   "metadata": {
    "slideshow": {
     "slide_type": "subslide"
    }
   },
   "source": [
    "### Overall descriptives\n",
    "\n",
    "- Which research programs are we using?\n",
    "- How many articles?\n",
    "- How many awards?\n",
    "- Distribution of years published in?"
   ]
  },
  {
   "cell_type": "markdown",
   "metadata": {
    "slideshow": {
     "slide_type": "subslide"
    }
   },
   "source": [
    "### Coverage on the publication level\n",
    "\n",
    "- How many DOIs could we identify and match: Venn Diagram of:\n",
    "    - All articles\n",
    "    - Matched DOI\n",
    "- 2nd Venn Diagrams of DOIs\n",
    "    - Matched with PMID\n",
    "    - Matched in WoS\n",
    "    - Matched in Altmetric.com"
   ]
  },
  {
   "cell_type": "markdown",
   "metadata": {
    "slideshow": {
     "slide_type": "subslide"
    }
   },
   "source": [
    "### Clinical Trials\n",
    "\n",
    "- How many articles (with DOIs) had clinical trials?\n",
    "- How many grants had clinical trials?\n",
    "- Distribution of phases (table?)"
   ]
  },
  {
   "cell_type": "markdown",
   "metadata": {
    "slideshow": {
     "slide_type": "slide"
    }
   },
   "source": [
    "## Part 2 - Data on the grant level\n",
    "\n",
    "After collecting article-level data we can offer insights on the grant level by aggregating by the IDs."
   ]
  },
  {
   "cell_type": "markdown",
   "metadata": {
    "slideshow": {
     "slide_type": "subslide"
    }
   },
   "source": [
    "### Slide - Overview of grants\n",
    "\n",
    "- How many per research program?\n",
    "- Average size of awards (publications, award sizes)"
   ]
  },
  {
   "cell_type": "markdown",
   "metadata": {
    "slideshow": {
     "slide_type": "subslide"
    }
   },
   "source": [
    "### Slide - Measuring grant outputs\n",
    "\n",
    "Boxplots for various metrics: citations, twitter, news, ..."
   ]
  },
  {
   "cell_type": "markdown",
   "metadata": {
    "slideshow": {
     "slide_type": "slide"
    }
   },
   "source": [
    "## Part 3 - Not all grants are the same"
   ]
  },
  {
   "cell_type": "markdown",
   "metadata": {
    "slideshow": {
     "slide_type": "subslide"
    }
   },
   "source": [
    "### Overview of grants\n",
    "- How many per research program?\n",
    "- Average size/distribution of awards\n",
    "    - Number of Publications\n",
    "    - Award sizes"
   ]
  },
  {
   "cell_type": "markdown",
   "metadata": {
    "slideshow": {
     "slide_type": "subslide"
    }
   },
   "source": [
    "### Award Types\n",
    "- Break down # of Publications and $ by award type"
   ]
  },
  {
   "cell_type": "markdown",
   "metadata": {
    "slideshow": {
     "slide_type": "slide"
    }
   },
   "source": [
    "## Part 4 - Not all grants are the same"
   ]
  },
  {
   "cell_type": "markdown",
   "metadata": {},
   "source": [
    "### Measuring grant outputs\n",
    "\n",
    "- Boxplots for various metrics: citations, twitter, news, .."
   ]
  },
  {
   "cell_type": "markdown",
   "metadata": {
    "slideshow": {
     "slide_type": "subslide"
    }
   },
   "source": [
    "### Pairplot on the grant level (3x3 plots)\n",
    "\n",
    "- Color by award type?\n",
    "- Size of bubble by funding amount\n",
    "- 3 plots: Citations, Twitter, News, (Clinical trials?)"
   ]
  },
  {
   "cell_type": "markdown",
   "metadata": {
    "slideshow": {
     "slide_type": "subslide"
    }
   },
   "source": [
    "### Pairplots: \n",
    "\n",
    "- Bubbles are grants\n",
    "    - \\$ vs # paper\n",
    "    - \\$ vs # citation\n",
    "    - \\$ vs # tweet "
   ]
  },
  {
   "cell_type": "markdown",
   "metadata": {
    "slideshow": {
     "slide_type": "slide"
    }
   },
   "source": [
    "## Part 5 - Limitations"
   ]
  },
  {
   "cell_type": "markdown",
   "metadata": {
    "slideshow": {
     "slide_type": "subslide"
    }
   },
   "source": [
    "### Data quality and completeness\n",
    "\n",
    "- We are not fetching papers, only using data provided\n",
    "- We are matching citation strings to Crossref database: there’s an error rate in this matching\n",
    "- Citations from WoS only count citing papers from other WoS papers\n",
    "- Altmetric and Unpaywall are also known to have some errors (as with any database drawn from searching the Web)."
   ]
  }
 ],
 "metadata": {
  "kernelspec": {
   "display_name": "tracking-grants",
   "language": "python",
   "name": "tracking-grants"
  },
  "language_info": {
   "codemirror_mode": {
    "name": "ipython",
    "version": 3
   },
   "file_extension": ".py",
   "mimetype": "text/x-python",
   "name": "python",
   "nbconvert_exporter": "python",
   "pygments_lexer": "ipython3",
   "version": "3.6.10"
  }
 },
 "nbformat": 4,
 "nbformat_minor": 4
}
