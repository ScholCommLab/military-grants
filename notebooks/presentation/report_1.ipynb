{
 "cells": [
  {
   "cell_type": "code",
   "execution_count": 1,
   "metadata": {
    "slideshow": {
     "slide_type": "skip"
    }
   },
   "outputs": [],
   "source": [
    "import pandas as pd\n",
    "import numpy as np\n",
    "\n",
    "import matplotlib.pyplot as plt\n",
    "import matplotlib.patches as mpatches\n",
    "\n",
    "import seaborn as sns\n",
    "\n",
    "from matplotlib_venn import venn3, venn2\n",
    "from tracking_grants.utils.helpers import load_references, load_articles, load_metrics, load_awards, load_grants, load_trials"
   ]
  },
  {
   "cell_type": "code",
   "execution_count": 4,
   "metadata": {
    "slideshow": {
     "slide_type": "skip"
    }
   },
   "outputs": [],
   "source": [
    "# sns.set_context(\"notebook\")\n",
    "\n",
    "# Color palette\n",
    "cm = \"Paired\"\n",
    "cp3 = sns.color_palette(cm, 3)\n",
    "cp10 = sns.color_palette(cm, 10)\n",
    "\n",
    "# plt.style.use('https://github.com/dhaitz/matplotlib-stylesheets/raw/master/pitayasmoothie-light.mplstyle')"
   ]
  },
  {
   "cell_type": "code",
   "execution_count": 5,
   "metadata": {
    "slideshow": {
     "slide_type": "skip"
    }
   },
   "outputs": [],
   "source": [
    "refs = load_references()\n",
    "articles = load_articles()\n",
    "metrics = load_metrics()\n",
    "awards = load_awards()\n",
    "grants = load_grants()\n",
    "trials = load_trials()"
   ]
  },
  {
   "cell_type": "markdown",
   "metadata": {
    "slideshow": {
     "slide_type": "slide"
    }
   },
   "source": [
    "# Tracking Grants\n",
    "\n",
    "29.07.2020, ScholCommLab"
   ]
  },
  {
   "cell_type": "markdown",
   "metadata": {
    "slideshow": {
     "slide_type": "slide"
    }
   },
   "source": [
    "## Part 0 - Goals/Overview"
   ]
  },
  {
   "cell_type": "markdown",
   "metadata": {
    "slideshow": {
     "slide_type": "subslide"
    }
   },
   "source": [
    "### What we hope this data can do (and what it cannot)\n",
    "\n",
    "- Enhance the available data regarding these programs with other sources\n",
    "- Provide an high-level overview of the outputs of each funding program\n",
    "- Give a sense of future areas of exploration"
   ]
  },
  {
   "cell_type": "markdown",
   "metadata": {
    "slideshow": {
     "slide_type": "subslide"
    }
   },
   "source": [
    "### What we are not doing\n",
    "\n",
    "- Not doing a detailed assessment of grants, papers, or programs\n",
    "- Not evaluating the quality of the work, efficiency of the programs, of measuring if they are meeting their stated objectives. \n",
    "- Citations ≠ quality, Altmetrics ≠ public value, News ≠ saliency"
   ]
  },
  {
   "cell_type": "markdown",
   "metadata": {
    "slideshow": {
     "slide_type": "slide"
    }
   },
   "source": [
    "## Part 1 - Data Gathering and Enhancement"
   ]
  },
  {
   "cell_type": "markdown",
   "metadata": {
    "slideshow": {
     "slide_type": "subslide"
    }
   },
   "source": [
    "### Overview of the data pipeline\n",
    "\n",
    "![](tracking_grants_flowchart.png)"
   ]
  },
  {
   "cell_type": "code",
   "execution_count": 65,
   "metadata": {
    "slideshow": {
     "slide_type": "skip"
    }
   },
   "outputs": [],
   "source": [
    "def plot_awards_pubs_over_years():\n",
    "    df = articles.drop_duplicates(\"DOI\").created.value_counts().to_frame(\"Publications\")\n",
    "    df['Awards'] = awards.award_year.value_counts()\n",
    "    df.index.name = \"Year\"\n",
    "    df = df.reset_index().melt(id_vars=\"Year\", value_name=\"Count\", var_name=\"Type\")\n",
    "    sns.barplot(x=\"Year\", y=\"Count\", hue=\"Type\", data=df)\n",
    "    plt.savefig(\"plot_awards_pubs_over_years.png\")\n",
    "    plt.close()\n",
    "    \n",
    "plot_awards_pubs_over_years()"
   ]
  },
  {
   "cell_type": "markdown",
   "metadata": {
    "slideshow": {
     "slide_type": "subslide"
    }
   },
   "source": [
    "### Overall descriptives\n",
    "\n",
    "Research programs and # of deposited references: PCRP (7337), NFRP (624), TSCRP (202)\n",
    "    \n",
    "![plot_awards_pubs_over_years.png](plot_awards_pubs_over_years.png)"
   ]
  },
  {
   "cell_type": "code",
   "execution_count": 52,
   "metadata": {
    "slideshow": {
     "slide_type": "skip"
    }
   },
   "outputs": [],
   "source": [
    "def venn_refs():\n",
    "    all_articles = set(refs.reference_id.unique().tolist())\n",
    "    articles_w_altm = set(articles.reference_id.unique().tolist())\n",
    "\n",
    "    total = len(all_articles)\n",
    "\n",
    "    v = venn2([all_articles, articles_w_altm],\n",
    "          set_labels=('', '', ''),\n",
    "          subset_label_formatter=lambda x: \"{:,} ({:.1f}%)\".format(x, 100*x/total));\n",
    "\n",
    "    v.get_patch_by_id('10').set_color(cp3[0])\n",
    "    v.get_patch_by_id('11').set_color(np.add(cp3[0], cp3[1])/2)\n",
    "#     v.get_patch_by_id('001').set_color(np.add(cp3[0], cp3[2])/2)\n",
    "#     v.get_patch_by_id('111').set_color(np.add(np.add(cp3[1], cp3[0]), cp3[2]) / 3)\n",
    "\n",
    "    for text in v.set_labels:\n",
    "        text.set_fontsize(10)\n",
    "    # for text in v.subset_labels:\n",
    "    #     text.set_fontsize(12)\n",
    "\n",
    "    handles = []\n",
    "    labels=[\"Total references\", \"Found in Crossref\"]\n",
    "    for l, c in zip(labels, [cp3[0], np.add(cp3[0], cp3[1])/2, np.add(cp3[0], cp3[2])/2]):\n",
    "        handles.append(mpatches.Patch(color=c, label=l))\n",
    "    plt.legend(handles=handles);\n",
    "    plt.savefig(\"venn_refs.png\")\n",
    "    plt.close()\n",
    "    \n",
    "venn_refs()"
   ]
  },
  {
   "cell_type": "markdown",
   "metadata": {
    "slideshow": {
     "slide_type": "subslide"
    }
   },
   "source": [
    "### Coverage of references found in Crossref\n",
    "\n",
    "8,164 references were matched to 6,923 DOIs.\n",
    "\n",
    "![venn_refs.png](venn_refs.png)"
   ]
  },
  {
   "cell_type": "code",
   "execution_count": 30,
   "metadata": {
    "slideshow": {
     "slide_type": "skip"
    }
   },
   "outputs": [],
   "source": [
    "def venn_metrics():\n",
    "    all_articles = set(articles.DOI.unique().tolist())\n",
    "    articles_w_altm = set(metrics[metrics.twitter_accounts.notna()].DOI.unique().tolist())\n",
    "    articles_w_cit = set(metrics[metrics.wos_citations.notna()].DOI.unique().tolist())\n",
    "\n",
    "    total = len(all_articles)\n",
    "\n",
    "    v = venn3([all_articles, articles_w_altm, articles_w_cit],\n",
    "          set_labels=('', '', ''),\n",
    "          subset_label_formatter=lambda x: \"{:,} ({:.1f}%)\".format(x, 100*x/total));\n",
    "\n",
    "    v.get_patch_by_id('100').set_color(cp3[0])\n",
    "    v.get_patch_by_id('110').set_color(np.add(cp3[0], cp3[1])/2)\n",
    "    v.get_patch_by_id('101').set_color(np.add(cp3[0], cp3[2])/2)\n",
    "    v.get_patch_by_id('111').set_color(np.add(np.add(cp3[1], cp3[0]), cp3[2]) / 3)\n",
    "\n",
    "    for text in v.set_labels:\n",
    "        text.set_fontsize(10)\n",
    "    # for text in v.subset_labels:\n",
    "    #     text.set_fontsize(12)\n",
    "\n",
    "    handles = []\n",
    "    labels=[\"Articles found\", \"WoS\", \"Twitter\"]\n",
    "    for l, c in zip(labels, [cp3[0], np.add(cp3[0], cp3[1])/2, np.add(cp3[0], cp3[2])/2]):\n",
    "        handles.append(mpatches.Patch(color=c, label=l))\n",
    "    plt.legend(handles=handles);\n",
    "    plt.savefig(\"venn_metrics.png\")\n",
    "    plt.close()\n",
    "    \n",
    "venn_metrics()"
   ]
  },
  {
   "cell_type": "markdown",
   "metadata": {
    "slideshow": {
     "slide_type": "subslide"
    }
   },
   "source": [
    "### Coverage of DOIs in the WoS and Twitter\n",
    "\n",
    "![venn_metrics.png](venn_metrics.png)"
   ]
  },
  {
   "cell_type": "markdown",
   "metadata": {
    "slideshow": {
     "slide_type": "subslide"
    }
   },
   "source": [
    "### Clinical Trials\n",
    "\n",
    "- How many articles (with DOIs) had clinical trials?\n",
    "- How many grants had clinical trials?\n",
    "- Distribution of phases (table?)"
   ]
  },
  {
   "cell_type": "code",
   "execution_count": 60,
   "metadata": {},
   "outputs": [
    {
     "data": {
      "text/plain": [
       "217"
      ]
     },
     "execution_count": 60,
     "metadata": {},
     "output_type": "execute_result"
    }
   ],
   "source": [
    "metrics[metrics.n_trials.notna()].DOI.nunique()"
   ]
  },
  {
   "cell_type": "code",
   "execution_count": 63,
   "metadata": {},
   "outputs": [
    {
     "data": {
      "text/plain": [
       "165"
      ]
     },
     "execution_count": 63,
     "metadata": {},
     "output_type": "execute_result"
    }
   ],
   "source": [
    "grants[grants.n_trials.notna()].grant_id.nunique()"
   ]
  },
  {
   "cell_type": "code",
   "execution_count": 13,
   "metadata": {},
   "outputs": [
    {
     "data": {
      "text/plain": [
       "<matplotlib.axes._subplots.AxesSubplot at 0x7f4527880780>"
      ]
     },
     "execution_count": 13,
     "metadata": {},
     "output_type": "execute_result"
    },
    {
     "data": {
      "image/png": "[encoded data removed]",
      "text/plain": [
       "<Figure size 841.68x595.44 with 1 Axes>"
      ]
     },
     "metadata": {},
     "output_type": "display_data"
    }
   ],
   "source": [
    "trials.Phase.value_counts().reindex([\"Early Phase 1\", \"Phase 1\", \"Phase 2\", \"Phase 3\", \"Phase 4\", \"Not Applicable\"]).plot(kind=\"bar\")"
   ]
  },
  {
   "cell_type": "markdown",
   "metadata": {
    "slideshow": {
     "slide_type": "slide"
    }
   },
   "source": [
    "## Part 2 - Data on the grant level\n",
    "\n",
    "After collecting article-level data we can offer insights on the grant level by aggregating by the IDs."
   ]
  },
  {
   "cell_type": "markdown",
   "metadata": {
    "slideshow": {
     "slide_type": "subslide"
    }
   },
   "source": [
    "### Slide - Overview of grants\n",
    "\n",
    "- How many per research program?\n",
    "- Average size of awards (publications, award sizes)"
   ]
  },
  {
   "cell_type": "markdown",
   "metadata": {
    "slideshow": {
     "slide_type": "subslide"
    }
   },
   "source": [
    "### Slide - Measuring grant outputs\n",
    "\n",
    "Boxplots for various metrics: citations, twitter, news, ..."
   ]
  },
  {
   "cell_type": "markdown",
   "metadata": {
    "slideshow": {
     "slide_type": "slide"
    }
   },
   "source": [
    "## Part 3 - Not all grants are the same"
   ]
  },
  {
   "cell_type": "markdown",
   "metadata": {
    "slideshow": {
     "slide_type": "subslide"
    }
   },
   "source": [
    "### Overview of grants\n",
    "- How many per research program?\n",
    "- Average size/distribution of awards\n",
    "    - Number of Publications\n",
    "    - Award sizes"
   ]
  },
  {
   "cell_type": "markdown",
   "metadata": {
    "slideshow": {
     "slide_type": "subslide"
    }
   },
   "source": [
    "### Award Types\n",
    "- Break down # of Publications and $ by award type"
   ]
  },
  {
   "cell_type": "markdown",
   "metadata": {
    "slideshow": {
     "slide_type": "slide"
    }
   },
   "source": [
    "## Part 4 - Not all grants are the same"
   ]
  },
  {
   "cell_type": "markdown",
   "metadata": {},
   "source": [
    "### Measuring grant outputs\n",
    "\n",
    "- Boxplots for various metrics: citations, twitter, news, .."
   ]
  },
  {
   "cell_type": "markdown",
   "metadata": {
    "slideshow": {
     "slide_type": "subslide"
    }
   },
   "source": [
    "### Pairplot on the grant level (3x3 plots)\n",
    "\n",
    "- Color by award type?\n",
    "- Size of bubble by funding amount\n",
    "- 3 plots: Citations, Twitter, News, (Clinical trials?)"
   ]
  },
  {
   "cell_type": "markdown",
   "metadata": {
    "slideshow": {
     "slide_type": "subslide"
    }
   },
   "source": [
    "### Pairplots: \n",
    "\n",
    "- Bubbles are grants\n",
    "    - \\$ vs # paper\n",
    "    - \\$ vs # citation\n",
    "    - \\$ vs # tweet "
   ]
  },
  {
   "cell_type": "markdown",
   "metadata": {
    "slideshow": {
     "slide_type": "slide"
    }
   },
   "source": [
    "## Part 5 - Limitations"
   ]
  },
  {
   "cell_type": "markdown",
   "metadata": {
    "slideshow": {
     "slide_type": "subslide"
    }
   },
   "source": [
    "### Data quality and completeness\n",
    "\n",
    "- We are not fetching papers, only using data provided\n",
    "- We are matching citation strings to Crossref database: there’s an error rate in this matching\n",
    "- Citations from WoS only count citing papers from other WoS papers\n",
    "- Altmetric and Unpaywall are also known to have some errors (as with any database drawn from searching the Web)."
   ]
  }
 ],
 "metadata": {
  "kernelspec": {
   "display_name": "tracking-grants",
   "language": "python",
   "name": "tracking-grants"
  },
  "language_info": {
   "codemirror_mode": {
    "name": "ipython",
    "version": 3
   },
   "file_extension": ".py",
   "mimetype": "text/x-python",
   "name": "python",
   "nbconvert_exporter": "python",
   "pygments_lexer": "ipython3",
   "version": "3.6.10"
  }
 },
 "nbformat": 4,
 "nbformat_minor": 4
}
