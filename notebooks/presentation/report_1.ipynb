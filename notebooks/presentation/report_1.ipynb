{
 "cells": [
  {
   "cell_type": "code",
   "execution_count": 194,
   "metadata": {
    "slideshow": {
     "slide_type": "skip"
    }
   },
   "outputs": [],
   "source": [
    "import pandas as pd\n",
    "import numpy as np\n",
    "\n",
    "import matplotlib.pyplot as plt\n",
    "import matplotlib.patches as mpatches\n",
    "\n",
    "import seaborn as sns\n",
    "\n",
    "from IPython.display import Markdown as md\n",
    "from matplotlib_venn import venn3, venn2\n",
    "from tracking_grants.utils.helpers import load_references, load_articles, load_metrics, load_awards, load_grants, load_trials"
   ]
  },
  {
   "cell_type": "code",
   "execution_count": 2,
   "metadata": {
    "slideshow": {
     "slide_type": "skip"
    }
   },
   "outputs": [],
   "source": [
    "# sns.set_context(\"notebook\")\n",
    "\n",
    "# Color palette\n",
    "cm = \"Paired\"\n",
    "cp3 = sns.color_palette(cm, 3)\n",
    "cp10 = sns.color_palette(cm, 10)\n",
    "\n",
    "# plt.style.use('https://github.com/dhaitz/matplotlib-stylesheets/raw/master/pitayasmoothie-light.mplstyle')"
   ]
  },
  {
   "cell_type": "code",
   "execution_count": 129,
   "metadata": {
    "slideshow": {
     "slide_type": "skip"
    }
   },
   "outputs": [],
   "source": [
    "refs = load_references()\n",
    "articles = load_articles()\n",
    "metrics = load_metrics()\n",
    "awards = load_awards()\n",
    "trials = load_trials()\n",
    "grants = load_grants()"
   ]
  },
  {
   "cell_type": "code",
   "execution_count": 157,
   "metadata": {
    "slideshow": {
     "slide_type": "skip"
    }
   },
   "outputs": [],
   "source": [
    "# Some report-specific processing\n",
    "\n",
    "# remove some observations from dataset\n",
    "# grants = grants[grants.program!=\"PRORP\"]\n",
    "grants = grants[grants.award_amount!=0]\n",
    "grants.wos_citations = grants.wos_citations.replace(0, None)\n",
    "\n",
    "# award categories coded by Lauren\n",
    "grant_cats = pd.read_excel(\"/home/asura/Projects/scholcommlab/tracking-grants/data/external/CDRMP_award_types.xlsx\")\n",
    "df = grant_cats.category.dropna().map(lambda x: [s.strip() for s in x.split(\"/\")])\n",
    "cats = grant_cats[['award type', 'publication count']].join(df.to_frame().explode(\"category\"), how=\"right\")\n",
    "grants = grants.merge(cats[['award type', 'category']], left_on=\"type\", right_on=\"award type\", how=\"left\")\n",
    "grants.loc[grants.category.isna(), 'category'] = \"Other\""
   ]
  },
  {
   "cell_type": "markdown",
   "metadata": {
    "slideshow": {
     "slide_type": "slide"
    }
   },
   "source": [
    "# Tracking Grants\n",
    "\n",
    "29.07.2020, ScholCommLab"
   ]
  },
  {
   "cell_type": "markdown",
   "metadata": {
    "slideshow": {
     "slide_type": "slide"
    }
   },
   "source": [
    "## Part 0 - Goals/Overview"
   ]
  },
  {
   "cell_type": "markdown",
   "metadata": {
    "slideshow": {
     "slide_type": "subslide"
    }
   },
   "source": [
    "### What we hope this data can do (and what it cannot)\n",
    "\n",
    "- Enhance the available data regarding these programs with other sources\n",
    "- Provide an high-level overview of the outputs of each funding program\n",
    "- Give a sense of future areas of exploration"
   ]
  },
  {
   "cell_type": "markdown",
   "metadata": {
    "slideshow": {
     "slide_type": "subslide"
    }
   },
   "source": [
    "### What we are not doing\n",
    "\n",
    "- Not doing a detailed assessment of grants, papers, or programs\n",
    "- Not evaluating the quality of the work, efficiency of the programs, of measuring if they are meeting their stated objectives. \n",
    "- Citations ≠ quality, Altmetrics ≠ public value, News ≠ saliency"
   ]
  },
  {
   "cell_type": "markdown",
   "metadata": {
    "slideshow": {
     "slide_type": "slide"
    }
   },
   "source": [
    "## Part 1 - Data Gathering and Enhancement"
   ]
  },
  {
   "cell_type": "markdown",
   "metadata": {
    "slideshow": {
     "slide_type": "subslide"
    }
   },
   "source": [
    "### Overview of the data pipeline\n",
    "\n",
    "![](tracking_grants_flowchart.png)"
   ]
  },
  {
   "cell_type": "code",
   "execution_count": 12,
   "metadata": {
    "slideshow": {
     "slide_type": "skip"
    }
   },
   "outputs": [],
   "source": [
    "def plot_awards_pubs_over_years():\n",
    "    df = articles.drop_duplicates(\"DOI\").created.value_counts().to_frame(\"Publications\")\n",
    "    df['Awards'] = awards.award_year.value_counts()\n",
    "    df.index.name = \"Year\"\n",
    "    df = df.reset_index().melt(id_vars=\"Year\", value_name=\"Count\", var_name=\"Type\")\n",
    "    sns.barplot(x=\"Year\", y=\"Count\", hue=\"Type\", data=df)\n",
    "    plt.savefig(\"plot_awards_pubs_over_years.png\")\n",
    "    plt.close()\n",
    "    \n",
    "plot_awards_pubs_over_years()"
   ]
  },
  {
   "cell_type": "markdown",
   "metadata": {
    "slideshow": {
     "slide_type": "subslide"
    }
   },
   "source": [
    "### Overall descriptives"
   ]
  },
  {
   "cell_type": "code",
   "execution_count": 206,
   "metadata": {},
   "outputs": [
    {
     "data": {
      "text/html": [
       "<div>\n",
       "<style scoped>\n",
       "    .dataframe tbody tr th:only-of-type {\n",
       "        vertical-align: middle;\n",
       "    }\n",
       "\n",
       "    .dataframe tbody tr th {\n",
       "        vertical-align: top;\n",
       "    }\n",
       "\n",
       "    .dataframe thead th {\n",
       "        text-align: right;\n",
       "    }\n",
       "</style>\n",
       "<table border=\"1\" class=\"dataframe\">\n",
       "  <thead>\n",
       "    <tr style=\"text-align: right;\">\n",
       "      <th></th>\n",
       "      <th>Articles</th>\n",
       "    </tr>\n",
       "  </thead>\n",
       "  <tbody>\n",
       "    <tr>\n",
       "      <th>PCRP</th>\n",
       "      <td>7434</td>\n",
       "    </tr>\n",
       "    <tr>\n",
       "      <th>NFRP</th>\n",
       "      <td>624</td>\n",
       "    </tr>\n",
       "    <tr>\n",
       "      <th>PRORP</th>\n",
       "      <td>335</td>\n",
       "    </tr>\n",
       "    <tr>\n",
       "      <th>TSCRP</th>\n",
       "      <td>202</td>\n",
       "    </tr>\n",
       "  </tbody>\n",
       "</table>\n",
       "</div>"
      ],
      "text/plain": [
       "       Articles\n",
       "PCRP       7434\n",
       "NFRP        624\n",
       "PRORP       335\n",
       "TSCRP       202"
      ]
     },
     "execution_count": 206,
     "metadata": {},
     "output_type": "execute_result"
    }
   ],
   "source": [
    "articles.program.value_counts().to_frame(\"Articles\")"
   ]
  },
  {
   "cell_type": "markdown",
   "metadata": {
    "slideshow": {
     "slide_type": "subslide"
    }
   },
   "source": [
    "### Publications and awards over years"
   ]
  },
  {
   "cell_type": "markdown",
   "metadata": {},
   "source": [
    "![plot_awards_pubs_over_years.png](plot_awards_pubs_over_years.png)"
   ]
  },
  {
   "cell_type": "code",
   "execution_count": 224,
   "metadata": {
    "slideshow": {
     "slide_type": "skip"
    }
   },
   "outputs": [],
   "source": [
    "def venn_refs():\n",
    "    all_articles = set(refs.reference_id.unique().tolist())\n",
    "    articles_w_altm = set(articles.reference_id.unique().tolist())\n",
    "\n",
    "    total = len(all_articles)\n",
    "\n",
    "    v = venn2([all_articles, articles_w_altm],\n",
    "          set_labels=('', ''),\n",
    "          subset_label_formatter=lambda x: \"{:,} ({:.1f}%)\".format(x, 100*x/total));\n",
    "\n",
    "    v.get_patch_by_id('10').set_color(cp3[0])\n",
    "    v.get_patch_by_id('11').set_color(np.add(cp3[0], cp3[1])/2)\n",
    "#     v.get_patch_by_id('001').set_color(np.add(cp3[0], cp3[2])/2)\n",
    "#     v.get_patch_by_id('111').set_color(np.add(np.add(cp3[1], cp3[0]), cp3[2]) / 3)\n",
    "\n",
    "    for text in v.set_labels:\n",
    "        text.set_fontsize(10)\n",
    "    # for text in v.subset_labels:\n",
    "    #     text.set_fontsize(12)\n",
    "\n",
    "    handles = []\n",
    "    labels=[\"Total references\", \"Found in Crossref\"]\n",
    "    for l, c in zip(labels, [cp3[0], np.add(cp3[0], cp3[1])/2, np.add(cp3[0], cp3[2])/2]):\n",
    "        handles.append(mpatches.Patch(color=c, label=l))\n",
    "    plt.legend(handles=handles);\n",
    "    plt.savefig(\"venn_refs.png\")\n",
    "    plt.close()\n",
    "    \n",
    "venn_refs()"
   ]
  },
  {
   "cell_type": "markdown",
   "metadata": {
    "slideshow": {
     "slide_type": "subslide"
    }
   },
   "source": [
    "### Reference matching"
   ]
  },
  {
   "cell_type": "code",
   "execution_count": 225,
   "metadata": {},
   "outputs": [
    {
     "data": {
      "text/markdown": [
       "\n",
       "- Total number of references: 9525\n",
       "- References that were found in Crossref: 8595\n",
       "- These references were matched to 7289 articles\n"
      ],
      "text/plain": [
       "<IPython.core.display.Markdown object>"
      ]
     },
     "execution_count": 225,
     "metadata": {},
     "output_type": "execute_result"
    }
   ],
   "source": [
    "s = f\"\"\"\n",
    "- Total number of references: {len(refs)}\n",
    "- References that were found in Crossref: {articles.reference_id.nunique()}\n",
    "- These references were matched to {articles.DOI.nunique()} articles\n",
    "\"\"\"\n",
    "md(s)"
   ]
  },
  {
   "cell_type": "markdown",
   "metadata": {
    "slideshow": {
     "slide_type": "subslide"
    }
   },
   "source": [
    "### Coverage of references found in Crossref\n",
    "\n",
    "![venn_refs.png](venn_refs.png)"
   ]
  },
  {
   "cell_type": "code",
   "execution_count": 14,
   "metadata": {
    "slideshow": {
     "slide_type": "skip"
    }
   },
   "outputs": [],
   "source": [
    "def venn_metrics():\n",
    "    all_articles = set(articles.DOI.unique().tolist())\n",
    "    articles_w_altm = set(metrics[metrics.twitter_accounts.notna()].DOI.unique().tolist())\n",
    "    articles_w_cit = set(metrics[metrics.wos_citations.notna()].DOI.unique().tolist())\n",
    "\n",
    "    total = len(all_articles)\n",
    "\n",
    "    v = venn3([all_articles, articles_w_altm, articles_w_cit],\n",
    "          set_labels=('', '', ''),\n",
    "          subset_label_formatter=lambda x: \"{:,} ({:.1f}%)\".format(x, 100*x/total));\n",
    "\n",
    "    v.get_patch_by_id('100').set_color(cp3[0])\n",
    "    v.get_patch_by_id('110').set_color(np.add(cp3[0], cp3[1])/2)\n",
    "    v.get_patch_by_id('101').set_color(np.add(cp3[0], cp3[2])/2)\n",
    "    v.get_patch_by_id('111').set_color(np.add(np.add(cp3[1], cp3[0]), cp3[2]) / 3)\n",
    "\n",
    "    for text in v.set_labels:\n",
    "        text.set_fontsize(10)\n",
    "    # for text in v.subset_labels:\n",
    "    #     text.set_fontsize(12)\n",
    "\n",
    "    handles = []\n",
    "    labels=[\"Articles found\", \"WoS\", \"Twitter\"]\n",
    "    for l, c in zip(labels, [cp3[0], np.add(cp3[0], cp3[1])/2, np.add(cp3[0], cp3[2])/2]):\n",
    "        handles.append(mpatches.Patch(color=c, label=l))\n",
    "    plt.legend(handles=handles);\n",
    "    plt.savefig(\"venn_metrics.png\")\n",
    "    plt.close()\n",
    "    \n",
    "venn_metrics()"
   ]
  },
  {
   "cell_type": "markdown",
   "metadata": {
    "slideshow": {
     "slide_type": "subslide"
    }
   },
   "source": [
    "### Coverage of DOIs (n=7289) in the WoS and Twitter\n",
    "\n",
    "![venn_metrics.png](venn_metrics.png)"
   ]
  },
  {
   "cell_type": "code",
   "execution_count": 15,
   "metadata": {
    "slideshow": {
     "slide_type": "skip"
    }
   },
   "outputs": [],
   "source": [
    "def clinical_trials():\n",
    "    col_order = [\"Early Phase 1\", \"Phase 1\", \"Phase 2\", \"Phase 3\", \"Phase 4\", \"Not Applicable\"]\n",
    "    trials.Phase.value_counts().reindex(col_order[::-1]).plot(kind=\"barh\")\n",
    "#     plt.xticks(rotation=90)\n",
    "    plt.savefig(\"clinical_trials.png\")\n",
    "    plt.close()\n",
    "    \n",
    "clinical_trials()"
   ]
  },
  {
   "cell_type": "markdown",
   "metadata": {
    "slideshow": {
     "slide_type": "subslide"
    }
   },
   "source": [
    "### Clinical Trials"
   ]
  },
  {
   "cell_type": "code",
   "execution_count": 230,
   "metadata": {},
   "outputs": [
    {
     "data": {
      "text/markdown": [
       "We found **301 clinical trials** via clinicaltrials.gov.\n",
       "\n",
       "These trials were associated with 231 articles in our dataset funded by **182 grants**.\n"
      ],
      "text/plain": [
       "<IPython.core.display.Markdown object>"
      ]
     },
     "execution_count": 230,
     "metadata": {},
     "output_type": "execute_result"
    }
   ],
   "source": [
    "s = f\"\"\"We found **{len(trials)} clinical trials** via clinicaltrials.gov.\n",
    "\n",
    "These trials were associated with {trials.doi.nunique()} articles in our dataset funded by **{articles[articles.DOI.isin(trials.doi)].grant_id.nunique()} grants**.\n",
    "\"\"\"\n",
    "md(s)"
   ]
  },
  {
   "cell_type": "markdown",
   "metadata": {
    "slideshow": {
     "slide_type": "subslide"
    }
   },
   "source": [
    "#### Breakdown of trials (n=301) by phases\n",
    "\n",
    "![clinical_trials.png](clinical_trials.png)"
   ]
  },
  {
   "cell_type": "markdown",
   "metadata": {
    "slideshow": {
     "slide_type": "slide"
    }
   },
   "source": [
    "## Part 2 - Data on the grant level"
   ]
  },
  {
   "cell_type": "markdown",
   "metadata": {
    "slideshow": {
     "slide_type": "subslide"
    }
   },
   "source": [
    "#### Number of awards per program"
   ]
  },
  {
   "cell_type": "code",
   "execution_count": 239,
   "metadata": {},
   "outputs": [
    {
     "data": {
      "text/html": [
       "<div>\n",
       "<style scoped>\n",
       "    .dataframe tbody tr th:only-of-type {\n",
       "        vertical-align: middle;\n",
       "    }\n",
       "\n",
       "    .dataframe tbody tr th {\n",
       "        vertical-align: top;\n",
       "    }\n",
       "\n",
       "    .dataframe thead th {\n",
       "        text-align: right;\n",
       "    }\n",
       "</style>\n",
       "<table border=\"1\" class=\"dataframe\">\n",
       "  <thead>\n",
       "    <tr style=\"text-align: right;\">\n",
       "      <th></th>\n",
       "      <th>Awards</th>\n",
       "    </tr>\n",
       "  </thead>\n",
       "  <tbody>\n",
       "    <tr>\n",
       "      <th>PCRP</th>\n",
       "      <td>1976</td>\n",
       "    </tr>\n",
       "    <tr>\n",
       "      <th>NFRP</th>\n",
       "      <td>186</td>\n",
       "    </tr>\n",
       "    <tr>\n",
       "      <th>PRORP</th>\n",
       "      <td>95</td>\n",
       "    </tr>\n",
       "    <tr>\n",
       "      <th>TSCRP</th>\n",
       "      <td>85</td>\n",
       "    </tr>\n",
       "  </tbody>\n",
       "</table>\n",
       "</div>"
      ],
      "text/plain": [
       "       Awards\n",
       "PCRP     1976\n",
       "NFRP      186\n",
       "PRORP      95\n",
       "TSCRP      85"
      ]
     },
     "execution_count": 239,
     "metadata": {},
     "output_type": "execute_result"
    }
   ],
   "source": [
    "grants.drop_duplicates(\"grant_id\").program.value_counts().to_frame(\"Awards\")"
   ]
  },
  {
   "cell_type": "code",
   "execution_count": 250,
   "metadata": {
    "slideshow": {
     "slide_type": "skip"
    }
   },
   "outputs": [],
   "source": [
    "def pubs_per_grant():    \n",
    "    df = grants[['grant_id', 'program', 'award_amount', 'n_dois']].copy()\n",
    "    df = df.drop_duplicates()\n",
    "    counts = df.program.value_counts()\n",
    "    df['program'] = df['program'].map(lambda x: f\"{x} ({counts[x]})\")\n",
    "    \n",
    "    sns.boxenplot(y=\"n_dois\", x=\"program\", data=df)\n",
    "    plt.yscale(\"log\")\n",
    "    ticks = [1, 2, 5, 10, 20, 50, 100, 200]\n",
    "    plt.yticks(ticks, ticks);\n",
    "    plt.xlabel(\"Research programs\")\n",
    "    plt.ylabel(\"Publications per grant\");\n",
    "    plt.tight_layout()\n",
    "    plt.savefig(\"pubs_per_grant.png\")\n",
    "    plt.close()\n",
    "    \n",
    "pubs_per_grant()"
   ]
  },
  {
   "cell_type": "markdown",
   "metadata": {
    "slideshow": {
     "slide_type": "subslide"
    }
   },
   "source": [
    "### Number of publications per grant program\n",
    "\n",
    "![pubs_per_grant.png](pubs_per_grant.png)"
   ]
  },
  {
   "cell_type": "code",
   "execution_count": 251,
   "metadata": {
    "slideshow": {
     "slide_type": "skip"
    }
   },
   "outputs": [],
   "source": [
    "def dollars_per_grant():    \n",
    "    df = grants[['grant_id', 'program', 'award_amount', 'n_dois']].copy()\n",
    "    df = df.drop_duplicates()\n",
    "    counts = df.program.value_counts()\n",
    "    df['program'] = df['program'].map(lambda x: f\"{x} ({counts[x]})\")\n",
    "    \n",
    "    sns.boxenplot(y=\"award_amount\", x=\"program\", data=df)\n",
    "    plt.yscale(\"log\")\n",
    "    ticks = [0.01, 0.05, 0.1, 0.5, 1, 2, 5, 10]\n",
    "    plt.yticks(ticks, ticks);\n",
    "    plt.xlabel(\"Research programs\")\n",
    "    plt.ylabel(\"Award amount in $ (millions)\");\n",
    "    plt.tight_layout()\n",
    "    plt.savefig(\"dollars_per_grant.png\")\n",
    "    plt.close()\n",
    "    \n",
    "dollars_per_grant()"
   ]
  },
  {
   "cell_type": "markdown",
   "metadata": {
    "slideshow": {
     "slide_type": "subslide"
    }
   },
   "source": [
    "### Award amount per grant program\n",
    "\n",
    "![dollars_per_grant.png](dollars_per_grant.png)"
   ]
  },
  {
   "cell_type": "code",
   "execution_count": 252,
   "metadata": {
    "slideshow": {
     "slide_type": "skip"
    }
   },
   "outputs": [],
   "source": [
    "def grant_percentiles(metric, label, log=False, program=None):\n",
    "    df = grants[grants.category.notna()]\n",
    "    df = df.drop_duplicates(\"grant_id\")\n",
    "    df = df[df.category!=\"Consortium\"]\n",
    "    if program:\n",
    "        df = df[df.program==program]\n",
    "    \n",
    "    award_90th = df.award_amount.quantile(.9)\n",
    "    award_99th = df.award_amount.quantile(.99)\n",
    "    \n",
    "    metric_90th = df[metric].quantile(.9)\n",
    "    metric_99th = df[metric].quantile(.99)\n",
    "    \n",
    "    sns.lmplot(x=\"award_amount\", y=metric, hue=\"category\", data=df, height=8, aspect=1.4, fit_reg=False, scatter_kws={'alpha':.7})\n",
    "\n",
    "    plt.hlines(metric_90th, 0, award_90th, linestyles=\"--\")\n",
    "    plt.hlines(metric_99th, 0, award_99th, linestyles=\"--\")\n",
    "\n",
    "    plt.vlines(award_90th, 0, metric_90th, linestyles=\"--\")\n",
    "    plt.vlines(award_99th, 0, metric_99th, linestyles=\"--\")\n",
    "\n",
    "    plt.text(-.3, metric_90th, \"90th\", fontdict={'size':12});\n",
    "    plt.text(-.3, metric_99th, \"99th\", fontdict={'size':12});\n",
    "    \n",
    "    if log:\n",
    "        plt.yscale(\"log\")\n",
    "    \n",
    "    plt.ylabel(label)\n",
    "    plt.xlabel(\"Size of award in $ (millions)\")\n",
    "    plt.tight_layout()\n",
    "    plt.savefig(\"grant_percentiles.png\")\n",
    "    plt.close()\n",
    "    \n",
    "grant_percentiles(\"n_dois\", \"Number of Publications\", program=None)"
   ]
  },
  {
   "cell_type": "markdown",
   "metadata": {
    "slideshow": {
     "slide_type": "subslide"
    }
   },
   "source": [
    "### Award size vs number of publications (without Consortia Awards)\n",
    "\n",
    "![grant_percentiles.png](grant_percentiles.png)"
   ]
  },
  {
   "cell_type": "code",
   "execution_count": 254,
   "metadata": {
    "slideshow": {
     "slide_type": "skip"
    }
   },
   "outputs": [],
   "source": [
    "def award_types():    \n",
    "    df = grants[['program', 'category', 'award_amount', 'n_dois']].copy()\n",
    "    counts = df.program.value_counts()\n",
    "    df['program'] = df['program'].map(lambda x: f\"{x} ({counts[x]})\")\n",
    "    \n",
    "    sns.boxenplot(y=\"award_amount\", x=\"program\", hue=\"category\", data=df)\n",
    "    plt.yscale(\"log\")\n",
    "    ticks = [0.01, 0.05, 0.1, 0.5, 1, 2, 5, 10]\n",
    "    plt.yticks(ticks, ticks);\n",
    "    plt.xlabel(\"Research programs\")\n",
    "    plt.ylabel(\"Award amount in $ (millions)\");\n",
    "    plt.tight_layout()\n",
    "    plt.savefig(\"dollars_per_award_type.png\")\n",
    "    plt.close()\n",
    "    \n",
    "    sns.boxenplot(y=\"n_dois\", x=\"program\", hue=\"category\", data=df)\n",
    "    plt.yscale(\"log\")\n",
    "    ticks = [1, 2, 5, 10, 20, 50, 100]\n",
    "    plt.yticks(ticks, ticks)\n",
    "    plt.xlabel(\"Research programs\")\n",
    "    plt.ylabel(\"Number of publications\");\n",
    "    plt.tight_layout()\n",
    "    plt.savefig(\"pubs_per_award_type.png\")\n",
    "    plt.close()\n",
    "    \n",
    "award_types()"
   ]
  },
  {
   "cell_type": "markdown",
   "metadata": {
    "slideshow": {
     "slide_type": "subslide"
    }
   },
   "source": [
    "### Number of publication by award types\n",
    "\n",
    "![pubs_per_award_type.png](pubs_per_award_type.png)"
   ]
  },
  {
   "cell_type": "markdown",
   "metadata": {
    "slideshow": {
     "slide_type": "subslide"
    }
   },
   "source": [
    "### Award amount by award types\n",
    "\n",
    "![dollars_per_award_type.png](dollars_per_award_type.png)"
   ]
  },
  {
   "cell_type": "markdown",
   "metadata": {
    "slideshow": {
     "slide_type": "slide"
    }
   },
   "source": [
    "## Part 3 - Not all grants are the same"
   ]
  },
  {
   "cell_type": "code",
   "execution_count": 260,
   "metadata": {
    "slideshow": {
     "slide_type": "skip"
    }
   },
   "outputs": [],
   "source": [
    "def plot_metrics(cols):\n",
    "    df = grants.drop_duplicates(\"grant_id\")[cols]\n",
    "    df = df.melt(id_vars=\"program\", var_name=\"Metric\", value_name=\"Count\")\n",
    "    # sns.boxplot(x=\"Metric\", y=\"Count\", data=df)\n",
    "    sns.boxenplot(x=\"Metric\", y=\"Count\", hue=\"program\", data=df)\n",
    "    plt.yscale(\"log\")\n",
    "    ticks = [1, 2, 5, 10, 100, 1000, 2000]\n",
    "    plt.yticks(ticks, ticks);\n",
    "    plt.xticks(rotation=30, ha=\"right\")\n",
    "    plt.xlabel(\"Metrics\")\n",
    "    plt.ylabel(\"Counts\");\n",
    "    plt.tight_layout()\n",
    "    plt.savefig(\"metrics.png\")\n",
    "    plt.close()\n",
    "    \n",
    "cols = ['program', 'wos_citations', 'twitter_accounts', 'patents', 'news_outlets', 'blogs', 'fb_pages',\n",
    "       'videos', 'reddit_threads', 'policies', 'wikipedia', 'n_trials', 'n_dois',]\n",
    "plot_metrics(cols)"
   ]
  },
  {
   "cell_type": "markdown",
   "metadata": {
    "slideshow": {
     "slide_type": "subslide"
    }
   },
   "source": [
    "### Measuring grant outputs\n",
    "\n",
    "![metrics.png](metrics.png)"
   ]
  },
  {
   "cell_type": "code",
   "execution_count": 267,
   "metadata": {
    "slideshow": {
     "slide_type": "skip"
    }
   },
   "outputs": [],
   "source": [
    "def pairplots():\n",
    "    df = grants[['wos_citations', 'twitter_accounts', 'news_outlets', 'category']].copy()\n",
    "    sns.pairplot(data=df, hue=\"category\", diag_kind=\"kde\", )\n",
    "#     plt.tight_layout()\n",
    "    plt.savefig(\"pairplots.png\")\n",
    "    plt.close()\n",
    "    \n",
    "pairplots()"
   ]
  },
  {
   "cell_type": "markdown",
   "metadata": {
    "slideshow": {
     "slide_type": "subslide"
    }
   },
   "source": [
    "### Pairplot on the grant level\n",
    "\n",
    "![pairplots.png](pairplots.png)"
   ]
  },
  {
   "cell_type": "code",
   "execution_count": 266,
   "metadata": {
    "slideshow": {
     "slide_type": "skip"
    }
   },
   "outputs": [
    {
     "data": {
      "image/png": "[encoded data removed]",
      "text/plain": [
       "<Figure size 657.475x540 with 3 Axes>"
      ]
     },
     "metadata": {},
     "output_type": "display_data"
    }
   ],
   "source": [
    "def outputs_per_dollars():\n",
    "    df = grants[['wos_citations', 'twitter_accounts', 'n_dois', 'category', 'award_amount']].copy()\n",
    "\n",
    "    df.columns = [\"Citations\", \"Twitter\", \"Publications\", \"category\", \"award_amount\"]\n",
    "    sns.pairplot(df, x_vars=\"award_amount\", y_vars=[\"Citations\", 'Twitter', 'Publications'], hue=\"category\", aspect=3)\n",
    "    plt.xscale(\"log\")\n",
    "    ticks = [0.01, 0.02, 0.05, 0.1, 0.2, 0.5, 1, 2, 5, 10, 20]\n",
    "    plt.xticks(ticks, ticks);\n",
    "    plt.xlabel(\"Award size in millions ($)\");\n",
    "#     plt.tight_layout()\n",
    "    plt.savefig(\"outputs_per_dollars.png\")\n",
    "#     plt.close()\n",
    "    \n",
    "outputs_per_dollars()"
   ]
  },
  {
   "cell_type": "markdown",
   "metadata": {
    "slideshow": {
     "slide_type": "subslide"
    }
   },
   "source": [
    "### Outputs over award size\n",
    "\n",
    "![outputs_per_dollars.png](outputs_per_dollars.png)"
   ]
  },
  {
   "cell_type": "markdown",
   "metadata": {
    "slideshow": {
     "slide_type": "slide"
    }
   },
   "source": [
    "## Part 5 - Limitations"
   ]
  },
  {
   "cell_type": "markdown",
   "metadata": {
    "slideshow": {
     "slide_type": "subslide"
    }
   },
   "source": [
    "### Data quality and completeness\n",
    "\n",
    "- We are not fetching papers, only using data provided\n",
    "- We are matching citation strings to Crossref database: there’s an error rate in this matching\n",
    "- Citations from WoS only count citing papers from other WoS papers\n",
    "- Altmetric and Unpaywall are also known to have some errors (as with any database drawn from searching the Web)."
   ]
  }
 ],
 "metadata": {
  "kernelspec": {
   "display_name": "tracking-grants",
   "language": "python",
   "name": "tracking-grants"
  },
  "language_info": {
   "codemirror_mode": {
    "name": "ipython",
    "version": 3
   },
   "file_extension": ".py",
   "mimetype": "text/x-python",
   "name": "python",
   "nbconvert_exporter": "python",
   "pygments_lexer": "ipython3",
   "version": "3.6.10"
  }
 },
 "nbformat": 4,
 "nbformat_minor": 4
}
