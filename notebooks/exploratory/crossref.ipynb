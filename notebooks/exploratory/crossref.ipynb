{
 "cells": [
  {
   "cell_type": "code",
   "execution_count": null,
   "metadata": {},
   "outputs": [],
   "source": [
    "# -*- coding: utf-8 -*-\n",
    "import pandas as pd\n",
    "from habanero import Crossref\n",
    "from ratelimit import limits, sleep_and_retry\n",
    "from tracking_grants import articles_f, cr_metadata_f, email, tool_name\n",
    "from tracking_grants.utils.logging import logger\n",
    "import json"
   ]
  },
  {
   "cell_type": "code",
   "execution_count": null,
   "metadata": {},
   "outputs": [],
   "source": [
    "from tqdm.auto import tqdm"
   ]
  },
  {
   "cell_type": "code",
   "execution_count": null,
   "metadata": {},
   "outputs": [],
   "source": [
    "# load articles\n",
    "articles = pd.read_csv(articles_f, index_col=\"article_id\")"
   ]
  },
  {
   "cell_type": "code",
   "execution_count": 4,
   "metadata": {},
   "outputs": [],
   "source": [
    "cr = Crossref(mailto=email, ua_string=tool_name)"
   ]
  },
  {
   "cell_type": "code",
   "execution_count": 5,
   "metadata": {},
   "outputs": [],
   "source": [
    "@sleep_and_retry\n",
    "@limits(calls=10, period=1)\n",
    "def query_crossref(cr, dois):\n",
    "    return cr.works(dois)"
   ]
  },
  {
   "cell_type": "code",
   "execution_count": 6,
   "metadata": {},
   "outputs": [
    {
     "data": {
      "application/vnd.jupyter.widget-view+json": {
       "model_id": "e88dffc476ca460b89090cf975530da3",
       "version_major": 2,
       "version_minor": 0
      },
      "text/plain": [
       "HBox(children=(FloatProgress(value=0.0, max=2.0), HTML(value='')))"
      ]
     },
     "metadata": {},
     "output_type": "display_data"
    },
    {
     "name": "stdout",
     "output_type": "stream",
     "text": [
      "\n"
     ]
    }
   ],
   "source": [
    "dois = articles.DOI.tolist()\n",
    "dois = dois[0:20]\n",
    "\n",
    "dois_per_call = 10\n",
    "r = list(range(0, len(dois), dois_per_call))\n",
    "r = r + [len(dois)]\n",
    "\n",
    "results = []\n",
    "for ix in tqdm(range(len(r)-1), total=len(r)-1):\n",
    "    response = query_crossref(cr, dois[r[ix]:r[ix+1]])\n",
    "    results.extend(response)"
   ]
  },
  {
   "cell_type": "code",
   "execution_count": 7,
   "metadata": {},
   "outputs": [],
   "source": [
    "with open(cr_metadata_f, 'w') as f:\n",
    "    json.dump(results, f)"
   ]
  },
  {
   "cell_type": "markdown",
   "metadata": {},
   "source": [
    "## Processing data"
   ]
  },
  {
   "cell_type": "code",
   "execution_count": null,
   "metadata": {},
   "outputs": [],
   "source": [
    "direct_fields = [\"ISSN\", 'container-title', 'publisher', 'is-referenced-by-count', 'references-count', 'subject']\n",
    "transform_fields = [\"authors_count\", ]\n",
    "date_fields = ['created', 'deposited', 'indexed', 'published-online', 'issued']"
   ]
  },
  {
   "cell_type": "code",
   "execution_count": 13,
   "metadata": {},
   "outputs": [],
   "source": [
    "for r in results:\n",
    "    r['message']"
   ]
  }
 ],
 "metadata": {
  "kernelspec": {
   "display_name": "tracking-grants",
   "language": "python",
   "name": "tracking-grants"
  },
  "language_info": {
   "codemirror_mode": {
    "name": "ipython",
    "version": 3
   },
   "file_extension": ".py",
   "mimetype": "text/x-python",
   "name": "python",
   "nbconvert_exporter": "python",
   "pygments_lexer": "ipython3",
   "version": "3.6.10"
  }
 },
 "nbformat": 4,
 "nbformat_minor": 4
}
