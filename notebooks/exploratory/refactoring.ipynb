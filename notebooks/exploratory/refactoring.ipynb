{
 "cells": [
  {
   "cell_type": "code",
   "execution_count": 2,
   "metadata": {},
   "outputs": [],
   "source": [
    "import pandas as pd\n",
    "from pathlib import Path\n",
    "import json\n",
    "\n",
    "import requests\n",
    "from tqdm.notebook import tqdm\n",
    "\n",
    "from ratelimit import limits, sleep_and_retry"
   ]
  },
  {
   "cell_type": "code",
   "execution_count": 3,
   "metadata": {},
   "outputs": [],
   "source": [
    "from military_grants import articles_f, altmetric_f, wos_f, metrics_f"
   ]
  },
  {
   "cell_type": "code",
   "execution_count": 32,
   "metadata": {},
   "outputs": [],
   "source": [
    "a = pd.DataFrame.from_dict(json.loads(altmetric_f.read_text()), orient=\"columns\").T"
   ]
  },
  {
   "cell_type": "code",
   "execution_count": 33,
   "metadata": {},
   "outputs": [],
   "source": [
    "a = altmetric[altmetric.doi.notna()]\n",
    "del a['doi']\n",
    "a.index.name = \"DOI\""
   ]
  },
  {
   "cell_type": "code",
   "execution_count": 35,
   "metadata": {},
   "outputs": [
    {
     "data": {
      "text/plain": [
       "Index(['title', 'pmid', 'isbns', 'altmetric_jid', 'issns', 'journal',\n",
       "       'cohorts', 'abstract', 'abstract_source', 'context', 'authors', 'type',\n",
       "       'handles', 'altmetric_id', 'schema', 'is_oa', 'publisher_subjects',\n",
       "       'cited_by_posts_count', 'cited_by_rh_count', 'cited_by_tweeters_count',\n",
       "       'cited_by_accounts_count', 'last_updated', 'score', 'history', 'url',\n",
       "       'published_on', 'subjects', 'scopus_subjects', 'readers',\n",
       "       'readers_count', 'images', 'details_url', 'pmc',\n",
       "       'cited_by_patents_count', 'added_on', 'cited_by_wikipedia_count',\n",
       "       'cited_by_msm_count', 'cited_by_feeds_count', 'ads_id',\n",
       "       'cited_by_fbwalls_count', 'cited_by_qna_count', 'cited_by_videos_count',\n",
       "       'cited_by_peer_review_sites_count', 'cited_by_weibo_count', 'uri',\n",
       "       'cited_by_gplus_count', 'cited_by_rdts_count', 'editors', 'attribution',\n",
       "       'ordinal_number', 'handle', 'cited_by_policies_count', 'hlom_id',\n",
       "       'hollis_id', 'cited_by_syllabi_count', 'arxiv_id',\n",
       "       'cited_by_linkedin_count'],\n",
       "      dtype='object')"
      ]
     },
     "execution_count": 35,
     "metadata": {},
     "output_type": "execute_result"
    }
   ],
   "source": [
    "a.columns"
   ]
  },
  {
   "cell_type": "code",
   "execution_count": 29,
   "metadata": {},
   "outputs": [],
   "source": [
    "altmetric.to_csv(\"metrics.csv\")"
   ]
  }
 ],
 "metadata": {
  "kernelspec": {
   "display_name": "Python 3.6.10 64-bit ('.venv': venv)",
   "language": "python",
   "name": "python361064bitvenvvenvcdc679201519459280111e6b577316b7"
  },
  "language_info": {
   "codemirror_mode": {
    "name": "ipython",
    "version": 3
   },
   "file_extension": ".py",
   "mimetype": "text/x-python",
   "name": "python",
   "nbconvert_exporter": "python",
   "pygments_lexer": "ipython3",
   "version": "3.6.10"
  }
 },
 "nbformat": 4,
 "nbformat_minor": 4
}
