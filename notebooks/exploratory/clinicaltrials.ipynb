{
 "cells": [
  {
   "cell_type": "code",
   "execution_count": 2,
   "metadata": {},
   "outputs": [],
   "source": [
    "from pathlib import Path\n",
    "\n",
    "from IPython.display import Markdown as md\n",
    "\n",
    "import matplotlib.pyplot as plt\n",
    "import matplotlib.patches as mpatches\n",
    "from matplotlib_venn import venn3\n",
    "import pandas as pd\n",
    "import seaborn as sns\n",
    "\n",
    "import numpy as np\n",
    "\n",
    "from tracking_grants import references_f, articles_f, wos_f, altmetric_f\n",
    "from tracking_grants import tool_name, email, ncbi_api_key\n",
    "\n"
   ]
  },
  {
   "cell_type": "code",
   "execution_count": 3,
   "metadata": {},
   "outputs": [],
   "source": [
    "from tqdm.auto import tqdm\n",
    "import requests\n",
    "from ratelimit import limits, sleep_and_retry\n",
    "import re\n",
    "\n",
    "tqdm.pandas()\n",
    "\n",
    "from datetime import datetime"
   ]
  },
  {
   "cell_type": "code",
   "execution_count": 10,
   "metadata": {},
   "outputs": [],
   "source": [
    "# Load references\n",
    "refs = pd.read_csv(references_f, index_col=\"reference_id\")"
   ]
  },
  {
   "cell_type": "code",
   "execution_count": 11,
   "metadata": {},
   "outputs": [],
   "source": [
    "# Load matched articles\n",
    "articles = pd.read_csv(articles_f)\n",
    "articles.DOI = articles.DOI.str.lower()"
   ]
  },
  {
   "cell_type": "code",
   "execution_count": 108,
   "metadata": {},
   "outputs": [],
   "source": [
    "class ClinicalTrials():\n",
    "    def __init__(self, fields):\n",
    "        self.baseurl = \"https://clinicaltrials.gov/api/query/study_fields\"\n",
    "        self.fields = fields\n",
    "        self.params = {\n",
    "            \"fields\": \",\".join(self.fields),\n",
    "            \"min_rnk\": 1,\n",
    "            \"max_rnk\": None,\n",
    "            \"fmt\": \"json\"\n",
    "        }\n",
    "        \n",
    "    def query_trials(self, pmid):\n",
    "        params = self.params\n",
    "        params['expr'] = f\"{pmid}[PUBMED-IDS]\"\n",
    "        \n",
    "        try:\n",
    "            r =  requests.get(self.baseurl, params=params)\n",
    "            if r.status_code == 200:\n",
    "                resp = r.json()['StudyFieldsResponse']\n",
    "                if resp['NStudiesFound'] > 0:\n",
    "                    return resp['StudyFields']\n",
    "                else:\n",
    "                    return None\n",
    "            else:\n",
    "                return None\n",
    "        except Exception as e:\n",
    "            return e"
   ]
  },
  {
   "cell_type": "code",
   "execution_count": 127,
   "metadata": {},
   "outputs": [
    {
     "data": {
      "application/vnd.jupyter.widget-view+json": {
       "model_id": "154d380ebbb245928c80645dc2fd1db9",
       "version_major": 2,
       "version_minor": 0
      },
      "text/plain": [
       "HBox(children=(FloatProgress(value=0.0, max=6711.0), HTML(value='')))"
      ]
     },
     "metadata": {},
     "output_type": "display_data"
    },
    {
     "name": "stdout",
     "output_type": "stream",
     "text": [
      "\n"
     ]
    }
   ],
   "source": [
    "fields = [\"NCTId\", \"BriefTitle\", \"Condition\", \"OverallStatus\", \"Phase\"]\n",
    "ct = ClinicalTrials(fields)\n",
    "\n",
    "clinicaltrials = pd.DataFrame(columns = ['doi', 'pmid'] + fields + ['ts'])\n",
    "\n",
    "df = articles\n",
    "\n",
    "dois = df.DOI.tolist()\n",
    "pmids = df.pmid.tolist()\n",
    "\n",
    "for doi, pmid in tqdm(zip(dois, pmids), total=len(dois)):\n",
    "    if pmid:\n",
    "        ts = datetime.now().isoformat()\n",
    "        trials = ct.query_trials(pmid)\n",
    "        if trials:\n",
    "            for t in trials:\n",
    "                row = [doi, pmid]\n",
    "                for f in fields:\n",
    "                    if f in t:\n",
    "                        row.append(t[f])\n",
    "                    else:\n",
    "                        row.append(None)\n",
    "                row.append(ts)\n",
    "                \n",
    "                clinicaltrials.loc[len(clinicaltrials)+1] = row"
   ]
  },
  {
   "cell_type": "code",
   "execution_count": 129,
   "metadata": {},
   "outputs": [],
   "source": [
    "clinicaltrials.to_csv(\"clinicaltrials.csv\")"
   ]
  },
  {
   "cell_type": "code",
   "execution_count": 4,
   "metadata": {},
   "outputs": [],
   "source": [
    "clinicaltrials = pd.read_csv(\"clinicaltrials.csv\")"
   ]
  },
  {
   "cell_type": "code",
   "execution_count": 5,
   "metadata": {},
   "outputs": [],
   "source": [
    "for c in ['NCTId', 'BriefTitle', 'OverallStatus', 'Phase']:\n",
    "    clinicaltrials[c] = clinicaltrials[c].map(lambda x: eval(x)[0] if len(eval(x))>0 else None)"
   ]
  },
  {
   "cell_type": "code",
   "execution_count": 19,
   "metadata": {},
   "outputs": [
    {
     "data": {
      "text/plain": [
       "5943"
      ]
     },
     "execution_count": 19,
     "metadata": {},
     "output_type": "execute_result"
    }
   ],
   "source": [
    "articles.pmid.dropna().nunique()"
   ]
  },
  {
   "cell_type": "code",
   "execution_count": 20,
   "metadata": {},
   "outputs": [
    {
     "data": {
      "text/plain": [
       "231"
      ]
     },
     "execution_count": 20,
     "metadata": {},
     "output_type": "execute_result"
    }
   ],
   "source": [
    "clinicaltrials.pmid.nunique()"
   ]
  },
  {
   "cell_type": "code",
   "execution_count": 180,
   "metadata": {},
   "outputs": [
    {
     "data": {
      "text/plain": [
       "Phase 2           89\n",
       "Phase 1           79\n",
       "Not Applicable    57\n",
       "Phase 3           24\n",
       "Early Phase 1      7\n",
       "Phase 4            4\n",
       "Name: Phase, dtype: int64"
      ]
     },
     "execution_count": 180,
     "metadata": {},
     "output_type": "execute_result"
    }
   ],
   "source": [
    "clinicaltrials.Phase.value_counts()"
   ]
  },
  {
   "cell_type": "code",
   "execution_count": 201,
   "metadata": {},
   "outputs": [],
   "source": [
    "clinicaltrials.Condition = clinicaltrials.Condition.map(lambda x: eval(x))"
   ]
  },
  {
   "cell_type": "code",
   "execution_count": 37,
   "metadata": {},
   "outputs": [
    {
     "data": {
      "text/html": [
       "<div>\n",
       "<style scoped>\n",
       "    .dataframe tbody tr th:only-of-type {\n",
       "        vertical-align: middle;\n",
       "    }\n",
       "\n",
       "    .dataframe tbody tr th {\n",
       "        vertical-align: top;\n",
       "    }\n",
       "\n",
       "    .dataframe thead th {\n",
       "        text-align: right;\n",
       "    }\n",
       "</style>\n",
       "<table border=\"1\" class=\"dataframe\">\n",
       "  <thead>\n",
       "    <tr style=\"text-align: right;\">\n",
       "      <th></th>\n",
       "      <th>Clinical Trials</th>\n",
       "      <th>%</th>\n",
       "    </tr>\n",
       "    <tr>\n",
       "      <th>program</th>\n",
       "      <th></th>\n",
       "      <th></th>\n",
       "    </tr>\n",
       "  </thead>\n",
       "  <tbody>\n",
       "    <tr>\n",
       "      <th>NFRP</th>\n",
       "      <td>9</td>\n",
       "      <td>4.48</td>\n",
       "    </tr>\n",
       "    <tr>\n",
       "      <th>PCRP</th>\n",
       "      <td>203</td>\n",
       "      <td>2.74</td>\n",
       "    </tr>\n",
       "    <tr>\n",
       "      <th>PRORP</th>\n",
       "      <td>17</td>\n",
       "      <td>5.07</td>\n",
       "    </tr>\n",
       "    <tr>\n",
       "      <th>TSCRP</th>\n",
       "      <td>9</td>\n",
       "      <td>4.48</td>\n",
       "    </tr>\n",
       "  </tbody>\n",
       "</table>\n",
       "</div>"
      ],
      "text/plain": [
       "         Clinical Trials     %\n",
       "program                       \n",
       "NFRP                   9  4.48\n",
       "PCRP                 203  2.74\n",
       "PRORP                 17  5.07\n",
       "TSCRP                  9  4.48"
      ]
     },
     "execution_count": 37,
     "metadata": {},
     "output_type": "execute_result"
    }
   ],
   "source": [
    "df = articles.merge(clinicaltrials, left_on=\"DOI\", right_on=\"doi\")\n",
    "df = df.groupby(\"program\").NCTId.nunique().to_frame(\"Clinical Trials\")\n",
    "df[\"%\"] = df['Clinical Trials'].div(articles.groupby(\"program\").size()/100)\n",
    "df.round(2)"
   ]
  },
  {
   "cell_type": "code",
   "execution_count": 31,
   "metadata": {},
   "outputs": [
    {
     "data": {
      "text/html": [
       "<div>\n",
       "<style scoped>\n",
       "    .dataframe tbody tr th:only-of-type {\n",
       "        vertical-align: middle;\n",
       "    }\n",
       "\n",
       "    .dataframe tbody tr th {\n",
       "        vertical-align: top;\n",
       "    }\n",
       "\n",
       "    .dataframe thead th {\n",
       "        text-align: right;\n",
       "    }\n",
       "</style>\n",
       "<table border=\"1\" class=\"dataframe\">\n",
       "  <thead>\n",
       "    <tr style=\"text-align: right;\">\n",
       "      <th></th>\n",
       "      <th>Clinical Trials</th>\n",
       "    </tr>\n",
       "    <tr>\n",
       "      <th>program</th>\n",
       "      <th></th>\n",
       "    </tr>\n",
       "  </thead>\n",
       "  <tbody>\n",
       "    <tr>\n",
       "      <th>NFRP</th>\n",
       "      <td>9</td>\n",
       "    </tr>\n",
       "    <tr>\n",
       "      <th>PCRP</th>\n",
       "      <td>203</td>\n",
       "    </tr>\n",
       "    <tr>\n",
       "      <th>PRORP</th>\n",
       "      <td>17</td>\n",
       "    </tr>\n",
       "    <tr>\n",
       "      <th>TSCRP</th>\n",
       "      <td>9</td>\n",
       "    </tr>\n",
       "  </tbody>\n",
       "</table>\n",
       "</div>"
      ],
      "text/plain": [
       "         Clinical Trials\n",
       "program                 \n",
       "NFRP                   9\n",
       "PCRP                 203\n",
       "PRORP                 17\n",
       "TSCRP                  9"
      ]
     },
     "execution_count": 31,
     "metadata": {},
     "output_type": "execute_result"
    }
   ],
   "source": []
  },
  {
   "cell_type": "code",
   "execution_count": 202,
   "metadata": {},
   "outputs": [
    {
     "data": {
      "text/plain": [
       "0      [Tuberous Sclerosis, Lymphangioleiomyomatosis,...\n",
       "1                             [Lymphangioleiomyomatosis]\n",
       "2                    [Angiofibromas, Tuberous Sclerosis]\n",
       "3      [Tuberous Sclerosis, Neurofibromatoses, Angiof...\n",
       "4             [Angiofibroma of Face, Tuberous Sclerosis]\n",
       "                             ...                        \n",
       "296    [Post-Amputation Pain, Phantom Limb Pain, Resi...\n",
       "297                                              [Burns]\n",
       "298    [Tendinopathy, Adhesions Nos Postoperative, Sc...\n",
       "299                   [Burns, Wound of Skin, Skin Wound]\n",
       "300                                  [Rotator Cuff Tear]\n",
       "Name: Condition, Length: 301, dtype: object"
      ]
     },
     "execution_count": 202,
     "metadata": {},
     "output_type": "execute_result"
    }
   ],
   "source": [
    "clinicaltrials.Condition"
   ]
  },
  {
   "cell_type": "code",
   "execution_count": 217,
   "metadata": {},
   "outputs": [
    {
     "data": {
      "text/plain": [
       "Prostate Cancer                                    111\n",
       "Recurrent Prostate Cancer                           12\n",
       "Prostatic Neoplasms                                  7\n",
       "Metastatic Castration-resistant Prostate Cancer      7\n",
       "Adenocarcinoma of the Prostate                       7\n",
       "D009360                                              6\n",
       "D064129                                              6\n",
       "D035683                                              6\n",
       "D014408                                              6\n",
       "D011471                                              6\n",
       "Breast Cancer                                        6\n",
       "Cancer                                               6\n",
       "Hormone-resistant Prostate Cancer                    5\n",
       "Stage IV Prostate Cancer                             5\n",
       "Prostate Adenocarcinoma                              5\n",
       "Pancreatic Cancer                                    4\n",
       "Prostatic Neoplasm                                   4\n",
       "Lymphangioleiomyomatosis                             4\n",
       "Tuberous Sclerosis                                   4\n",
       "Cardiovascular Diseases                              3\n",
       "dtype: int64"
      ]
     },
     "execution_count": 217,
     "metadata": {},
     "output_type": "execute_result"
    }
   ],
   "source": [
    "pd.get_dummies(clinicaltrials.Condition.apply(pd.Series).stack()).sum().sort_values(ascending=False).head(20)"
   ]
  },
  {
   "cell_type": "code",
   "execution_count": null,
   "metadata": {},
   "outputs": [],
   "source": [
    "articles"
   ]
  },
  {
   "cell_type": "code",
   "execution_count": 218,
   "metadata": {},
   "outputs": [
    {
     "data": {
      "text/html": [
       "<div>\n",
       "<style scoped>\n",
       "    .dataframe tbody tr th:only-of-type {\n",
       "        vertical-align: middle;\n",
       "    }\n",
       "\n",
       "    .dataframe tbody tr th {\n",
       "        vertical-align: top;\n",
       "    }\n",
       "\n",
       "    .dataframe thead th {\n",
       "        text-align: right;\n",
       "    }\n",
       "</style>\n",
       "<table border=\"1\" class=\"dataframe\">\n",
       "  <thead>\n",
       "    <tr style=\"text-align: right;\">\n",
       "      <th></th>\n",
       "      <th>doi</th>\n",
       "      <th>pmid</th>\n",
       "      <th>NCTId</th>\n",
       "      <th>BriefTitle</th>\n",
       "      <th>Condition</th>\n",
       "      <th>OverallStatus</th>\n",
       "      <th>Phase</th>\n",
       "      <th>ts</th>\n",
       "    </tr>\n",
       "  </thead>\n",
       "  <tbody>\n",
       "    <tr>\n",
       "      <th>0</th>\n",
       "      <td>10.1055/s-0030-1269906</td>\n",
       "      <td>21210335</td>\n",
       "      <td>NCT02325505</td>\n",
       "      <td>Characterization of Patients With Tuberous Scl...</td>\n",
       "      <td>[Tuberous Sclerosis, Lymphangioleiomyomatosis,...</td>\n",
       "      <td>Recruiting</td>\n",
       "      <td>None</td>\n",
       "      <td>2020-06-22T18:54:23.977765</td>\n",
       "    </tr>\n",
       "    <tr>\n",
       "      <th>1</th>\n",
       "      <td>10.1513/annalsats.201610-824oc</td>\n",
       "      <td>28570161</td>\n",
       "      <td>NCT01353209</td>\n",
       "      <td>Trial of Aromatase Inhibition in Lymphangiolei...</td>\n",
       "      <td>[Lymphangioleiomyomatosis]</td>\n",
       "      <td>Completed</td>\n",
       "      <td>Phase 2</td>\n",
       "      <td>2020-06-22T18:55:07.160337</td>\n",
       "    </tr>\n",
       "    <tr>\n",
       "      <th>2</th>\n",
       "      <td>10.1001/jamadermatol.2018.0464</td>\n",
       "      <td>29800048</td>\n",
       "      <td>NCT01526356</td>\n",
       "      <td>Topical Rapamycin to Erase Angiofibromas in TSC</td>\n",
       "      <td>[Angiofibromas, Tuberous Sclerosis]</td>\n",
       "      <td>Completed</td>\n",
       "      <td>Phase 2</td>\n",
       "      <td>2020-06-22T18:55:14.956892</td>\n",
       "    </tr>\n",
       "    <tr>\n",
       "      <th>3</th>\n",
       "      <td>10.2165/11634580-000000000-00000</td>\n",
       "      <td>22934754</td>\n",
       "      <td>NCT01031901</td>\n",
       "      <td>Topical Rapamycin Therapy to Alleviate Cutaneo...</td>\n",
       "      <td>[Tuberous Sclerosis, Neurofibromatoses, Angiof...</td>\n",
       "      <td>Completed</td>\n",
       "      <td>Phase 1</td>\n",
       "      <td>2020-06-22T18:55:15.466715</td>\n",
       "    </tr>\n",
       "    <tr>\n",
       "      <th>4</th>\n",
       "      <td>10.2165/11634580-000000000-00000</td>\n",
       "      <td>22934754</td>\n",
       "      <td>NCT03363763</td>\n",
       "      <td>Topical Sirolimus Ointment for Cutaneous Angio...</td>\n",
       "      <td>[Angiofibroma of Face, Tuberous Sclerosis]</td>\n",
       "      <td>Recruiting</td>\n",
       "      <td>Phase 2</td>\n",
       "      <td>2020-06-22T18:55:15.466715</td>\n",
       "    </tr>\n",
       "    <tr>\n",
       "      <th>...</th>\n",
       "      <td>...</td>\n",
       "      <td>...</td>\n",
       "      <td>...</td>\n",
       "      <td>...</td>\n",
       "      <td>...</td>\n",
       "      <td>...</td>\n",
       "      <td>...</td>\n",
       "      <td>...</td>\n",
       "    </tr>\n",
       "    <tr>\n",
       "      <th>296</th>\n",
       "      <td>10.1136/rapm-2018-100109</td>\n",
       "      <td>30954936</td>\n",
       "      <td>NCT01996254</td>\n",
       "      <td>Electrical Stimulation for the Treatment of Po...</td>\n",
       "      <td>[Post-Amputation Pain, Phantom Limb Pain, Resi...</td>\n",
       "      <td>Completed</td>\n",
       "      <td>Not Applicable</td>\n",
       "      <td>2020-06-22T19:49:09.713085</td>\n",
       "    </tr>\n",
       "    <tr>\n",
       "      <th>297</th>\n",
       "      <td>10.1016/j.bjps.2014.01.031</td>\n",
       "      <td>24560801</td>\n",
       "      <td>NCT02904941</td>\n",
       "      <td>Human Amniotic Versus Synthetic Membrane as a ...</td>\n",
       "      <td>[Burns]</td>\n",
       "      <td>Recruiting</td>\n",
       "      <td>Not Applicable</td>\n",
       "      <td>2020-06-22T19:49:10.228179</td>\n",
       "    </tr>\n",
       "    <tr>\n",
       "      <th>298</th>\n",
       "      <td>10.1016/j.bjps.2014.01.031</td>\n",
       "      <td>24560801</td>\n",
       "      <td>NCT03013582</td>\n",
       "      <td>Amniotic Membrane Wrapping and Tenolysis Versu...</td>\n",
       "      <td>[Tendinopathy, Adhesions Nos Postoperative, Sc...</td>\n",
       "      <td>Unknown status</td>\n",
       "      <td>Not Applicable</td>\n",
       "      <td>2020-06-22T19:49:10.228179</td>\n",
       "    </tr>\n",
       "    <tr>\n",
       "      <th>299</th>\n",
       "      <td>10.1016/j.bjps.2014.01.031</td>\n",
       "      <td>24560801</td>\n",
       "      <td>NCT03754218</td>\n",
       "      <td>Amnion Wound Covering for Enhanced Wound Healing</td>\n",
       "      <td>[Burns, Wound of Skin, Skin Wound]</td>\n",
       "      <td>Active, not recruiting</td>\n",
       "      <td>Early Phase 1</td>\n",
       "      <td>2020-06-22T19:49:10.228179</td>\n",
       "    </tr>\n",
       "    <tr>\n",
       "      <th>300</th>\n",
       "      <td>10.1111/nyas.13267</td>\n",
       "      <td>27750374</td>\n",
       "      <td>NCT03091075</td>\n",
       "      <td>Oxandrolone Rotator Cuff Trial</td>\n",
       "      <td>[Rotator Cuff Tear]</td>\n",
       "      <td>Recruiting</td>\n",
       "      <td>Phase 2</td>\n",
       "      <td>2020-06-22T19:49:47.409370</td>\n",
       "    </tr>\n",
       "  </tbody>\n",
       "</table>\n",
       "<p>301 rows × 8 columns</p>\n",
       "</div>"
      ],
      "text/plain": [
       "                                  doi      pmid        NCTId  \\\n",
       "0              10.1055/s-0030-1269906  21210335  NCT02325505   \n",
       "1      10.1513/annalsats.201610-824oc  28570161  NCT01353209   \n",
       "2      10.1001/jamadermatol.2018.0464  29800048  NCT01526356   \n",
       "3    10.2165/11634580-000000000-00000  22934754  NCT01031901   \n",
       "4    10.2165/11634580-000000000-00000  22934754  NCT03363763   \n",
       "..                                ...       ...          ...   \n",
       "296          10.1136/rapm-2018-100109  30954936  NCT01996254   \n",
       "297        10.1016/j.bjps.2014.01.031  24560801  NCT02904941   \n",
       "298        10.1016/j.bjps.2014.01.031  24560801  NCT03013582   \n",
       "299        10.1016/j.bjps.2014.01.031  24560801  NCT03754218   \n",
       "300                10.1111/nyas.13267  27750374  NCT03091075   \n",
       "\n",
       "                                            BriefTitle  \\\n",
       "0    Characterization of Patients With Tuberous Scl...   \n",
       "1    Trial of Aromatase Inhibition in Lymphangiolei...   \n",
       "2      Topical Rapamycin to Erase Angiofibromas in TSC   \n",
       "3    Topical Rapamycin Therapy to Alleviate Cutaneo...   \n",
       "4    Topical Sirolimus Ointment for Cutaneous Angio...   \n",
       "..                                                 ...   \n",
       "296  Electrical Stimulation for the Treatment of Po...   \n",
       "297  Human Amniotic Versus Synthetic Membrane as a ...   \n",
       "298  Amniotic Membrane Wrapping and Tenolysis Versu...   \n",
       "299   Amnion Wound Covering for Enhanced Wound Healing   \n",
       "300                     Oxandrolone Rotator Cuff Trial   \n",
       "\n",
       "                                             Condition  \\\n",
       "0    [Tuberous Sclerosis, Lymphangioleiomyomatosis,...   \n",
       "1                           [Lymphangioleiomyomatosis]   \n",
       "2                  [Angiofibromas, Tuberous Sclerosis]   \n",
       "3    [Tuberous Sclerosis, Neurofibromatoses, Angiof...   \n",
       "4           [Angiofibroma of Face, Tuberous Sclerosis]   \n",
       "..                                                 ...   \n",
       "296  [Post-Amputation Pain, Phantom Limb Pain, Resi...   \n",
       "297                                            [Burns]   \n",
       "298  [Tendinopathy, Adhesions Nos Postoperative, Sc...   \n",
       "299                 [Burns, Wound of Skin, Skin Wound]   \n",
       "300                                [Rotator Cuff Tear]   \n",
       "\n",
       "              OverallStatus           Phase                          ts  \n",
       "0                Recruiting            None  2020-06-22T18:54:23.977765  \n",
       "1                 Completed         Phase 2  2020-06-22T18:55:07.160337  \n",
       "2                 Completed         Phase 2  2020-06-22T18:55:14.956892  \n",
       "3                 Completed         Phase 1  2020-06-22T18:55:15.466715  \n",
       "4                Recruiting         Phase 2  2020-06-22T18:55:15.466715  \n",
       "..                      ...             ...                         ...  \n",
       "296               Completed  Not Applicable  2020-06-22T19:49:09.713085  \n",
       "297              Recruiting  Not Applicable  2020-06-22T19:49:10.228179  \n",
       "298          Unknown status  Not Applicable  2020-06-22T19:49:10.228179  \n",
       "299  Active, not recruiting   Early Phase 1  2020-06-22T19:49:10.228179  \n",
       "300              Recruiting         Phase 2  2020-06-22T19:49:47.409370  \n",
       "\n",
       "[301 rows x 8 columns]"
      ]
     },
     "execution_count": 218,
     "metadata": {},
     "output_type": "execute_result"
    }
   ],
   "source": [
    "clinicaltrials"
   ]
  },
  {
   "cell_type": "code",
   "execution_count": 132,
   "metadata": {},
   "outputs": [
    {
     "data": {
      "text/plain": [
       "<matplotlib.axes._subplots.AxesSubplot at 0x7fc8778b79e8>"
      ]
     },
     "execution_count": 132,
     "metadata": {},
     "output_type": "execute_result"
    },
    {
     "data": {
      "image/png": "[encoded data removed]",
      "text/plain": [
       "<Figure size 841.68x595.44 with 1 Axes>"
      ]
     },
     "metadata": {},
     "output_type": "display_data"
    }
   ],
   "source": [
    "clinicaltrials.doi.value_counts().hist()"
   ]
  },
  {
   "cell_type": "code",
   "execution_count": 184,
   "metadata": {},
   "outputs": [],
   "source": [
    "columns = ['doi', 'PMID', 'n_trials']\n",
    "parse_cols = ['NCTId', 'OverallStatus', 'Phase', 'BriefTitle', 'Condition']\n",
    "\n",
    "df = pd.DataFrame(columns=columns+parse_cols)\n",
    "\n",
    "for r in results:\n",
    "    if r['StudyFieldsResponse']['NStudiesFound'] > 0:\n",
    "        doi = r['doi']\n",
    "        pmid = r['StudyFieldsResponse']['Expression'].split(\"[\")[0]\n",
    "        n_trials = r['StudyFieldsResponse']['NStudiesFound']\n",
    "        for _ in r['StudyFieldsResponse']['StudyFields']:\n",
    "            row = []\n",
    "            for pc in parse_cols:\n",
    "                if pc in _:\n",
    "                    if len(_[pc]) > 0:\n",
    "                        x = _[pc][0]\n",
    "                    else:\n",
    "                        x = None\n",
    "                    row.append(x)\n",
    "            df.loc[len(df)+1] = [doi, pmid, n_trials] + row"
   ]
  },
  {
   "cell_type": "markdown",
   "metadata": {},
   "source": [
    "Example article with complete clinical trials:\n",
    "\n",
    "- DOI: https://doi.org/10.1126/science.1168175\n",
    "- Landing page: https://science.sciencemag.org/content/324/5928/787\n",
    "- PMID: https://pubmed.ncbi.nlm.nih.gov/19359544/\n",
    "- Available clinical trials (https://clinicaltrials.gov/search/term=19359544%20%5BPUBMED-IDS%5D):\n",
    "    - Phase 1: https://clinicaltrials.gov/ct2/show/record/NCT03829930?term=19359544+%5BPUBMED-IDS%5D&draw=2&rank=2\n",
    "    - Phase 2: https://clinicaltrials.gov/ct2/show/record/NCT03196388?term=19359544+%5BPUBMED-IDS%5D&draw=2&rank=1"
   ]
  },
  {
   "cell_type": "markdown",
   "metadata": {},
   "source": [
    "Relevant links to play around with clinical trials and pubmedIds\n",
    "\n",
    "- https://clinicaltrials.gov/ct2/show/NCT01874691\n",
    "- https://pubmed.ncbi.nlm.nih.gov/20031882/\n",
    "- https://clinicaltrials.gov/search/term=20031882%20%5BPUBMED-IDS%5D"
   ]
  }
 ],
 "metadata": {
  "kernelspec": {
   "display_name": "tracking-grants",
   "language": "python",
   "name": "tracking-grants"
  },
  "language_info": {
   "codemirror_mode": {
    "name": "ipython",
    "version": 3
   },
   "file_extension": ".py",
   "mimetype": "text/x-python",
   "name": "python",
   "nbconvert_exporter": "python",
   "pygments_lexer": "ipython3",
   "version": "3.6.10"
  }
 },
 "nbformat": 4,
 "nbformat_minor": 4
}
