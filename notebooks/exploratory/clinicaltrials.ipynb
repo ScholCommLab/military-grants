{
 "cells": [
  {
   "cell_type": "code",
   "execution_count": 1,
   "metadata": {},
   "outputs": [],
   "source": [
    "from pathlib import Path\n",
    "\n",
    "from IPython.display import Markdown as md\n",
    "\n",
    "import matplotlib.pyplot as plt\n",
    "import matplotlib.patches as mpatches\n",
    "from matplotlib_venn import venn3\n",
    "import pandas as pd\n",
    "import seaborn as sns\n",
    "\n",
    "import numpy as np\n",
    "\n",
    "from tracking_grants import references_f, articles_f, wos_f, altmetric_f\n",
    "from tracking_grants import tool_name, email, ncbi_api_key\n",
    "\n"
   ]
  },
  {
   "cell_type": "code",
   "execution_count": 118,
   "metadata": {},
   "outputs": [],
   "source": [
    "from tqdm.auto import tqdm\n",
    "import requests\n",
    "from ratelimit import limits, sleep_and_retry\n",
    "import re\n",
    "\n",
    "tqdm.pandas()\n",
    "\n",
    "from datetime import datetime"
   ]
  },
  {
   "cell_type": "code",
   "execution_count": null,
   "metadata": {},
   "outputs": [],
   "source": [
    "# Load references\n",
    "refs = pd.read_csv(references_f, index_col=\"reference_id\")"
   ]
  },
  {
   "cell_type": "code",
   "execution_count": 66,
   "metadata": {},
   "outputs": [],
   "source": [
    "# Load matched articles\n",
    "articles = pd.read_csv(articles_f)\n",
    "articles.DOI = articles.DOI.str.lower()"
   ]
  },
  {
   "cell_type": "code",
   "execution_count": 108,
   "metadata": {},
   "outputs": [],
   "source": [
    "class ClinicalTrials():\n",
    "    def __init__(self, fields):\n",
    "        self.baseurl = \"https://clinicaltrials.gov/api/query/study_fields\"\n",
    "        self.fields = fields\n",
    "        self.params = {\n",
    "            \"fields\": \",\".join(self.fields),\n",
    "            \"min_rnk\": 1,\n",
    "            \"max_rnk\": None,\n",
    "            \"fmt\": \"json\"\n",
    "        }\n",
    "        \n",
    "    def query_trials(self, pmid):\n",
    "        params = self.params\n",
    "        params['expr'] = f\"{pmid}[PUBMED-IDS]\"\n",
    "        \n",
    "        try:\n",
    "            r =  requests.get(self.baseurl, params=params)\n",
    "            if r.status_code == 200:\n",
    "                resp = r.json()['StudyFieldsResponse']\n",
    "                if resp['NStudiesFound'] > 0:\n",
    "                    return resp['StudyFields']\n",
    "                else:\n",
    "                    return None\n",
    "            else:\n",
    "                return None\n",
    "        except Exception as e:\n",
    "            return e"
   ]
  },
  {
   "cell_type": "code",
   "execution_count": 127,
   "metadata": {},
   "outputs": [
    {
     "data": {
      "application/vnd.jupyter.widget-view+json": {
       "model_id": "154d380ebbb245928c80645dc2fd1db9",
       "version_major": 2,
       "version_minor": 0
      },
      "text/plain": [
       "HBox(children=(FloatProgress(value=0.0, max=6711.0), HTML(value='')))"
      ]
     },
     "metadata": {},
     "output_type": "display_data"
    },
    {
     "name": "stdout",
     "output_type": "stream",
     "text": [
      "\n"
     ]
    }
   ],
   "source": [
    "fields = [\"NCTId\", \"BriefTitle\", \"Condition\", \"OverallStatus\", \"Phase\"]\n",
    "ct = ClinicalTrials(fields)\n",
    "\n",
    "clinicaltrials = pd.DataFrame(columns = ['doi', 'pmid'] + fields + ['ts'])\n",
    "\n",
    "df = articles\n",
    "\n",
    "dois = df.DOI.tolist()\n",
    "pmids = df.pmid.tolist()\n",
    "\n",
    "for doi, pmid in tqdm(zip(dois, pmids), total=len(dois)):\n",
    "    if pmid:\n",
    "        ts = datetime.now().isoformat()\n",
    "        trials = ct.query_trials(pmid)\n",
    "        if trials:\n",
    "            for t in trials:\n",
    "                row = [doi, pmid]\n",
    "                for f in fields:\n",
    "                    if f in t:\n",
    "                        row.append(t[f])\n",
    "                    else:\n",
    "                        row.append(None)\n",
    "                row.append(ts)\n",
    "                \n",
    "                clinicaltrials.loc[len(clinicaltrials)+1] = row"
   ]
  },
  {
   "cell_type": "code",
   "execution_count": 129,
   "metadata": {},
   "outputs": [],
   "source": [
    "clinicaltrials.to_csv(\"clinicaltrials.csv\")"
   ]
  },
  {
   "cell_type": "code",
   "execution_count": 138,
   "metadata": {},
   "outputs": [],
   "source": [
    "for c in ['NCTId', 'BriefTitle', 'Condition', 'OverallStatus', 'Phase']:\n",
    "    clinicaltrials[c] = clinicaltrials[c].map(lambda x: x[0] if len(x)==1 else x)"
   ]
  },
  {
   "cell_type": "code",
   "execution_count": 132,
   "metadata": {},
   "outputs": [
    {
     "data": {
      "text/plain": [
       "<matplotlib.axes._subplots.AxesSubplot at 0x7fc8778b79e8>"
      ]
     },
     "execution_count": 132,
     "metadata": {},
     "output_type": "execute_result"
    },
    {
     "data": {
      "image/png": "[encoded data removed]",
      "text/plain": [
       "<Figure size 841.68x595.44 with 1 Axes>"
      ]
     },
     "metadata": {},
     "output_type": "display_data"
    }
   ],
   "source": [
    "clinicaltrials.doi.value_counts().hist()"
   ]
  },
  {
   "cell_type": "code",
   "execution_count": 184,
   "metadata": {},
   "outputs": [],
   "source": [
    "columns = ['doi', 'PMID', 'n_trials']\n",
    "parse_cols = ['NCTId', 'OverallStatus', 'Phase', 'BriefTitle', 'Condition']\n",
    "\n",
    "df = pd.DataFrame(columns=columns+parse_cols)\n",
    "\n",
    "for r in results:\n",
    "    if r['StudyFieldsResponse']['NStudiesFound'] > 0:\n",
    "        doi = r['doi']\n",
    "        pmid = r['StudyFieldsResponse']['Expression'].split(\"[\")[0]\n",
    "        n_trials = r['StudyFieldsResponse']['NStudiesFound']\n",
    "        for _ in r['StudyFieldsResponse']['StudyFields']:\n",
    "            row = []\n",
    "            for pc in parse_cols:\n",
    "                if pc in _:\n",
    "                    if len(_[pc]) > 0:\n",
    "                        x = _[pc][0]\n",
    "                    else:\n",
    "                        x = None\n",
    "                    row.append(x)\n",
    "            df.loc[len(df)+1] = [doi, pmid, n_trials] + row"
   ]
  },
  {
   "cell_type": "markdown",
   "metadata": {},
   "source": [
    "Example article with complete clinical trials:\n",
    "\n",
    "- DOI: https://doi.org/10.1126/science.1168175\n",
    "- Landing page: https://science.sciencemag.org/content/324/5928/787\n",
    "- PMID: https://pubmed.ncbi.nlm.nih.gov/19359544/\n",
    "- Available clinical trials (https://clinicaltrials.gov/search/term=19359544%20%5BPUBMED-IDS%5D):\n",
    "    - Phase 1: https://clinicaltrials.gov/ct2/show/record/NCT03829930?term=19359544+%5BPUBMED-IDS%5D&draw=2&rank=2\n",
    "    - Phase 2: https://clinicaltrials.gov/ct2/show/record/NCT03196388?term=19359544+%5BPUBMED-IDS%5D&draw=2&rank=1"
   ]
  },
  {
   "cell_type": "markdown",
   "metadata": {},
   "source": [
    "Relevant links to play around with clinical trials and pubmedIds\n",
    "\n",
    "- https://clinicaltrials.gov/ct2/show/NCT01874691\n",
    "- https://pubmed.ncbi.nlm.nih.gov/20031882/\n",
    "- https://clinicaltrials.gov/search/term=20031882%20%5BPUBMED-IDS%5D"
   ]
  },
  {
   "cell_type": "code",
   "execution_count": 67,
   "metadata": {},
   "outputs": [
    {
     "data": {
      "application/vnd.jupyter.widget-view+json": {
       "model_id": "",
       "version_major": 2,
       "version_minor": 0
      },
      "text/plain": [
       "HBox(children=(FloatProgress(value=0.0, max=6279.0), HTML(value='')))"
      ]
     },
     "metadata": {},
     "output_type": "display_data"
    },
    {
     "name": "stdout",
     "output_type": "stream",
     "text": [
      "1\n"
     ]
    }
   ],
   "source": [
    "baseurl = f\"https://clinicaltrials.gov/api/query/full_studies\"\n",
    "\n",
    "pmids = articles.pmid.dropna().astype(int)\n",
    "for pmid in tqdm(pmids):\n",
    "    params = {\n",
    "        \"expr\": \"{}[PUBMED-IDS]\",\n",
    "        \"min_rnk\": 1,\n",
    "        \"max_rnk\": None,\n",
    "        \"fmt\": \"json\"\n",
    "    }\n",
    "    pmid = 20031882\n",
    "    params['expr'] = params['expr'].format(pmid)\n",
    "    \n",
    "    r = requests.get(baseurl, params=params)\n",
    "    print(r.json()['FullStudiesResponse']['NStudiesFound'])\n",
    "    break"
   ]
  },
  {
   "cell_type": "code",
   "execution_count": 78,
   "metadata": {},
   "outputs": [
    {
     "data": {
      "text/plain": [
       "{'ReferenceList': {'Reference': [{'ReferencePMID': '20031882',\n",
       "    'ReferenceType': 'background',\n",
       "    'ReferenceCitation': 'Peterson ED, Roe MT, Rumsfeld JS, Shaw RE, Brindis RG, Fonarow GC, Cannon CP. A call to ACTION (acute coronary treatment and intervention outcomes network): a national effort to promote timely clinical feedback and support continuous quality improvement for acute myocardial infarction. Circ Cardiovasc Qual Outcomes. 2009 Sep;2(5):491-9. doi: 10.1161/CIRCOUTCOMES.108.847145.'},\n",
       "   {'ReferencePMID': '31567475',\n",
       "    'ReferenceType': 'derived',\n",
       "    'ReferenceCitation': 'Song CX, Fu R, Yang JG, Xu HY, Gao XJ, Wang CY, Zheng Y, Jia SB, Dou KF, Yang YJ; CAMI Registry study group. Angiographic characteristics and in-hospital mortality among patients with ST-segment elevation myocardial infarction presenting without typical chest pain: an analysis of China Acute Myocardial Infarction registry. Chin Med J (Engl). 2019 Oct 5;132(19):2286-2291. doi: 10.1097/CM9.0000000000000432.'},\n",
       "   {'ReferencePMID': '31515430',\n",
       "    'ReferenceType': 'derived',\n",
       "    'ReferenceCitation': 'Song C, Fu R, Li S, Yang J, Wang Y, Xu H, Gao X, Liu J, Liu Q, Wang C, Dou K, Yang Y. Simple risk score based on the China Acute Myocardial Infarction registry for predicting in-hospital mortality among patients with non-ST-segment elevation myocardial infarction: results of a prospective observational cohort study. BMJ Open. 2019 Sep 12;9(9):e030772. doi: 10.1136/bmjopen-2019-030772.'},\n",
       "   {'ReferencePMID': '31471442',\n",
       "    'ReferenceType': 'derived',\n",
       "    'ReferenceCitation': 'Song C, Fu R, Dou K, Yang J, Xu H, Gao X, Wang H, Liu S, Fan X, Yang Y. Association between smoking and in-hospital mortality in patients with acute myocardial infarction: results from a prospective, multicentre, observational study in China. BMJ Open. 2019 Aug 30;9(8):e030252. doi: 10.1136/bmjopen-2019-030252.'},\n",
       "   {'ReferencePMID': '31255895',\n",
       "    'ReferenceType': 'derived',\n",
       "    'ReferenceCitation': 'Leng W, Yang J, Fan X, Sun Y, Xu H, Gao X, Wang Y, Li W, Xu Y, Han Y, Jia S, Zheng Y, Yang Y; behalf CAMI Registry investigators. Contemporary invasive management and in-hospital outcomes of patients with non-ST-segment elevation myocardial infarction in China: Findings from China Acute Myocardial Infarction (CAMI) Registry. Am Heart J. 2019 Sep;215:1-11. doi: 10.1016/j.ahj.2019.05.015. Epub 2019 Jun 6.'},\n",
       "   {'ReferencePMID': '30807351',\n",
       "    'ReferenceType': 'derived',\n",
       "    'ReferenceCitation': 'Fu R, Song CX, Dou KF, Yang JG, Xu HY, Gao XJ, Liu QQ, Xu H, Yang YJ. Differences in symptoms and pre-hospital delay among acute myocardial infarction patients according to ST-segment elevation on electrocardiogram: an analysis of China Acute Myocardial Infarction (CAMI) registry. Chin Med J (Engl). 2019 Mar 5;132(5):519-524. doi: 10.1097/CM9.0000000000000122.'},\n",
       "   {'ReferencePMID': '28052755',\n",
       "    'ReferenceType': 'derived',\n",
       "    'ReferenceCitation': 'Dai Y, Yang J, Gao Z, Xu H, Sun Y, Wu Y, Gao X, Li W, Wang Y, Gao R, Yang Y; CAMI Registry study group. Atrial fibrillation in patients hospitalized with acute myocardial infarction: analysis of the china acute myocardial infarction (CAMI) registry. BMC Cardiovasc Disord. 2017 Jan 4;17(1):2. doi: 10.1186/s12872-016-0442-9.'},\n",
       "   {'ReferencePMID': '27530939',\n",
       "    'ReferenceType': 'derived',\n",
       "    'ReferenceCitation': 'Sun H, Yang YJ, Xu HY, Yang JG, Gao XJ, Wu Y, Li W, Wang Y, Liu J, Jin C, Song L; CAMI Registry Study Group. [Survey of medical care resources of acute myocardial infarction in different regions and levels of hospitals in China]. Zhonghua Xin Xue Guan Bing Za Zhi. 2016 Jul 24;44(7):565-9. doi: 10.3760/cma.j.issn.0253-3758.2016.07.003. Chinese.'}]}}"
      ]
     },
     "execution_count": 78,
     "metadata": {},
     "output_type": "execute_result"
    }
   ],
   "source": [
    "r.json()['FullStudiesResponse']['FullStudies'][0]['Study']['ProtocolSection']['ReferencesModule']"
   ]
  }
 ],
 "metadata": {
  "kernelspec": {
   "display_name": "tracking-grants",
   "language": "python",
   "name": "tracking-grants"
  },
  "language_info": {
   "codemirror_mode": {
    "name": "ipython",
    "version": 3
   },
   "file_extension": ".py",
   "mimetype": "text/x-python",
   "name": "python",
   "nbconvert_exporter": "python",
   "pygments_lexer": "ipython3",
   "version": "3.6.10"
  }
 },
 "nbformat": 4,
 "nbformat_minor": 4
}
