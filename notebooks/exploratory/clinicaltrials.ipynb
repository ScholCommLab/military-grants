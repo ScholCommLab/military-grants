{
 "cells": [
  {
   "cell_type": "code",
   "execution_count": 11,
   "metadata": {},
   "outputs": [],
   "source": [
    "from pathlib import Path\n",
    "\n",
    "from IPython.display import Markdown as md\n",
    "\n",
    "import matplotlib.pyplot as plt\n",
    "import matplotlib.patches as mpatches\n",
    "from matplotlib_venn import venn3\n",
    "import pandas as pd\n",
    "import seaborn as sns\n",
    "\n",
    "import numpy as np\n",
    "\n",
    "from tracking_grants import references_f, articles_f, wos_f, altmetric_f"
   ]
  },
  {
   "cell_type": "code",
   "execution_count": 12,
   "metadata": {},
   "outputs": [],
   "source": [
    "from tqdm.auto import tqdm\n",
    "import requests"
   ]
  },
  {
   "cell_type": "code",
   "execution_count": 13,
   "metadata": {},
   "outputs": [],
   "source": [
    "# Load references\n",
    "refs = pd.read_csv(references_f, index_col=\"reference_id\")"
   ]
  },
  {
   "cell_type": "code",
   "execution_count": 14,
   "metadata": {},
   "outputs": [],
   "source": [
    "# Load matched articles\n",
    "articles = pd.read_csv(articles_f, index_col=\"DOI\")\n",
    "articles.index = articles.index.str.lower()"
   ]
  },
  {
   "cell_type": "code",
   "execution_count": 104,
   "metadata": {},
   "outputs": [],
   "source": [
    "import re"
   ]
  },
  {
   "cell_type": "code",
   "execution_count": 97,
   "metadata": {},
   "outputs": [],
   "source": [
    "def get_pmid(doi):\n",
    "    burl = \"https://eutils.ncbi.nlm.nih.gov/entrez/eutils/esearch.fcgi?db=pubmed&term={}\"\n",
    "    return requests.get(burl.format(doi))"
   ]
  },
  {
   "cell_type": "code",
   "execution_count": 176,
   "metadata": {},
   "outputs": [
    {
     "data": {
      "application/vnd.jupyter.widget-view+json": {
       "model_id": "447b75033066402687cc4b08d05676b9",
       "version_major": 2,
       "version_minor": 0
      },
      "text/plain": [
       "HBox(children=(FloatProgress(value=0.0), HTML(value='')))"
      ]
     },
     "metadata": {},
     "output_type": "display_data"
    },
    {
     "name": "stdout",
     "output_type": "stream",
     "text": [
      "\n"
     ]
    }
   ],
   "source": [
    "results = []\n",
    "\n",
    "baseurl = f\"https://clinicaltrials.gov/api/query/study_fields\"\n",
    "pmid_regex = re.compile(r\"<Id>(\\d+)<\\/Id>\")\n",
    "\n",
    "dois = articles.sort_values(\"coci_citations\", ascending=False).index.tolist()\n",
    "for doi in tqdm(dois[0:100]):\n",
    "    r = get_pmid(doi)\n",
    "    match = pmid_regex.search(r.text)\n",
    "    if match:\n",
    "        pmid = match.group(1)\n",
    "    else:\n",
    "        continue\n",
    "        \n",
    "    params = {\n",
    "        \"expr\": \"{}[PUBMED-IDS]\",\n",
    "        \"fields\": \"NCTId,BriefTitle,Condition,OverallStatus,Phase\",\n",
    "        \"min_rnk\": 1,\n",
    "        \"max_rnk\": None,\n",
    "        \"fmt\": \"json\"\n",
    "    }\n",
    "    params['expr'] = params['expr'].format(pmid)\n",
    "    \n",
    "    r = requests.get(baseurl, params=params).json()\n",
    "    r['doi'] = doi\n",
    "    results.append(r)"
   ]
  },
  {
   "cell_type": "code",
   "execution_count": 179,
   "metadata": {},
   "outputs": [
    {
     "data": {
      "text/plain": [
       "{'StudyFieldsResponse': {'APIVrs': '1.01.02',\n",
       "  'DataVrs': '2020:06:18 22:05:13.992',\n",
       "  'Expression': '18798982[PUBMED-IDS]',\n",
       "  'NStudiesAvail': 343237,\n",
       "  'NStudiesFound': 0,\n",
       "  'MinRank': 1,\n",
       "  'MaxRank': 20,\n",
       "  'NStudiesReturned': 0,\n",
       "  'FieldList': ['NCTId', 'BriefTitle', 'Condition', 'OverallStatus', 'Phase']},\n",
       " 'doi': '10.1186/gb-2008-9-9-r137'}"
      ]
     },
     "execution_count": 179,
     "metadata": {},
     "output_type": "execute_result"
    }
   ],
   "source": [
    "results[0]"
   ]
  },
  {
   "cell_type": "code",
   "execution_count": 184,
   "metadata": {},
   "outputs": [],
   "source": [
    "columns = ['doi', 'PMID', 'n_trials']\n",
    "parse_cols = ['NCTId', 'OverallStatus', 'Phase', 'BriefTitle', 'Condition']\n",
    "\n",
    "df = pd.DataFrame(columns=columns+parse_cols)\n",
    "\n",
    "for r in results:\n",
    "    if r['StudyFieldsResponse']['NStudiesFound'] > 0:\n",
    "        doi = r['doi']\n",
    "        pmid = r['StudyFieldsResponse']['Expression'].split(\"[\")[0]\n",
    "        n_trials = r['StudyFieldsResponse']['NStudiesFound']\n",
    "        for _ in r['StudyFieldsResponse']['StudyFields']:\n",
    "            row = []\n",
    "            for pc in parse_cols:\n",
    "                if pc in _:\n",
    "                    if len(_[pc]) > 0:\n",
    "                        x = _[pc][0]\n",
    "                    else:\n",
    "                        x = None\n",
    "                    row.append(x)\n",
    "            df.loc[len(df)+1] = [doi, pmid, n_trials] + row"
   ]
  },
  {
   "cell_type": "code",
   "execution_count": 188,
   "metadata": {},
   "outputs": [
    {
     "data": {
      "text/plain": [
       "0.962002682163612"
      ]
     },
     "execution_count": 188,
     "metadata": {},
     "output_type": "execute_result"
    }
   ],
   "source": [
    "articles.coci_citations.count()/len(articles)"
   ]
  },
  {
   "cell_type": "code",
   "execution_count": 197,
   "metadata": {},
   "outputs": [
    {
     "data": {
      "text/plain": [
       "Phase 2           6\n",
       "Not Applicable    5\n",
       "Phase 1           4\n",
       "Phase 3           4\n",
       "Early Phase 1     1\n",
       "Name: Phase, dtype: int64"
      ]
     },
     "execution_count": 197,
     "metadata": {},
     "output_type": "execute_result"
    }
   ],
   "source": [
    "df.Phase.value_counts()"
   ]
  },
  {
   "cell_type": "code",
   "execution_count": 189,
   "metadata": {},
   "outputs": [
    {
     "data": {
      "text/html": [
       "<div>\n",
       "<style scoped>\n",
       "    .dataframe tbody tr th:only-of-type {\n",
       "        vertical-align: middle;\n",
       "    }\n",
       "\n",
       "    .dataframe tbody tr th {\n",
       "        vertical-align: top;\n",
       "    }\n",
       "\n",
       "    .dataframe thead th {\n",
       "        text-align: right;\n",
       "    }\n",
       "</style>\n",
       "<table border=\"1\" class=\"dataframe\">\n",
       "  <thead>\n",
       "    <tr style=\"text-align: right;\">\n",
       "      <th></th>\n",
       "      <th>doi</th>\n",
       "      <th>PMID</th>\n",
       "      <th>n_trials</th>\n",
       "      <th>NCTId</th>\n",
       "      <th>OverallStatus</th>\n",
       "      <th>Phase</th>\n",
       "      <th>BriefTitle</th>\n",
       "      <th>Condition</th>\n",
       "    </tr>\n",
       "  </thead>\n",
       "  <tbody>\n",
       "    <tr>\n",
       "      <th>count</th>\n",
       "      <td>27</td>\n",
       "      <td>27</td>\n",
       "      <td>27</td>\n",
       "      <td>27</td>\n",
       "      <td>27</td>\n",
       "      <td>20</td>\n",
       "      <td>27</td>\n",
       "      <td>27</td>\n",
       "    </tr>\n",
       "    <tr>\n",
       "      <th>unique</th>\n",
       "      <td>13</td>\n",
       "      <td>13</td>\n",
       "      <td>3</td>\n",
       "      <td>24</td>\n",
       "      <td>6</td>\n",
       "      <td>5</td>\n",
       "      <td>24</td>\n",
       "      <td>20</td>\n",
       "    </tr>\n",
       "    <tr>\n",
       "      <th>top</th>\n",
       "      <td>10.1056/nejmoa1207506</td>\n",
       "      <td>22894553</td>\n",
       "      <td>11</td>\n",
       "      <td>NCT03979339</td>\n",
       "      <td>Completed</td>\n",
       "      <td>Phase 2</td>\n",
       "      <td>Combination of Entinostat and Enzalutamide in ...</td>\n",
       "      <td>Prostate Cancer</td>\n",
       "    </tr>\n",
       "    <tr>\n",
       "      <th>freq</th>\n",
       "      <td>11</td>\n",
       "      <td>11</td>\n",
       "      <td>11</td>\n",
       "      <td>2</td>\n",
       "      <td>10</td>\n",
       "      <td>6</td>\n",
       "      <td>2</td>\n",
       "      <td>3</td>\n",
       "    </tr>\n",
       "  </tbody>\n",
       "</table>\n",
       "</div>"
      ],
      "text/plain": [
       "                          doi      PMID  n_trials        NCTId OverallStatus  \\\n",
       "count                      27        27        27           27            27   \n",
       "unique                     13        13         3           24             6   \n",
       "top     10.1056/nejmoa1207506  22894553        11  NCT03979339     Completed   \n",
       "freq                       11        11        11            2            10   \n",
       "\n",
       "          Phase                                         BriefTitle  \\\n",
       "count        20                                                 27   \n",
       "unique        5                                                 24   \n",
       "top     Phase 2  Combination of Entinostat and Enzalutamide in ...   \n",
       "freq          6                                                  2   \n",
       "\n",
       "              Condition  \n",
       "count                27  \n",
       "unique               20  \n",
       "top     Prostate Cancer  \n",
       "freq                  3  "
      ]
     },
     "execution_count": 189,
     "metadata": {},
     "output_type": "execute_result"
    }
   ],
   "source": [
    "df.describe()"
   ]
  },
  {
   "cell_type": "markdown",
   "metadata": {},
   "source": [
    "Example article with complete clinical trials:\n",
    "\n",
    "- DOI: https://doi.org/10.1126/science.1168175\n",
    "- Landing page: https://science.sciencemag.org/content/324/5928/787\n",
    "- PMID: https://pubmed.ncbi.nlm.nih.gov/19359544/\n",
    "- Available clinical trials (https://clinicaltrials.gov/search/term=19359544%20%5BPUBMED-IDS%5D):\n",
    "    - Phase 1: https://clinicaltrials.gov/ct2/show/record/NCT03829930?term=19359544+%5BPUBMED-IDS%5D&draw=2&rank=2\n",
    "    - Phase 2: https://clinicaltrials.gov/ct2/show/record/NCT03196388?term=19359544+%5BPUBMED-IDS%5D&draw=2&rank=1"
   ]
  },
  {
   "cell_type": "markdown",
   "metadata": {},
   "source": [
    "Relevant links to play around with clinical trials and pubmedIds\n",
    "\n",
    "- https://clinicaltrials.gov/ct2/show/NCT01874691\n",
    "- https://pubmed.ncbi.nlm.nih.gov/20031882/\n",
    "- https://clinicaltrials.gov/search/term=20031882%20%5BPUBMED-IDS%5D"
   ]
  },
  {
   "cell_type": "code",
   "execution_count": 67,
   "metadata": {},
   "outputs": [
    {
     "data": {
      "application/vnd.jupyter.widget-view+json": {
       "model_id": "",
       "version_major": 2,
       "version_minor": 0
      },
      "text/plain": [
       "HBox(children=(FloatProgress(value=0.0, max=6279.0), HTML(value='')))"
      ]
     },
     "metadata": {},
     "output_type": "display_data"
    },
    {
     "name": "stdout",
     "output_type": "stream",
     "text": [
      "1\n"
     ]
    }
   ],
   "source": [
    "baseurl = f\"https://clinicaltrials.gov/api/query/full_studies\"\n",
    "\n",
    "pmids = articles.pmid.dropna().astype(int)\n",
    "for pmid in tqdm(pmids):\n",
    "    params = {\n",
    "        \"expr\": \"{}[PUBMED-IDS]\",\n",
    "        \"min_rnk\": 1,\n",
    "        \"max_rnk\": None,\n",
    "        \"fmt\": \"json\"\n",
    "    }\n",
    "    pmid = 20031882\n",
    "    params['expr'] = params['expr'].format(pmid)\n",
    "    \n",
    "    r = requests.get(baseurl, params=params)\n",
    "    print(r.json()['FullStudiesResponse']['NStudiesFound'])\n",
    "    break"
   ]
  },
  {
   "cell_type": "code",
   "execution_count": 78,
   "metadata": {},
   "outputs": [
    {
     "data": {
      "text/plain": [
       "{'ReferenceList': {'Reference': [{'ReferencePMID': '20031882',\n",
       "    'ReferenceType': 'background',\n",
       "    'ReferenceCitation': 'Peterson ED, Roe MT, Rumsfeld JS, Shaw RE, Brindis RG, Fonarow GC, Cannon CP. A call to ACTION (acute coronary treatment and intervention outcomes network): a national effort to promote timely clinical feedback and support continuous quality improvement for acute myocardial infarction. Circ Cardiovasc Qual Outcomes. 2009 Sep;2(5):491-9. doi: 10.1161/CIRCOUTCOMES.108.847145.'},\n",
       "   {'ReferencePMID': '31567475',\n",
       "    'ReferenceType': 'derived',\n",
       "    'ReferenceCitation': 'Song CX, Fu R, Yang JG, Xu HY, Gao XJ, Wang CY, Zheng Y, Jia SB, Dou KF, Yang YJ; CAMI Registry study group. Angiographic characteristics and in-hospital mortality among patients with ST-segment elevation myocardial infarction presenting without typical chest pain: an analysis of China Acute Myocardial Infarction registry. Chin Med J (Engl). 2019 Oct 5;132(19):2286-2291. doi: 10.1097/CM9.0000000000000432.'},\n",
       "   {'ReferencePMID': '31515430',\n",
       "    'ReferenceType': 'derived',\n",
       "    'ReferenceCitation': 'Song C, Fu R, Li S, Yang J, Wang Y, Xu H, Gao X, Liu J, Liu Q, Wang C, Dou K, Yang Y. Simple risk score based on the China Acute Myocardial Infarction registry for predicting in-hospital mortality among patients with non-ST-segment elevation myocardial infarction: results of a prospective observational cohort study. BMJ Open. 2019 Sep 12;9(9):e030772. doi: 10.1136/bmjopen-2019-030772.'},\n",
       "   {'ReferencePMID': '31471442',\n",
       "    'ReferenceType': 'derived',\n",
       "    'ReferenceCitation': 'Song C, Fu R, Dou K, Yang J, Xu H, Gao X, Wang H, Liu S, Fan X, Yang Y. Association between smoking and in-hospital mortality in patients with acute myocardial infarction: results from a prospective, multicentre, observational study in China. BMJ Open. 2019 Aug 30;9(8):e030252. doi: 10.1136/bmjopen-2019-030252.'},\n",
       "   {'ReferencePMID': '31255895',\n",
       "    'ReferenceType': 'derived',\n",
       "    'ReferenceCitation': 'Leng W, Yang J, Fan X, Sun Y, Xu H, Gao X, Wang Y, Li W, Xu Y, Han Y, Jia S, Zheng Y, Yang Y; behalf CAMI Registry investigators. Contemporary invasive management and in-hospital outcomes of patients with non-ST-segment elevation myocardial infarction in China: Findings from China Acute Myocardial Infarction (CAMI) Registry. Am Heart J. 2019 Sep;215:1-11. doi: 10.1016/j.ahj.2019.05.015. Epub 2019 Jun 6.'},\n",
       "   {'ReferencePMID': '30807351',\n",
       "    'ReferenceType': 'derived',\n",
       "    'ReferenceCitation': 'Fu R, Song CX, Dou KF, Yang JG, Xu HY, Gao XJ, Liu QQ, Xu H, Yang YJ. Differences in symptoms and pre-hospital delay among acute myocardial infarction patients according to ST-segment elevation on electrocardiogram: an analysis of China Acute Myocardial Infarction (CAMI) registry. Chin Med J (Engl). 2019 Mar 5;132(5):519-524. doi: 10.1097/CM9.0000000000000122.'},\n",
       "   {'ReferencePMID': '28052755',\n",
       "    'ReferenceType': 'derived',\n",
       "    'ReferenceCitation': 'Dai Y, Yang J, Gao Z, Xu H, Sun Y, Wu Y, Gao X, Li W, Wang Y, Gao R, Yang Y; CAMI Registry study group. Atrial fibrillation in patients hospitalized with acute myocardial infarction: analysis of the china acute myocardial infarction (CAMI) registry. BMC Cardiovasc Disord. 2017 Jan 4;17(1):2. doi: 10.1186/s12872-016-0442-9.'},\n",
       "   {'ReferencePMID': '27530939',\n",
       "    'ReferenceType': 'derived',\n",
       "    'ReferenceCitation': 'Sun H, Yang YJ, Xu HY, Yang JG, Gao XJ, Wu Y, Li W, Wang Y, Liu J, Jin C, Song L; CAMI Registry Study Group. [Survey of medical care resources of acute myocardial infarction in different regions and levels of hospitals in China]. Zhonghua Xin Xue Guan Bing Za Zhi. 2016 Jul 24;44(7):565-9. doi: 10.3760/cma.j.issn.0253-3758.2016.07.003. Chinese.'}]}}"
      ]
     },
     "execution_count": 78,
     "metadata": {},
     "output_type": "execute_result"
    }
   ],
   "source": [
    "r.json()['FullStudiesResponse']['FullStudies'][0]['Study']['ProtocolSection']['ReferencesModule']"
   ]
  }
 ],
 "metadata": {
  "kernelspec": {
   "display_name": "tracking-grants",
   "language": "python",
   "name": "tracking-grants"
  },
  "language_info": {
   "codemirror_mode": {
    "name": "ipython",
    "version": 3
   },
   "file_extension": ".py",
   "mimetype": "text/x-python",
   "name": "python",
   "nbconvert_exporter": "python",
   "pygments_lexer": "ipython3",
   "version": "3.6.10"
  }
 },
 "nbformat": 4,
 "nbformat_minor": 4
}
