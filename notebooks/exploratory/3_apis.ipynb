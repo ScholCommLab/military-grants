{
 "cells": [
  {
   "cell_type": "code",
   "execution_count": 1,
   "metadata": {},
   "outputs": [],
   "source": [
    "from pprint import pprint\n",
    "import pandas as pd"
   ]
  },
  {
   "cell_type": "code",
   "execution_count": 2,
   "metadata": {},
   "outputs": [],
   "source": [
    "from requests_futures.sessions import FuturesSession"
   ]
  },
  {
   "cell_type": "code",
   "execution_count": 3,
   "metadata": {},
   "outputs": [],
   "source": [
    "from tracking_grants import articles_f, email, ncbi_api_key, tool_name"
   ]
  },
  {
   "cell_type": "code",
   "execution_count": 4,
   "metadata": {},
   "outputs": [],
   "source": [
    "from ratelimit import limits, sleep_and_retry\n",
    "from tqdm.auto import tqdm\n",
    "import re"
   ]
  },
  {
   "cell_type": "code",
   "execution_count": 5,
   "metadata": {},
   "outputs": [],
   "source": [
    "articles = pd.read_csv(articles_f)"
   ]
  },
  {
   "cell_type": "code",
   "execution_count": 6,
   "metadata": {},
   "outputs": [],
   "source": [
    "dois = articles.DOI.sample(100).unique().tolist()"
   ]
  },
  {
   "cell_type": "markdown",
   "metadata": {},
   "source": [
    "### Async calls with request futures"
   ]
  },
  {
   "cell_type": "code",
   "execution_count": 79,
   "metadata": {},
   "outputs": [],
   "source": [
    "NCBI_CALLS_PER_SEC = 3\n",
    "\n",
    "class Eutils:\n",
    "    def __init__(self, tool, email, api_key):\n",
    "        self.search_api = \"https://eutils.ncbi.nlm.nih.gov/entrez/eutils/esearch.fcgi\"\n",
    "        self.session = FuturesSession()\n",
    "        self.session.hooks['response'] = self.response_hook\n",
    "        \n",
    "        self.params = {\n",
    "            \"tool\": tool,\n",
    "            \"email\": email,\n",
    "            \"api_key\": api_key,\n",
    "            \"db\": \"pubmed\",\n",
    "            \"retmax\": 1,\n",
    "        }\n",
    "\n",
    "    @sleep_and_retry\n",
    "    @limits(calls=NCBI_CALLS_PER_SEC, period=1)\n",
    "    def search(self, doi):\n",
    "        params = self.params\n",
    "        params[\"term\"] = doi\n",
    "\n",
    "        future = self.session.get(self.search_api, params=params)\n",
    "        return future\n",
    "    \n",
    "    @staticmethod\n",
    "    def response_hook(resp, *args, **kwargs):\n",
    "        if resp.status_code != 200:\n",
    "            resp.data = f\"Error:{response.status_code}\"\n",
    "        else:\n",
    "            text = resp.text\n",
    "            resp.data = None\n",
    "\n",
    "            # Only return DOI has been found in the text\n",
    "            if 'PhraseNotFound' not in text:\n",
    "                count = int(re.search(r\"<Count>(\\d+)<\\/Count>\", text).group(1))\n",
    "                # Only return unique matches\n",
    "                if count == 1:\n",
    "                    match = re.search(r\"<Id>(\\d+)<\\/Id>\", text)\n",
    "                    if match:\n",
    "                        resp.data =  match.group(1)"
   ]
  },
  {
   "cell_type": "code",
   "execution_count": 80,
   "metadata": {},
   "outputs": [],
   "source": [
    "eutils = Eutils(tool_name, email, ncbi_api_key)"
   ]
  },
  {
   "cell_type": "code",
   "execution_count": 81,
   "metadata": {},
   "outputs": [
    {
     "data": {
      "application/vnd.jupyter.widget-view+json": {
       "model_id": "e277f6376c874a6683445f5df86b92a2",
       "version_major": 2,
       "version_minor": 0
      },
      "text/plain": [
       "HBox(children=(FloatProgress(value=0.0), HTML(value='')))"
      ]
     },
     "metadata": {},
     "output_type": "display_data"
    },
    {
     "name": "stdout",
     "output_type": "stream",
     "text": [
      "\n"
     ]
    }
   ],
   "source": [
    "futures = []\n",
    "for doi in tqdm(dois):\n",
    "    futures.append((doi, eutils.search(doi)))"
   ]
  },
  {
   "cell_type": "code",
   "execution_count": 82,
   "metadata": {},
   "outputs": [
    {
     "data": {
      "application/vnd.jupyter.widget-view+json": {
       "model_id": "0a94d8902e6244b9863a3df560e07c17",
       "version_major": 2,
       "version_minor": 0
      },
      "text/plain": [
       "HBox(children=(FloatProgress(value=0.0), HTML(value='')))"
      ]
     },
     "metadata": {},
     "output_type": "display_data"
    },
    {
     "name": "stdout",
     "output_type": "stream",
     "text": [
      "\n"
     ]
    }
   ],
   "source": [
    "results = {}\n",
    "for doi, future in tqdm(futures):\n",
    "    response = future.result()\n",
    "    results[doi] = response.data"
   ]
  },
  {
   "cell_type": "markdown",
   "metadata": {},
   "source": [
    "### Async Code with aiohttp"
   ]
  },
  {
   "cell_type": "code",
   "execution_count": 93,
   "metadata": {},
   "outputs": [],
   "source": [
    "import aiohttp\n",
    "import asyncio\n",
    "from asyncio_throttle import Throttler"
   ]
  },
  {
   "cell_type": "code",
   "execution_count": 94,
   "metadata": {},
   "outputs": [],
   "source": [
    "import time"
   ]
  },
  {
   "cell_type": "code",
   "execution_count": 101,
   "metadata": {},
   "outputs": [],
   "source": [
    "COUNT_REGEX = r\"<Count>(\\d+)<\\/Count>\"\n",
    "ID_REGEX = r\"<Id>(\\d+)<\\/Id>\"\n",
    "\n",
    "class Eutils():\n",
    "    def __init__(self, tool, email, api_key, loop, calls_per_sec=3):\n",
    "        self.baseurl = \"https://eutils.ncbi.nlm.nih.gov/entrez/eutils/esearch.fcgi\"\n",
    "        self.params = {\n",
    "            \"tool\": tool,\n",
    "            \"email\": email,\n",
    "            \"api_key\": api_key,\n",
    "            \"db\": \"pubmed\",\n",
    "            \"retmax\": 1,\n",
    "        }\n",
    "        \n",
    "        self.loop = loop\n",
    "        self.throttler = Throttler(rate_limit=calls_per_sec, period=1)\n",
    "    \n",
    "    async def __fetch(self, session, params):\n",
    "        async with self.throttler:\n",
    "            async with session.get(self.baseurl, params=params) as resp:\n",
    "                await asyncio.sleep(1)\n",
    "                return await resp.text()\n",
    "#         await asyncio.sleep(0.05)\n",
    "                \n",
    "    async def __parse(self, text):\n",
    "        pmid = None\n",
    "        if 'PhraseNotFound' not in text:\n",
    "            count = int(re.search(COUNT_REGEX, text).group(1))\n",
    "            # Only return unique matches\n",
    "            if count == 1:\n",
    "                match = re.search(ID_REGEX, text)\n",
    "                if match:\n",
    "                    pmid = match.group(1)\n",
    "        return pmid\n",
    "\n",
    "    async def get_pmid(self, session, doi):\n",
    "        params = self.params\n",
    "        params['term'] = doi\n",
    "        \n",
    "        text = await self.__fetch(session, params)\n",
    "        pmid = await self.__parse(text)\n",
    "        return (doi, pmid)\n",
    "\n",
    "    async def run(self, dois):\n",
    "        tasks = []\n",
    "        async with aiohttp.ClientSession(loop=self.loop) as session:\n",
    "            # Create tasks with DOI\n",
    "            tasks = [asyncio.ensure_future(self.get_pmid(session, doi)) for doi in dois]  \n",
    "\n",
    "            # Await tasks and print progress\n",
    "            responses = [await t for t in tqdm(asyncio.as_completed(tasks), total=len(dois))]\n",
    "\n",
    "            return responses"
   ]
  },
  {
   "cell_type": "code",
   "execution_count": 102,
   "metadata": {},
   "outputs": [],
   "source": [
    "loop = asyncio.get_event_loop()\n",
    "eutils = Eutils(tool_name, email, ncbi_api_key, loop)"
   ]
  },
  {
   "cell_type": "code",
   "execution_count": 103,
   "metadata": {},
   "outputs": [],
   "source": [
    "dois = articles.DOI.sample(100).unique().tolist()"
   ]
  },
  {
   "cell_type": "code",
   "execution_count": 104,
   "metadata": {},
   "outputs": [
    {
     "data": {
      "application/vnd.jupyter.widget-view+json": {
       "model_id": "470e24dba3e54d1cbcdd9cf1f1603b7e",
       "version_major": 2,
       "version_minor": 0
      },
      "text/plain": [
       "HBox(children=(FloatProgress(value=0.0), HTML(value='')))"
      ]
     },
     "metadata": {},
     "output_type": "display_data"
    },
    {
     "name": "stdout",
     "output_type": "stream",
     "text": [
      "\n"
     ]
    },
    {
     "data": {
      "text/plain": [
       "[('10.1593/neo.06331', '16984734'),\n",
       " ('10.1158/0008-5472.can-05-2630', '16322249'),\n",
       " ('10.1016/j.cell.2006.03.027', '16603237'),\n",
       " ('10.4049/jimmunol.165.4.1956', '17186423'),\n",
       " ('10.1155/2012/185435', '17186423'),\n",
       " ('10.1210/endo.142.5.8141', '17186423'),\n",
       " ('10.1016/j.ccr.2006.10.003', '17186423'),\n",
       " ('10.2741/1986', '17186423'),\n",
       " ('10.1586/eem.11.24', '17186423'),\n",
       " ('10.1002/(sici)1096-8628(20000529)92:3<224::aid-ajmg12>3.0.co;2-j',\n",
       "  '17186423'),\n",
       " ('10.1021/pr800468j', '17186423'),\n",
       " ('10.1038/modpathol.2016.88', '17186423'),\n",
       " ('10.1016/s0962-8924(01)02179-1', '17186423'),\n",
       " ('10.1038/sj.onc.1208110', '17186423'),\n",
       " ('10.1021/bm101036f', '17186423'),\n",
       " ('10.1128/mcb.20.23.8969-8982.2000', '17186423'),\n",
       " ('10.1016/j.biomaterials.2012.09.048', '17186423'),\n",
       " ('10.1126/scisignal.2000029', '17186423'),\n",
       " ('10.1002/jcb.25768', '17186423'),\n",
       " ('10.1016/j.jmatprotec.2013.05.011', '17186423'),\n",
       " ('10.1172/jci200421107', '17186423'),\n",
       " ('10.1530/erc-12-0085', '17186423'),\n",
       " ('10.3389/fimmu.2017.00563', '17186423'),\n",
       " ('10.1002/ijc.27927', '17186423'),\n",
       " ('10.1007/s00726-010-0515-5', '17186423'),\n",
       " ('10.1097/mao.0000000000000795', '17186423'),\n",
       " ('10.1200/jco.2014.32.15_suppl.e16060', '17186423'),\n",
       " ('10.1158/1078-0432.ccr-04-1072', '17186423'),\n",
       " ('10.1093/jnci/djv346', '17186423'),\n",
       " ('10.1093/annonc/mdx648', '17186423'),\n",
       " ('10.1101/gad.1054603', '17186423'),\n",
       " ('10.1097/coc.0b013e318261056c', '17186423'),\n",
       " ('10.1073/pnas.0405971102', '17186423'),\n",
       " ('10.1088/0031-9155/53/17/005', '17186423'),\n",
       " ('10.1158/0008-5472.can-03-3499', '17186423'),\n",
       " ('10.1016/j.cell.2007.02.045', '17186423'),\n",
       " ('10.1093/toxsci/kfi289', '17186423'),\n",
       " ('10.1210/endo.142.1.7893', '17186423'),\n",
       " ('10.1002/pros.21346', '17186423'),\n",
       " ('10.1371/journal.pone.0139820', '17186423'),\n",
       " ('10.1158/1078-0432.ccr-06-1924', '17186423'),\n",
       " ('10.1158/1078-0432.ccr-09-1722', '17186423'),\n",
       " ('10.1007/s11427-013-4522-0', '17186423'),\n",
       " ('10.1007/s10334-005-0022-y', '17186423'),\n",
       " ('10.1016/s0002-9440(10)61673-2', '17186423'),\n",
       " ('10.1016/j.clgc.2014.12.004', '17186423'),\n",
       " ('10.1002/humu.21465', '17186423'),\n",
       " ('10.1016/j.bbamcr.2014.11.004', '17186423'),\n",
       " ('10.1016/bs.mie.2016.09.068', '17186423'),\n",
       " ('10.1053/j.semnuclmed.2007.07.003', '17186423'),\n",
       " ('10.1101/gad.1522007', '17186423'),\n",
       " ('10.1007/s12307-011-0083-6', '17186423'),\n",
       " ('10.1073/pnas.1319948110', '17186423'),\n",
       " ('10.1073/pnas.1105243108', '17186423'),\n",
       " ('10.1109/embc.2014.6943603', '17186423'),\n",
       " ('10.1117/1.jbo.18.8.087002', '17186423'),\n",
       " ('10.1016/s0016-5085(03)01196-x', '17186423'),\n",
       " ('10.2214/ajr.180.2.1800419', '17186423'),\n",
       " ('10.1002/pros.20318', '17186423'),\n",
       " ('10.18632/oncotarget.9816', '17186423'),\n",
       " ('10.1073/pnas.251140998', '17186423'),\n",
       " ('10.1002/(sici)1098-2264(199906)25:2<108::aid-gcc6>3.0.co;2-y', '17186423'),\n",
       " ('10.1155/2009/519563', '17186423'),\n",
       " ('10.1007/978-1-59745-293-9_30', '17186423'),\n",
       " ('10.1523/jneurosci.1496-08.2008', '17186423'),\n",
       " ('10.1039/c2mb05451e', '17186423'),\n",
       " ('10.1158/2159-8290.cd-14-0985', '17186423'),\n",
       " ('10.3791/51468', '17186423'),\n",
       " ('10.1158/1055-9965.epi-18-1083', '17186423'),\n",
       " ('10.1074/mcp.m800448-mcp200', '17186423'),\n",
       " ('10.1002/path.2834', '17186423'),\n",
       " ('10.1021/jp104075f', '17186423'),\n",
       " ('10.1158/0008-5472.can-06-3399', '17186423'),\n",
       " ('10.1124/mol.107.036681', '17186423'),\n",
       " ('10.1053/suro.2002.30399', '17186423'),\n",
       " ('10.1021/acschembio.5b00442', '17186423'),\n",
       " ('10.1158/0008-5472.can-08-0578', '17186423'),\n",
       " ('10.1016/j.jsbmb.2012.09.033', '17186423'),\n",
       " ('10.1093/biostatistics/4.3.449', '17186423'),\n",
       " ('10.1371/journal.pone.0024917', '17186423'),\n",
       " ('10.1016/j.mvr.2007.04.002', '17186423'),\n",
       " ('10.1158/0008-5472.can-04-3411', '17186423'),\n",
       " ('10.1016/j.ydbio.2007.09.038', '17186423'),\n",
       " ('10.1023/a:1021911517010', '17186423'),\n",
       " ('10.1038/sj.onc.1208813', '17186423'),\n",
       " ('10.1016/j.ijrobp.2009.06.076', '17186423'),\n",
       " ('10.1016/j.jsbmb.2004.07.003', '17186423'),\n",
       " ('10.1158/1535-7163.mct-11-0954', '17186423'),\n",
       " ('10.1007/s10552-006-0077-8', '17186423'),\n",
       " ('10.1186/s12918-015-0201-z', '17186423'),\n",
       " ('10.2353/ajpath.2008.071054', '17186423'),\n",
       " ('10.1002/pros.21369', '17186423'),\n",
       " ('10.1002/mc.1032', '17186423'),\n",
       " ('10.1093/hmg/ddt333', '17186423'),\n",
       " ('10.1021/bc0503216', '17186423'),\n",
       " ('10.1002/pat.3385', '17186423'),\n",
       " ('10.1002/pros.10291', '17186423'),\n",
       " ('10.1158/0008-5472.can-09-2668', '17186423'),\n",
       " ('10.1089/1043034041361271', '17186423'),\n",
       " ('10.1158/0008-5472.can-08-3415', '17186423')]"
      ]
     },
     "execution_count": 104,
     "metadata": {},
     "output_type": "execute_result"
    }
   ],
   "source": [
    "await eutils.run(dois)"
   ]
  }
 ],
 "metadata": {
  "kernelspec": {
   "display_name": "tracking-grants",
   "language": "python",
   "name": "tracking-grants"
  },
  "language_info": {
   "codemirror_mode": {
    "name": "ipython",
    "version": 3
   },
   "file_extension": ".py",
   "mimetype": "text/x-python",
   "name": "python",
   "nbconvert_exporter": "python",
   "pygments_lexer": "ipython3",
   "version": "3.6.10"
  }
 },
 "nbformat": 4,
 "nbformat_minor": 4
}
