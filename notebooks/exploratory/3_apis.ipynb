{
 "cells": [
  {
   "cell_type": "code",
   "execution_count": 1,
   "metadata": {},
   "outputs": [],
   "source": [
    "from pprint import pprint\n",
    "import pandas as pd"
   ]
  },
  {
   "cell_type": "code",
   "execution_count": 2,
   "metadata": {},
   "outputs": [],
   "source": [
    "from requests_futures.sessions import FuturesSession"
   ]
  },
  {
   "cell_type": "code",
   "execution_count": null,
   "metadata": {},
   "outputs": [],
   "source": [
    "from tracking_grants import articles_f, pmid_f, email, ncbi_api_key, tool_name"
   ]
  },
  {
   "cell_type": "code",
   "execution_count": 4,
   "metadata": {},
   "outputs": [],
   "source": [
    "from ratelimit import limits, sleep_and_retry\n",
    "from tqdm.auto import tqdm\n",
    "import re"
   ]
  },
  {
   "cell_type": "code",
   "execution_count": 12,
   "metadata": {},
   "outputs": [],
   "source": [
    "articles = pd.read_csv(articles_f)"
   ]
  },
  {
   "cell_type": "code",
   "execution_count": 20,
   "metadata": {},
   "outputs": [
    {
     "data": {
      "text/plain": [
       "reference_id        8164\n",
       "grant_id            2232\n",
       "program                4\n",
       "score               7927\n",
       "DOI                 6923\n",
       "ISSN                1175\n",
       "journal_name        1273\n",
       "publisher            147\n",
       "coci_citations       440\n",
       "references           242\n",
       "cr_subject           488\n",
       "authors_count         43\n",
       "created               19\n",
       "deposited             14\n",
       "indexed                2\n",
       "published-online      22\n",
       "issued                24\n",
       "pmid                5756\n",
       "dtype: int64"
      ]
     },
     "execution_count": 20,
     "metadata": {},
     "output_type": "execute_result"
    }
   ],
   "source": [
    "articles.nunique()"
   ]
  },
  {
   "cell_type": "code",
   "execution_count": 21,
   "metadata": {},
   "outputs": [
    {
     "data": {
      "text/plain": [
       "0.8314314603495594"
      ]
     },
     "execution_count": 21,
     "metadata": {},
     "output_type": "execute_result"
    }
   ],
   "source": [
    "5756/6923"
   ]
  },
  {
   "cell_type": "code",
   "execution_count": 15,
   "metadata": {},
   "outputs": [],
   "source": [
    "pmids = pd.read_csv(pmid_f)"
   ]
  },
  {
   "cell_type": "code",
   "execution_count": 26,
   "metadata": {},
   "outputs": [],
   "source": [
    "pmids['rate_limited'] = pmids.response.str.contains(\"API rate limit exceeded\")"
   ]
  },
  {
   "cell_type": "code",
   "execution_count": 31,
   "metadata": {},
   "outputs": [
    {
     "data": {
      "text/html": [
       "<div>\n",
       "<style scoped>\n",
       "    .dataframe tbody tr th:only-of-type {\n",
       "        vertical-align: middle;\n",
       "    }\n",
       "\n",
       "    .dataframe tbody tr th {\n",
       "        vertical-align: top;\n",
       "    }\n",
       "\n",
       "    .dataframe thead th {\n",
       "        text-align: right;\n",
       "    }\n",
       "</style>\n",
       "<table border=\"1\" class=\"dataframe\">\n",
       "  <thead>\n",
       "    <tr style=\"text-align: right;\">\n",
       "      <th></th>\n",
       "      <th>DOI</th>\n",
       "      <th>pmid</th>\n",
       "      <th>response</th>\n",
       "      <th>ts</th>\n",
       "      <th>rate_limited</th>\n",
       "    </tr>\n",
       "  </thead>\n",
       "  <tbody>\n",
       "    <tr>\n",
       "      <th>58</th>\n",
       "      <td>10.1007/s11010-005-9094-2</td>\n",
       "      <td>NaN</td>\n",
       "      <td>NaN</td>\n",
       "      <td>2020-06-25T22:04:35.626327</td>\n",
       "      <td>NaN</td>\n",
       "    </tr>\n",
       "    <tr>\n",
       "      <th>399</th>\n",
       "      <td>10.4252/wjsc.v2.i5.114</td>\n",
       "      <td>NaN</td>\n",
       "      <td>NaN</td>\n",
       "      <td>2020-06-25T22:05:07.967028</td>\n",
       "      <td>NaN</td>\n",
       "    </tr>\n",
       "    <tr>\n",
       "      <th>441</th>\n",
       "      <td>10.1006/excr.2001.5234</td>\n",
       "      <td>NaN</td>\n",
       "      <td>NaN</td>\n",
       "      <td>2020-06-25T22:05:12.181530</td>\n",
       "      <td>NaN</td>\n",
       "    </tr>\n",
       "    <tr>\n",
       "      <th>890</th>\n",
       "      <td>10.1016/j.jpainsymman.2009.09.013</td>\n",
       "      <td>NaN</td>\n",
       "      <td>NaN</td>\n",
       "      <td>2020-06-25T22:05:56.092379</td>\n",
       "      <td>NaN</td>\n",
       "    </tr>\n",
       "    <tr>\n",
       "      <th>983</th>\n",
       "      <td>10.1006/viro.2002.1510</td>\n",
       "      <td>NaN</td>\n",
       "      <td>NaN</td>\n",
       "      <td>2020-06-25T22:06:05.306784</td>\n",
       "      <td>NaN</td>\n",
       "    </tr>\n",
       "    <tr>\n",
       "      <th>1008</th>\n",
       "      <td>10.1158/0008-5472.can-03-3500</td>\n",
       "      <td>NaN</td>\n",
       "      <td>NaN</td>\n",
       "      <td>2020-06-25T22:06:08.333998</td>\n",
       "      <td>NaN</td>\n",
       "    </tr>\n",
       "    <tr>\n",
       "      <th>1084</th>\n",
       "      <td>10.1186/gb-2008-9-5-r83</td>\n",
       "      <td>NaN</td>\n",
       "      <td>NaN</td>\n",
       "      <td>2020-06-25T22:06:15.496650</td>\n",
       "      <td>NaN</td>\n",
       "    </tr>\n",
       "    <tr>\n",
       "      <th>1208</th>\n",
       "      <td>10.1371/journal.pone.0013751</td>\n",
       "      <td>NaN</td>\n",
       "      <td>NaN</td>\n",
       "      <td>2020-06-25T22:06:28.636420</td>\n",
       "      <td>NaN</td>\n",
       "    </tr>\n",
       "    <tr>\n",
       "      <th>1255</th>\n",
       "      <td>10.1016/j.ymgme.2004.07.014</td>\n",
       "      <td>NaN</td>\n",
       "      <td>NaN</td>\n",
       "      <td>2020-06-25T22:06:32.650274</td>\n",
       "      <td>NaN</td>\n",
       "    </tr>\n",
       "    <tr>\n",
       "      <th>1533</th>\n",
       "      <td>10.1038/onc.2008.250</td>\n",
       "      <td>NaN</td>\n",
       "      <td>NaN</td>\n",
       "      <td>2020-06-25T22:07:00.259965</td>\n",
       "      <td>NaN</td>\n",
       "    </tr>\n",
       "    <tr>\n",
       "      <th>1631</th>\n",
       "      <td>10.1001/jama.2015.6036</td>\n",
       "      <td>NaN</td>\n",
       "      <td>NaN</td>\n",
       "      <td>2020-06-25T22:07:10.454329</td>\n",
       "      <td>NaN</td>\n",
       "    </tr>\n",
       "    <tr>\n",
       "      <th>1680</th>\n",
       "      <td>10.1038/pcan.2013.15</td>\n",
       "      <td>NaN</td>\n",
       "      <td>NaN</td>\n",
       "      <td>2020-06-25T22:07:15.516753</td>\n",
       "      <td>NaN</td>\n",
       "    </tr>\n",
       "    <tr>\n",
       "      <th>1807</th>\n",
       "      <td>10.1083/jcb.200405130</td>\n",
       "      <td>NaN</td>\n",
       "      <td>NaN</td>\n",
       "      <td>2020-06-25T22:07:28.691692</td>\n",
       "      <td>NaN</td>\n",
       "    </tr>\n",
       "    <tr>\n",
       "      <th>1961</th>\n",
       "      <td>10.1016/j.jsbmb.2012.09.033</td>\n",
       "      <td>NaN</td>\n",
       "      <td>NaN</td>\n",
       "      <td>2020-06-25T22:07:44.103100</td>\n",
       "      <td>NaN</td>\n",
       "    </tr>\n",
       "    <tr>\n",
       "      <th>2326</th>\n",
       "      <td>10.1038/sj.onc.1209269</td>\n",
       "      <td>NaN</td>\n",
       "      <td>NaN</td>\n",
       "      <td>2020-06-25T22:08:20.716390</td>\n",
       "      <td>NaN</td>\n",
       "    </tr>\n",
       "    <tr>\n",
       "      <th>2370</th>\n",
       "      <td>10.1016/s0140-6736(10)60172-9</td>\n",
       "      <td>NaN</td>\n",
       "      <td>NaN</td>\n",
       "      <td>2020-06-25T22:08:25.717059</td>\n",
       "      <td>NaN</td>\n",
       "    </tr>\n",
       "    <tr>\n",
       "      <th>2467</th>\n",
       "      <td>10.1038/nbt1035</td>\n",
       "      <td>NaN</td>\n",
       "      <td>NaN</td>\n",
       "      <td>2020-06-25T22:08:34.833438</td>\n",
       "      <td>NaN</td>\n",
       "    </tr>\n",
       "    <tr>\n",
       "      <th>2681</th>\n",
       "      <td>10.1016/j.ijrobp.2008.12.069</td>\n",
       "      <td>NaN</td>\n",
       "      <td>NaN</td>\n",
       "      <td>2020-06-25T22:08:57.327842</td>\n",
       "      <td>NaN</td>\n",
       "    </tr>\n",
       "    <tr>\n",
       "      <th>3140</th>\n",
       "      <td>10.1109/tmech.2008.924044</td>\n",
       "      <td>NaN</td>\n",
       "      <td>NaN</td>\n",
       "      <td>2020-06-25T22:09:45.040366</td>\n",
       "      <td>NaN</td>\n",
       "    </tr>\n",
       "    <tr>\n",
       "      <th>3356</th>\n",
       "      <td>10.1158/0008-5472.can-05-1871</td>\n",
       "      <td>NaN</td>\n",
       "      <td>NaN</td>\n",
       "      <td>2020-06-25T22:10:07.434541</td>\n",
       "      <td>NaN</td>\n",
       "    </tr>\n",
       "    <tr>\n",
       "      <th>3962</th>\n",
       "      <td>10.1007/s00345-007-0186-3</td>\n",
       "      <td>NaN</td>\n",
       "      <td>NaN</td>\n",
       "      <td>2020-06-25T22:11:09.878526</td>\n",
       "      <td>NaN</td>\n",
       "    </tr>\n",
       "    <tr>\n",
       "      <th>4828</th>\n",
       "      <td>10.1002/anie.201301068</td>\n",
       "      <td>NaN</td>\n",
       "      <td>NaN</td>\n",
       "      <td>2020-06-25T22:12:38.997283</td>\n",
       "      <td>NaN</td>\n",
       "    </tr>\n",
       "    <tr>\n",
       "      <th>4979</th>\n",
       "      <td>10.1182/blood-2006-05-025395</td>\n",
       "      <td>NaN</td>\n",
       "      <td>NaN</td>\n",
       "      <td>2020-06-25T22:12:54.071163</td>\n",
       "      <td>NaN</td>\n",
       "    </tr>\n",
       "    <tr>\n",
       "      <th>6234</th>\n",
       "      <td>10.1016/s0021-9673(01)00522-2</td>\n",
       "      <td>NaN</td>\n",
       "      <td>NaN</td>\n",
       "      <td>2020-06-25T22:15:01.704729</td>\n",
       "      <td>NaN</td>\n",
       "    </tr>\n",
       "    <tr>\n",
       "      <th>6266</th>\n",
       "      <td>10.1371/journal.pone.0014617</td>\n",
       "      <td>NaN</td>\n",
       "      <td>NaN</td>\n",
       "      <td>2020-06-25T22:15:04.704807</td>\n",
       "      <td>NaN</td>\n",
       "    </tr>\n",
       "    <tr>\n",
       "      <th>6776</th>\n",
       "      <td>10.1038/sj.onc.1201978</td>\n",
       "      <td>NaN</td>\n",
       "      <td>NaN</td>\n",
       "      <td>2020-06-25T22:15:55.740013</td>\n",
       "      <td>NaN</td>\n",
       "    </tr>\n",
       "  </tbody>\n",
       "</table>\n",
       "</div>"
      ],
      "text/plain": [
       "                                    DOI  pmid response  \\\n",
       "58            10.1007/s11010-005-9094-2   NaN      NaN   \n",
       "399              10.4252/wjsc.v2.i5.114   NaN      NaN   \n",
       "441              10.1006/excr.2001.5234   NaN      NaN   \n",
       "890   10.1016/j.jpainsymman.2009.09.013   NaN      NaN   \n",
       "983              10.1006/viro.2002.1510   NaN      NaN   \n",
       "1008      10.1158/0008-5472.can-03-3500   NaN      NaN   \n",
       "1084            10.1186/gb-2008-9-5-r83   NaN      NaN   \n",
       "1208       10.1371/journal.pone.0013751   NaN      NaN   \n",
       "1255        10.1016/j.ymgme.2004.07.014   NaN      NaN   \n",
       "1533               10.1038/onc.2008.250   NaN      NaN   \n",
       "1631             10.1001/jama.2015.6036   NaN      NaN   \n",
       "1680               10.1038/pcan.2013.15   NaN      NaN   \n",
       "1807              10.1083/jcb.200405130   NaN      NaN   \n",
       "1961        10.1016/j.jsbmb.2012.09.033   NaN      NaN   \n",
       "2326             10.1038/sj.onc.1209269   NaN      NaN   \n",
       "2370      10.1016/s0140-6736(10)60172-9   NaN      NaN   \n",
       "2467                    10.1038/nbt1035   NaN      NaN   \n",
       "2681       10.1016/j.ijrobp.2008.12.069   NaN      NaN   \n",
       "3140          10.1109/tmech.2008.924044   NaN      NaN   \n",
       "3356      10.1158/0008-5472.can-05-1871   NaN      NaN   \n",
       "3962          10.1007/s00345-007-0186-3   NaN      NaN   \n",
       "4828             10.1002/anie.201301068   NaN      NaN   \n",
       "4979       10.1182/blood-2006-05-025395   NaN      NaN   \n",
       "6234      10.1016/s0021-9673(01)00522-2   NaN      NaN   \n",
       "6266       10.1371/journal.pone.0014617   NaN      NaN   \n",
       "6776             10.1038/sj.onc.1201978   NaN      NaN   \n",
       "\n",
       "                              ts rate_limited  \n",
       "58    2020-06-25T22:04:35.626327          NaN  \n",
       "399   2020-06-25T22:05:07.967028          NaN  \n",
       "441   2020-06-25T22:05:12.181530          NaN  \n",
       "890   2020-06-25T22:05:56.092379          NaN  \n",
       "983   2020-06-25T22:06:05.306784          NaN  \n",
       "1008  2020-06-25T22:06:08.333998          NaN  \n",
       "1084  2020-06-25T22:06:15.496650          NaN  \n",
       "1208  2020-06-25T22:06:28.636420          NaN  \n",
       "1255  2020-06-25T22:06:32.650274          NaN  \n",
       "1533  2020-06-25T22:07:00.259965          NaN  \n",
       "1631  2020-06-25T22:07:10.454329          NaN  \n",
       "1680  2020-06-25T22:07:15.516753          NaN  \n",
       "1807  2020-06-25T22:07:28.691692          NaN  \n",
       "1961  2020-06-25T22:07:44.103100          NaN  \n",
       "2326  2020-06-25T22:08:20.716390          NaN  \n",
       "2370  2020-06-25T22:08:25.717059          NaN  \n",
       "2467  2020-06-25T22:08:34.833438          NaN  \n",
       "2681  2020-06-25T22:08:57.327842          NaN  \n",
       "3140  2020-06-25T22:09:45.040366          NaN  \n",
       "3356  2020-06-25T22:10:07.434541          NaN  \n",
       "3962  2020-06-25T22:11:09.878526          NaN  \n",
       "4828  2020-06-25T22:12:38.997283          NaN  \n",
       "4979  2020-06-25T22:12:54.071163          NaN  \n",
       "6234  2020-06-25T22:15:01.704729          NaN  \n",
       "6266  2020-06-25T22:15:04.704807          NaN  \n",
       "6776  2020-06-25T22:15:55.740013          NaN  "
      ]
     },
     "execution_count": 31,
     "metadata": {},
     "output_type": "execute_result"
    }
   ],
   "source": [
    "pmids[pmids.response.isna()]"
   ]
  },
  {
   "cell_type": "code",
   "execution_count": 28,
   "metadata": {},
   "outputs": [
    {
     "ename": "ValueError",
     "evalue": "cannot mask with array containing NA / NaN values",
     "output_type": "error",
     "traceback": [
      "\u001b[0;31m---------------------------------------------------------------------------\u001b[0m",
      "\u001b[0;31mValueError\u001b[0m                                Traceback (most recent call last)",
      "\u001b[0;32m<ipython-input-28-edd77bca78ad>\u001b[0m in \u001b[0;36m<module>\u001b[0;34m\u001b[0m\n\u001b[0;32m----> 1\u001b[0;31m \u001b[0mpmids\u001b[0m\u001b[0;34m[\u001b[0m\u001b[0mpmids\u001b[0m\u001b[0;34m.\u001b[0m\u001b[0mrate_limited\u001b[0m\u001b[0;34m]\u001b[0m\u001b[0;34m\u001b[0m\u001b[0;34m\u001b[0m\u001b[0m\n\u001b[0m",
      "\u001b[0;32m~/Projects/scholcommlab/tracking-grants/.venv/lib/python3.6/site-packages/pandas/core/frame.py\u001b[0m in \u001b[0;36m__getitem__\u001b[0;34m(self, key)\u001b[0m\n\u001b[1;32m   2788\u001b[0m \u001b[0;34m\u001b[0m\u001b[0m\n\u001b[1;32m   2789\u001b[0m         \u001b[0;31m# Do we have a (boolean) 1d indexer?\u001b[0m\u001b[0;34m\u001b[0m\u001b[0;34m\u001b[0m\u001b[0;34m\u001b[0m\u001b[0m\n\u001b[0;32m-> 2790\u001b[0;31m         \u001b[0;32mif\u001b[0m \u001b[0mcom\u001b[0m\u001b[0;34m.\u001b[0m\u001b[0mis_bool_indexer\u001b[0m\u001b[0;34m(\u001b[0m\u001b[0mkey\u001b[0m\u001b[0;34m)\u001b[0m\u001b[0;34m:\u001b[0m\u001b[0;34m\u001b[0m\u001b[0;34m\u001b[0m\u001b[0m\n\u001b[0m\u001b[1;32m   2791\u001b[0m             \u001b[0;32mreturn\u001b[0m \u001b[0mself\u001b[0m\u001b[0;34m.\u001b[0m\u001b[0m_getitem_bool_array\u001b[0m\u001b[0;34m(\u001b[0m\u001b[0mkey\u001b[0m\u001b[0;34m)\u001b[0m\u001b[0;34m\u001b[0m\u001b[0;34m\u001b[0m\u001b[0m\n\u001b[1;32m   2792\u001b[0m \u001b[0;34m\u001b[0m\u001b[0m\n",
      "\u001b[0;32m~/Projects/scholcommlab/tracking-grants/.venv/lib/python3.6/site-packages/pandas/core/common.py\u001b[0m in \u001b[0;36mis_bool_indexer\u001b[0;34m(key)\u001b[0m\n\u001b[1;32m    134\u001b[0m             \u001b[0;32mif\u001b[0m \u001b[0;32mnot\u001b[0m \u001b[0mlib\u001b[0m\u001b[0;34m.\u001b[0m\u001b[0mis_bool_array\u001b[0m\u001b[0;34m(\u001b[0m\u001b[0mkey\u001b[0m\u001b[0;34m)\u001b[0m\u001b[0;34m:\u001b[0m\u001b[0;34m\u001b[0m\u001b[0;34m\u001b[0m\u001b[0m\n\u001b[1;32m    135\u001b[0m                 \u001b[0;32mif\u001b[0m \u001b[0misna\u001b[0m\u001b[0;34m(\u001b[0m\u001b[0mkey\u001b[0m\u001b[0;34m)\u001b[0m\u001b[0;34m.\u001b[0m\u001b[0many\u001b[0m\u001b[0;34m(\u001b[0m\u001b[0;34m)\u001b[0m\u001b[0;34m:\u001b[0m\u001b[0;34m\u001b[0m\u001b[0;34m\u001b[0m\u001b[0m\n\u001b[0;32m--> 136\u001b[0;31m                     \u001b[0;32mraise\u001b[0m \u001b[0mValueError\u001b[0m\u001b[0;34m(\u001b[0m\u001b[0mna_msg\u001b[0m\u001b[0;34m)\u001b[0m\u001b[0;34m\u001b[0m\u001b[0;34m\u001b[0m\u001b[0m\n\u001b[0m\u001b[1;32m    137\u001b[0m                 \u001b[0;32mreturn\u001b[0m \u001b[0;32mFalse\u001b[0m\u001b[0;34m\u001b[0m\u001b[0;34m\u001b[0m\u001b[0m\n\u001b[1;32m    138\u001b[0m             \u001b[0;32mreturn\u001b[0m \u001b[0;32mTrue\u001b[0m\u001b[0;34m\u001b[0m\u001b[0;34m\u001b[0m\u001b[0m\n",
      "\u001b[0;31mValueError\u001b[0m: cannot mask with array containing NA / NaN values"
     ]
    }
   ],
   "source": [
    "pmids[pmids.rate_limited]"
   ]
  },
  {
   "cell_type": "code",
   "execution_count": 25,
   "metadata": {},
   "outputs": [
    {
     "data": {
      "text/html": [
       "<div>\n",
       "<style scoped>\n",
       "    .dataframe tbody tr th:only-of-type {\n",
       "        vertical-align: middle;\n",
       "    }\n",
       "\n",
       "    .dataframe tbody tr th {\n",
       "        vertical-align: top;\n",
       "    }\n",
       "\n",
       "    .dataframe thead th {\n",
       "        text-align: right;\n",
       "    }\n",
       "</style>\n",
       "<table border=\"1\" class=\"dataframe\">\n",
       "  <thead>\n",
       "    <tr style=\"text-align: right;\">\n",
       "      <th></th>\n",
       "      <th>DOI</th>\n",
       "      <th>pmid</th>\n",
       "      <th>response</th>\n",
       "      <th>ts</th>\n",
       "    </tr>\n",
       "  </thead>\n",
       "  <tbody>\n",
       "    <tr>\n",
       "      <th>6</th>\n",
       "      <td>10.1200/jco.2018.36.6_suppl.234</td>\n",
       "      <td>NaN</td>\n",
       "      <td>&lt;?xml version=\"1.0\" encoding=\"UTF-8\" ?&gt;\\n&lt;!DOC...</td>\n",
       "      <td>2020-06-25T21:48:42.702866</td>\n",
       "    </tr>\n",
       "    <tr>\n",
       "      <th>29</th>\n",
       "      <td>10.1200/jco.2007.25.18_suppl.5134</td>\n",
       "      <td>NaN</td>\n",
       "      <td>&lt;?xml version=\"1.0\" encoding=\"UTF-8\" ?&gt;\\n&lt;!DOC...</td>\n",
       "      <td>2020-06-25T22:04:33.613308</td>\n",
       "    </tr>\n",
       "    <tr>\n",
       "      <th>31</th>\n",
       "      <td>10.1200/jco.2008.26.15_suppl.5018</td>\n",
       "      <td>NaN</td>\n",
       "      <td>&lt;?xml version=\"1.0\" encoding=\"UTF-8\" ?&gt;\\n&lt;!DOC...</td>\n",
       "      <td>2020-06-25T22:04:33.613372</td>\n",
       "    </tr>\n",
       "    <tr>\n",
       "      <th>40</th>\n",
       "      <td>10.1109/tns.2011.2136387</td>\n",
       "      <td>NaN</td>\n",
       "      <td>&lt;?xml version=\"1.0\" encoding=\"UTF-8\" ?&gt;\\n&lt;!DOC...</td>\n",
       "      <td>2020-06-25T22:04:33.613468</td>\n",
       "    </tr>\n",
       "    <tr>\n",
       "      <th>51</th>\n",
       "      <td>10.1118/1.2241679</td>\n",
       "      <td>NaN</td>\n",
       "      <td>&lt;?xml version=\"1.0\" encoding=\"UTF-8\" ?&gt;\\n&lt;!DOC...</td>\n",
       "      <td>2020-06-25T22:04:34.613476</td>\n",
       "    </tr>\n",
       "    <tr>\n",
       "      <th>...</th>\n",
       "      <td>...</td>\n",
       "      <td>...</td>\n",
       "      <td>...</td>\n",
       "      <td>...</td>\n",
       "    </tr>\n",
       "    <tr>\n",
       "      <th>6883</th>\n",
       "      <td>10.1074/jbc.m108255200</td>\n",
       "      <td>NaN</td>\n",
       "      <td>{\"error\":\"API rate limit exceeded\",\"api-key\":\"...</td>\n",
       "      <td>2020-06-25T22:16:06.741685</td>\n",
       "    </tr>\n",
       "    <tr>\n",
       "      <th>6884</th>\n",
       "      <td>10.1016/s1063-5823(06)59019-2</td>\n",
       "      <td>NaN</td>\n",
       "      <td>&lt;?xml version=\"1.0\" encoding=\"UTF-8\" ?&gt;\\n&lt;!DOC...</td>\n",
       "      <td>2020-06-25T22:16:06.741708</td>\n",
       "    </tr>\n",
       "    <tr>\n",
       "      <th>6893</th>\n",
       "      <td>10.1118/1.4925550</td>\n",
       "      <td>NaN</td>\n",
       "      <td>&lt;?xml version=\"1.0\" encoding=\"UTF-8\" ?&gt;\\n&lt;!DOC...</td>\n",
       "      <td>2020-06-25T22:16:07.741711</td>\n",
       "    </tr>\n",
       "    <tr>\n",
       "      <th>6915</th>\n",
       "      <td>10.1002/cncr.20905</td>\n",
       "      <td>NaN</td>\n",
       "      <td>{\"error\":\"API rate limit exceeded\",\"api-key\":\"...</td>\n",
       "      <td>2020-06-25T22:16:09.741804</td>\n",
       "    </tr>\n",
       "    <tr>\n",
       "      <th>6917</th>\n",
       "      <td>10.1142/9789812770431_0004</td>\n",
       "      <td>NaN</td>\n",
       "      <td>&lt;?xml version=\"1.0\" encoding=\"UTF-8\" ?&gt;\\n&lt;!DOC...</td>\n",
       "      <td>2020-06-25T22:16:09.741832</td>\n",
       "    </tr>\n",
       "  </tbody>\n",
       "</table>\n",
       "<p>1167 rows × 4 columns</p>\n",
       "</div>"
      ],
      "text/plain": [
       "                                    DOI  pmid  \\\n",
       "6       10.1200/jco.2018.36.6_suppl.234   NaN   \n",
       "29    10.1200/jco.2007.25.18_suppl.5134   NaN   \n",
       "31    10.1200/jco.2008.26.15_suppl.5018   NaN   \n",
       "40             10.1109/tns.2011.2136387   NaN   \n",
       "51                    10.1118/1.2241679   NaN   \n",
       "...                                 ...   ...   \n",
       "6883             10.1074/jbc.m108255200   NaN   \n",
       "6884      10.1016/s1063-5823(06)59019-2   NaN   \n",
       "6893                  10.1118/1.4925550   NaN   \n",
       "6915                 10.1002/cncr.20905   NaN   \n",
       "6917         10.1142/9789812770431_0004   NaN   \n",
       "\n",
       "                                               response  \\\n",
       "6     <?xml version=\"1.0\" encoding=\"UTF-8\" ?>\\n<!DOC...   \n",
       "29    <?xml version=\"1.0\" encoding=\"UTF-8\" ?>\\n<!DOC...   \n",
       "31    <?xml version=\"1.0\" encoding=\"UTF-8\" ?>\\n<!DOC...   \n",
       "40    <?xml version=\"1.0\" encoding=\"UTF-8\" ?>\\n<!DOC...   \n",
       "51    <?xml version=\"1.0\" encoding=\"UTF-8\" ?>\\n<!DOC...   \n",
       "...                                                 ...   \n",
       "6883  {\"error\":\"API rate limit exceeded\",\"api-key\":\"...   \n",
       "6884  <?xml version=\"1.0\" encoding=\"UTF-8\" ?>\\n<!DOC...   \n",
       "6893  <?xml version=\"1.0\" encoding=\"UTF-8\" ?>\\n<!DOC...   \n",
       "6915  {\"error\":\"API rate limit exceeded\",\"api-key\":\"...   \n",
       "6917  <?xml version=\"1.0\" encoding=\"UTF-8\" ?>\\n<!DOC...   \n",
       "\n",
       "                              ts  \n",
       "6     2020-06-25T21:48:42.702866  \n",
       "29    2020-06-25T22:04:33.613308  \n",
       "31    2020-06-25T22:04:33.613372  \n",
       "40    2020-06-25T22:04:33.613468  \n",
       "51    2020-06-25T22:04:34.613476  \n",
       "...                          ...  \n",
       "6883  2020-06-25T22:16:06.741685  \n",
       "6884  2020-06-25T22:16:06.741708  \n",
       "6893  2020-06-25T22:16:07.741711  \n",
       "6915  2020-06-25T22:16:09.741804  \n",
       "6917  2020-06-25T22:16:09.741832  \n",
       "\n",
       "[1167 rows x 4 columns]"
      ]
     },
     "execution_count": 25,
     "metadata": {},
     "output_type": "execute_result"
    }
   ],
   "source": [
    "pmids[pmids.pmid.isna()]"
   ]
  },
  {
   "cell_type": "code",
   "execution_count": 6,
   "metadata": {},
   "outputs": [],
   "source": [
    "dois = articles.DOI.sample(100).unique().tolist()"
   ]
  },
  {
   "cell_type": "markdown",
   "metadata": {},
   "source": [
    "### Async calls with request futures"
   ]
  },
  {
   "cell_type": "code",
   "execution_count": 79,
   "metadata": {},
   "outputs": [],
   "source": [
    "NCBI_CALLS_PER_SEC = 3\n",
    "\n",
    "class Eutils:\n",
    "    def __init__(self, tool, email, api_key):\n",
    "        self.search_api = \"https://eutils.ncbi.nlm.nih.gov/entrez/eutils/esearch.fcgi\"\n",
    "        self.session = FuturesSession()\n",
    "        self.session.hooks['response'] = self.response_hook\n",
    "        \n",
    "        self.params = {\n",
    "            \"tool\": tool,\n",
    "            \"email\": email,\n",
    "            \"api_key\": api_key,\n",
    "            \"db\": \"pubmed\",\n",
    "            \"retmax\": 1,\n",
    "        }\n",
    "\n",
    "    @sleep_and_retry\n",
    "    @limits(calls=NCBI_CALLS_PER_SEC, period=1)\n",
    "    def search(self, doi):\n",
    "        params = self.params\n",
    "        params[\"term\"] = doi\n",
    "\n",
    "        future = self.session.get(self.search_api, params=params)\n",
    "        return future\n",
    "    \n",
    "    @staticmethod\n",
    "    def response_hook(resp, *args, **kwargs):\n",
    "        if resp.status_code != 200:\n",
    "            resp.data = f\"Error:{response.status_code}\"\n",
    "        else:\n",
    "            text = resp.text\n",
    "            resp.data = None\n",
    "\n",
    "            # Only return DOI has been found in the text\n",
    "            if 'PhraseNotFound' not in text:\n",
    "                count = int(re.search(r\"<Count>(\\d+)<\\/Count>\", text).group(1))\n",
    "                # Only return unique matches\n",
    "                if count == 1:\n",
    "                    match = re.search(r\"<Id>(\\d+)<\\/Id>\", text)\n",
    "                    if match:\n",
    "                        resp.data =  match.group(1)"
   ]
  },
  {
   "cell_type": "code",
   "execution_count": 80,
   "metadata": {},
   "outputs": [],
   "source": [
    "eutils = Eutils(tool_name, email, ncbi_api_key)"
   ]
  },
  {
   "cell_type": "code",
   "execution_count": 81,
   "metadata": {},
   "outputs": [
    {
     "data": {
      "application/vnd.jupyter.widget-view+json": {
       "model_id": "e277f6376c874a6683445f5df86b92a2",
       "version_major": 2,
       "version_minor": 0
      },
      "text/plain": [
       "HBox(children=(FloatProgress(value=0.0), HTML(value='')))"
      ]
     },
     "metadata": {},
     "output_type": "display_data"
    },
    {
     "name": "stdout",
     "output_type": "stream",
     "text": [
      "\n"
     ]
    }
   ],
   "source": [
    "futures = []\n",
    "for doi in tqdm(dois):\n",
    "    futures.append((doi, eutils.search(doi)))"
   ]
  },
  {
   "cell_type": "code",
   "execution_count": 82,
   "metadata": {},
   "outputs": [
    {
     "data": {
      "application/vnd.jupyter.widget-view+json": {
       "model_id": "0a94d8902e6244b9863a3df560e07c17",
       "version_major": 2,
       "version_minor": 0
      },
      "text/plain": [
       "HBox(children=(FloatProgress(value=0.0), HTML(value='')))"
      ]
     },
     "metadata": {},
     "output_type": "display_data"
    },
    {
     "name": "stdout",
     "output_type": "stream",
     "text": [
      "\n"
     ]
    }
   ],
   "source": [
    "results = {}\n",
    "for doi, future in tqdm(futures):\n",
    "    response = future.result()\n",
    "    results[doi] = response.data"
   ]
  },
  {
   "cell_type": "markdown",
   "metadata": {},
   "source": [
    "### Async Code with aiohttp"
   ]
  },
  {
   "cell_type": "code",
   "execution_count": 7,
   "metadata": {},
   "outputs": [],
   "source": [
    "import aiohttp\n",
    "import asyncio\n",
    "from asyncio_throttle import Throttler"
   ]
  },
  {
   "cell_type": "code",
   "execution_count": 8,
   "metadata": {},
   "outputs": [],
   "source": [
    "import time"
   ]
  },
  {
   "cell_type": "code",
   "execution_count": 9,
   "metadata": {},
   "outputs": [],
   "source": [
    "COUNT_REGEX = r\"<Count>(\\d+)<\\/Count>\"\n",
    "ID_REGEX = r\"<Id>(\\d+)<\\/Id>\"\n",
    "\n",
    "class Eutils():\n",
    "    def __init__(self, tool, email, api_key, loop, calls_per_sec=3):\n",
    "        self.baseurl = \"https://eutils.ncbi.nlm.nih.gov/entrez/eutils/esearch.fcgi\"\n",
    "        self.params = {\n",
    "            \"tool\": tool,\n",
    "            \"email\": email,\n",
    "            \"api_key\": api_key,\n",
    "            \"db\": \"pubmed\",\n",
    "            \"retmax\": 1,\n",
    "        }\n",
    "        \n",
    "        self.loop = loop\n",
    "        self.throttler = Throttler(rate_limit=calls_per_sec, period=1)\n",
    "    \n",
    "    async def __fetch(self, session, params):\n",
    "        async with self.throttler:\n",
    "            async with session.get(self.baseurl, params=params) as resp:\n",
    "                await asyncio.sleep(1)\n",
    "                return await resp.text()\n",
    "#         await asyncio.sleep(0.05)\n",
    "                \n",
    "    async def __parse(self, text):\n",
    "        pmid = None\n",
    "        if 'PhraseNotFound' not in text:\n",
    "            count = int(re.search(COUNT_REGEX, text).group(1))\n",
    "            # Only return unique matches\n",
    "            if count == 1:\n",
    "                match = re.search(ID_REGEX, text)\n",
    "                if match:\n",
    "                    pmid = match.group(1)\n",
    "        return pmid\n",
    "\n",
    "    async def get_pmid(self, session, doi):\n",
    "        params = self.params\n",
    "        params['term'] = doi\n",
    "        \n",
    "        text = await self.__fetch(session, params)\n",
    "        pmid = await self.__parse(text)\n",
    "        return (doi, pmid)\n",
    "\n",
    "    async def run(self, dois):\n",
    "        tasks = []\n",
    "        async with aiohttp.ClientSession(loop=self.loop) as session:\n",
    "            # Create tasks with DOI\n",
    "            tasks = [asyncio.ensure_future(self.get_pmid(session, doi)) for doi in dois]  \n",
    "\n",
    "            # Await tasks and print progress\n",
    "            responses = [await t for t in tqdm(asyncio.as_completed(tasks), total=len(dois))]\n",
    "\n",
    "            return responses"
   ]
  },
  {
   "cell_type": "code",
   "execution_count": 10,
   "metadata": {},
   "outputs": [],
   "source": [
    "loop = asyncio.get_event_loop()\n",
    "eutils = Eutils(tool_name, email, ncbi_api_key, loop)"
   ]
  },
  {
   "cell_type": "code",
   "execution_count": 7,
   "metadata": {},
   "outputs": [],
   "source": [
    "dois = articles.DOI.sample(10).unique().tolist()"
   ]
  },
  {
   "cell_type": "code",
   "execution_count": 11,
   "metadata": {},
   "outputs": [
    {
     "ename": "ParserError",
     "evalue": "Error tokenizing data. C error: Expected 4 fields in line 74, saw 6\n",
     "output_type": "error",
     "traceback": [
      "\u001b[0;31m---------------------------------------------------------------------------\u001b[0m",
      "\u001b[0;31mParserError\u001b[0m                               Traceback (most recent call last)",
      "\u001b[0;32m<ipython-input-11-726509eb17c1>\u001b[0m in \u001b[0;36m<module>\u001b[0;34m\u001b[0m\n\u001b[0;32m----> 1\u001b[0;31m \u001b[0mpmids\u001b[0m \u001b[0;34m=\u001b[0m \u001b[0mpd\u001b[0m\u001b[0;34m.\u001b[0m\u001b[0mread_csv\u001b[0m\u001b[0;34m(\u001b[0m\u001b[0mpmid_f\u001b[0m\u001b[0;34m)\u001b[0m\u001b[0;34m\u001b[0m\u001b[0;34m\u001b[0m\u001b[0m\n\u001b[0m\u001b[1;32m      2\u001b[0m \u001b[0mexisting_dois\u001b[0m \u001b[0;34m=\u001b[0m \u001b[0mset\u001b[0m\u001b[0;34m(\u001b[0m\u001b[0mpmids\u001b[0m\u001b[0;34m.\u001b[0m\u001b[0mDOI\u001b[0m\u001b[0;34m.\u001b[0m\u001b[0mtolist\u001b[0m\u001b[0;34m(\u001b[0m\u001b[0;34m)\u001b[0m\u001b[0;34m)\u001b[0m\u001b[0;34m\u001b[0m\u001b[0;34m\u001b[0m\u001b[0m\n\u001b[1;32m      3\u001b[0m \u001b[0mdois\u001b[0m \u001b[0;34m=\u001b[0m \u001b[0mlist\u001b[0m\u001b[0;34m(\u001b[0m\u001b[0mset\u001b[0m\u001b[0;34m(\u001b[0m\u001b[0mdois\u001b[0m\u001b[0;34m)\u001b[0m\u001b[0;34m.\u001b[0m\u001b[0mdifference\u001b[0m\u001b[0;34m(\u001b[0m\u001b[0mexisting_dois\u001b[0m\u001b[0;34m)\u001b[0m\u001b[0;34m)\u001b[0m\u001b[0;34m\u001b[0m\u001b[0;34m\u001b[0m\u001b[0m\n",
      "\u001b[0;32m~/Projects/scholcommlab/tracking-grants/.venv/lib/python3.6/site-packages/pandas/io/parsers.py\u001b[0m in \u001b[0;36mparser_f\u001b[0;34m(filepath_or_buffer, sep, delimiter, header, names, index_col, usecols, squeeze, prefix, mangle_dupe_cols, dtype, engine, converters, true_values, false_values, skipinitialspace, skiprows, skipfooter, nrows, na_values, keep_default_na, na_filter, verbose, skip_blank_lines, parse_dates, infer_datetime_format, keep_date_col, date_parser, dayfirst, cache_dates, iterator, chunksize, compression, thousands, decimal, lineterminator, quotechar, quoting, doublequote, escapechar, comment, encoding, dialect, error_bad_lines, warn_bad_lines, delim_whitespace, low_memory, memory_map, float_precision)\u001b[0m\n\u001b[1;32m    674\u001b[0m         )\n\u001b[1;32m    675\u001b[0m \u001b[0;34m\u001b[0m\u001b[0m\n\u001b[0;32m--> 676\u001b[0;31m         \u001b[0;32mreturn\u001b[0m \u001b[0m_read\u001b[0m\u001b[0;34m(\u001b[0m\u001b[0mfilepath_or_buffer\u001b[0m\u001b[0;34m,\u001b[0m \u001b[0mkwds\u001b[0m\u001b[0;34m)\u001b[0m\u001b[0;34m\u001b[0m\u001b[0;34m\u001b[0m\u001b[0m\n\u001b[0m\u001b[1;32m    677\u001b[0m \u001b[0;34m\u001b[0m\u001b[0m\n\u001b[1;32m    678\u001b[0m     \u001b[0mparser_f\u001b[0m\u001b[0;34m.\u001b[0m\u001b[0m__name__\u001b[0m \u001b[0;34m=\u001b[0m \u001b[0mname\u001b[0m\u001b[0;34m\u001b[0m\u001b[0;34m\u001b[0m\u001b[0m\n",
      "\u001b[0;32m~/Projects/scholcommlab/tracking-grants/.venv/lib/python3.6/site-packages/pandas/io/parsers.py\u001b[0m in \u001b[0;36m_read\u001b[0;34m(filepath_or_buffer, kwds)\u001b[0m\n\u001b[1;32m    452\u001b[0m \u001b[0;34m\u001b[0m\u001b[0m\n\u001b[1;32m    453\u001b[0m     \u001b[0;32mtry\u001b[0m\u001b[0;34m:\u001b[0m\u001b[0;34m\u001b[0m\u001b[0;34m\u001b[0m\u001b[0m\n\u001b[0;32m--> 454\u001b[0;31m         \u001b[0mdata\u001b[0m \u001b[0;34m=\u001b[0m \u001b[0mparser\u001b[0m\u001b[0;34m.\u001b[0m\u001b[0mread\u001b[0m\u001b[0;34m(\u001b[0m\u001b[0mnrows\u001b[0m\u001b[0;34m)\u001b[0m\u001b[0;34m\u001b[0m\u001b[0;34m\u001b[0m\u001b[0m\n\u001b[0m\u001b[1;32m    455\u001b[0m     \u001b[0;32mfinally\u001b[0m\u001b[0;34m:\u001b[0m\u001b[0;34m\u001b[0m\u001b[0;34m\u001b[0m\u001b[0m\n\u001b[1;32m    456\u001b[0m         \u001b[0mparser\u001b[0m\u001b[0;34m.\u001b[0m\u001b[0mclose\u001b[0m\u001b[0;34m(\u001b[0m\u001b[0;34m)\u001b[0m\u001b[0;34m\u001b[0m\u001b[0;34m\u001b[0m\u001b[0m\n",
      "\u001b[0;32m~/Projects/scholcommlab/tracking-grants/.venv/lib/python3.6/site-packages/pandas/io/parsers.py\u001b[0m in \u001b[0;36mread\u001b[0;34m(self, nrows)\u001b[0m\n\u001b[1;32m   1131\u001b[0m     \u001b[0;32mdef\u001b[0m \u001b[0mread\u001b[0m\u001b[0;34m(\u001b[0m\u001b[0mself\u001b[0m\u001b[0;34m,\u001b[0m \u001b[0mnrows\u001b[0m\u001b[0;34m=\u001b[0m\u001b[0;32mNone\u001b[0m\u001b[0;34m)\u001b[0m\u001b[0;34m:\u001b[0m\u001b[0;34m\u001b[0m\u001b[0;34m\u001b[0m\u001b[0m\n\u001b[1;32m   1132\u001b[0m         \u001b[0mnrows\u001b[0m \u001b[0;34m=\u001b[0m \u001b[0m_validate_integer\u001b[0m\u001b[0;34m(\u001b[0m\u001b[0;34m\"nrows\"\u001b[0m\u001b[0;34m,\u001b[0m \u001b[0mnrows\u001b[0m\u001b[0;34m)\u001b[0m\u001b[0;34m\u001b[0m\u001b[0;34m\u001b[0m\u001b[0m\n\u001b[0;32m-> 1133\u001b[0;31m         \u001b[0mret\u001b[0m \u001b[0;34m=\u001b[0m \u001b[0mself\u001b[0m\u001b[0;34m.\u001b[0m\u001b[0m_engine\u001b[0m\u001b[0;34m.\u001b[0m\u001b[0mread\u001b[0m\u001b[0;34m(\u001b[0m\u001b[0mnrows\u001b[0m\u001b[0;34m)\u001b[0m\u001b[0;34m\u001b[0m\u001b[0;34m\u001b[0m\u001b[0m\n\u001b[0m\u001b[1;32m   1134\u001b[0m \u001b[0;34m\u001b[0m\u001b[0m\n\u001b[1;32m   1135\u001b[0m         \u001b[0;31m# May alter columns / col_dict\u001b[0m\u001b[0;34m\u001b[0m\u001b[0;34m\u001b[0m\u001b[0;34m\u001b[0m\u001b[0m\n",
      "\u001b[0;32m~/Projects/scholcommlab/tracking-grants/.venv/lib/python3.6/site-packages/pandas/io/parsers.py\u001b[0m in \u001b[0;36mread\u001b[0;34m(self, nrows)\u001b[0m\n\u001b[1;32m   2035\u001b[0m     \u001b[0;32mdef\u001b[0m \u001b[0mread\u001b[0m\u001b[0;34m(\u001b[0m\u001b[0mself\u001b[0m\u001b[0;34m,\u001b[0m \u001b[0mnrows\u001b[0m\u001b[0;34m=\u001b[0m\u001b[0;32mNone\u001b[0m\u001b[0;34m)\u001b[0m\u001b[0;34m:\u001b[0m\u001b[0;34m\u001b[0m\u001b[0;34m\u001b[0m\u001b[0m\n\u001b[1;32m   2036\u001b[0m         \u001b[0;32mtry\u001b[0m\u001b[0;34m:\u001b[0m\u001b[0;34m\u001b[0m\u001b[0;34m\u001b[0m\u001b[0m\n\u001b[0;32m-> 2037\u001b[0;31m             \u001b[0mdata\u001b[0m \u001b[0;34m=\u001b[0m \u001b[0mself\u001b[0m\u001b[0;34m.\u001b[0m\u001b[0m_reader\u001b[0m\u001b[0;34m.\u001b[0m\u001b[0mread\u001b[0m\u001b[0;34m(\u001b[0m\u001b[0mnrows\u001b[0m\u001b[0;34m)\u001b[0m\u001b[0;34m\u001b[0m\u001b[0;34m\u001b[0m\u001b[0m\n\u001b[0m\u001b[1;32m   2038\u001b[0m         \u001b[0;32mexcept\u001b[0m \u001b[0mStopIteration\u001b[0m\u001b[0;34m:\u001b[0m\u001b[0;34m\u001b[0m\u001b[0;34m\u001b[0m\u001b[0m\n\u001b[1;32m   2039\u001b[0m             \u001b[0;32mif\u001b[0m \u001b[0mself\u001b[0m\u001b[0;34m.\u001b[0m\u001b[0m_first_chunk\u001b[0m\u001b[0;34m:\u001b[0m\u001b[0;34m\u001b[0m\u001b[0;34m\u001b[0m\u001b[0m\n",
      "\u001b[0;32mpandas/_libs/parsers.pyx\u001b[0m in \u001b[0;36mpandas._libs.parsers.TextReader.read\u001b[0;34m()\u001b[0m\n",
      "\u001b[0;32mpandas/_libs/parsers.pyx\u001b[0m in \u001b[0;36mpandas._libs.parsers.TextReader._read_low_memory\u001b[0;34m()\u001b[0m\n",
      "\u001b[0;32mpandas/_libs/parsers.pyx\u001b[0m in \u001b[0;36mpandas._libs.parsers.TextReader._read_rows\u001b[0;34m()\u001b[0m\n",
      "\u001b[0;32mpandas/_libs/parsers.pyx\u001b[0m in \u001b[0;36mpandas._libs.parsers.TextReader._tokenize_rows\u001b[0;34m()\u001b[0m\n",
      "\u001b[0;32mpandas/_libs/parsers.pyx\u001b[0m in \u001b[0;36mpandas._libs.parsers.raise_parser_error\u001b[0;34m()\u001b[0m\n",
      "\u001b[0;31mParserError\u001b[0m: Error tokenizing data. C error: Expected 4 fields in line 74, saw 6\n"
     ]
    }
   ],
   "source": [
    "pmids = pd.read_csv(pmid_f)\n",
    "existing_dois = set(pmids.DOI.tolist())\n",
    "dois = list(set(dois).difference(existing_dois))"
   ]
  },
  {
   "cell_type": "code",
   "execution_count": 9,
   "metadata": {},
   "outputs": [
    {
     "data": {
      "text/plain": [
       "['10.1093/jnci/djh145',\n",
       " '10.1016/j.nano.2007.11.005',\n",
       " '10.1677/joe.0.1690097',\n",
       " '10.1002/pros.20623',\n",
       " '10.1097/wco.0000000000000186',\n",
       " '10.7150/ijbs.4.223',\n",
       " '10.1021/pr500387m',\n",
       " '10.1002/pros.20227',\n",
       " '10.4049/jimmunol.1400806',\n",
       " '10.1107/s1744309110004409']"
      ]
     },
     "execution_count": 9,
     "metadata": {},
     "output_type": "execute_result"
    }
   ],
   "source": [
    "dois"
   ]
  },
  {
   "cell_type": "code",
   "execution_count": 13,
   "metadata": {},
   "outputs": [
    {
     "data": {
      "application/vnd.jupyter.widget-view+json": {
       "model_id": "0e2fe1162e97405fa79610d077eb48b5",
       "version_major": 2,
       "version_minor": 0
      },
      "text/plain": [
       "HBox(children=(FloatProgress(value=0.0, max=10.0), HTML(value='')))"
      ]
     },
     "metadata": {},
     "output_type": "display_data"
    },
    {
     "name": "stdout",
     "output_type": "stream",
     "text": [
      "\n"
     ]
    }
   ],
   "source": [
    "results = await eutils.run(dois)"
   ]
  },
  {
   "cell_type": "code",
   "execution_count": 20,
   "metadata": {},
   "outputs": [
    {
     "data": {
      "text/plain": [
       "[1]"
      ]
     },
     "execution_count": 20,
     "metadata": {},
     "output_type": "execute_result"
    }
   ],
   "source": [
    "list(set([1,2,3]).difference(set([2,3])))"
   ]
  },
  {
   "cell_type": "code",
   "execution_count": 17,
   "metadata": {},
   "outputs": [
    {
     "data": {
      "text/html": [
       "<div>\n",
       "<style scoped>\n",
       "    .dataframe tbody tr th:only-of-type {\n",
       "        vertical-align: middle;\n",
       "    }\n",
       "\n",
       "    .dataframe tbody tr th {\n",
       "        vertical-align: top;\n",
       "    }\n",
       "\n",
       "    .dataframe thead th {\n",
       "        text-align: right;\n",
       "    }\n",
       "</style>\n",
       "<table border=\"1\" class=\"dataframe\">\n",
       "  <thead>\n",
       "    <tr style=\"text-align: right;\">\n",
       "      <th></th>\n",
       "      <th>DOI</th>\n",
       "      <th>pmid</th>\n",
       "    </tr>\n",
       "  </thead>\n",
       "  <tbody>\n",
       "    <tr>\n",
       "      <th>0</th>\n",
       "      <td>10.1016/j.clgc.2014.08.012</td>\n",
       "      <td>25450037</td>\n",
       "    </tr>\n",
       "    <tr>\n",
       "      <th>1</th>\n",
       "      <td>10.1210/endo.143.6.8846</td>\n",
       "      <td>12021174</td>\n",
       "    </tr>\n",
       "    <tr>\n",
       "      <th>2</th>\n",
       "      <td>10.1124/mol.107.036681</td>\n",
       "      <td>17507690</td>\n",
       "    </tr>\n",
       "    <tr>\n",
       "      <th>3</th>\n",
       "      <td>10.3748/wjg.v13.i11.1659</td>\n",
       "      <td>12506112</td>\n",
       "    </tr>\n",
       "    <tr>\n",
       "      <th>4</th>\n",
       "      <td>10.1200/jco.2015.65.3154</td>\n",
       "      <td>12506112</td>\n",
       "    </tr>\n",
       "    <tr>\n",
       "      <th>5</th>\n",
       "      <td>10.1371/journal.pone.0071709</td>\n",
       "      <td>12506112</td>\n",
       "    </tr>\n",
       "    <tr>\n",
       "      <th>6</th>\n",
       "      <td>10.1002/nbm.973</td>\n",
       "      <td>12506112</td>\n",
       "    </tr>\n",
       "    <tr>\n",
       "      <th>7</th>\n",
       "      <td>10.2144/000114063</td>\n",
       "      <td>12506112</td>\n",
       "    </tr>\n",
       "    <tr>\n",
       "      <th>8</th>\n",
       "      <td>10.4161/cbt.12.9.17682</td>\n",
       "      <td>12506112</td>\n",
       "    </tr>\n",
       "    <tr>\n",
       "      <th>9</th>\n",
       "      <td>10.1074/jbc.m207637200</td>\n",
       "      <td>12506112</td>\n",
       "    </tr>\n",
       "  </tbody>\n",
       "</table>\n",
       "</div>"
      ],
      "text/plain": [
       "                            DOI      pmid\n",
       "0    10.1016/j.clgc.2014.08.012  25450037\n",
       "1       10.1210/endo.143.6.8846  12021174\n",
       "2        10.1124/mol.107.036681  17507690\n",
       "3      10.3748/wjg.v13.i11.1659  12506112\n",
       "4      10.1200/jco.2015.65.3154  12506112\n",
       "5  10.1371/journal.pone.0071709  12506112\n",
       "6               10.1002/nbm.973  12506112\n",
       "7             10.2144/000114063  12506112\n",
       "8        10.4161/cbt.12.9.17682  12506112\n",
       "9        10.1074/jbc.m207637200  12506112"
      ]
     },
     "execution_count": 17,
     "metadata": {},
     "output_type": "execute_result"
    }
   ],
   "source": [
    "pd.DataFrame(results, columns=[\"DOI\", \"pmid\"]).to_csv(pmid_f)"
   ]
  }
 ],
 "metadata": {
  "kernelspec": {
   "display_name": "tracking-grants",
   "language": "python",
   "name": "tracking-grants"
  },
  "language_info": {
   "codemirror_mode": {
    "name": "ipython",
    "version": 3
   },
   "file_extension": ".py",
   "mimetype": "text/x-python",
   "name": "python",
   "nbconvert_exporter": "python",
   "pygments_lexer": "ipython3",
   "version": "3.6.10"
  }
 },
 "nbformat": 4,
 "nbformat_minor": 4
}
