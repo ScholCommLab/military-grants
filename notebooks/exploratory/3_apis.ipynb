{
 "cells": [
  {
   "cell_type": "code",
   "execution_count": 1,
   "metadata": {},
   "outputs": [],
   "source": [
    "from pprint import pprint\n",
    "import pandas as pd"
   ]
  },
  {
   "cell_type": "code",
   "execution_count": 2,
   "metadata": {},
   "outputs": [],
   "source": [
    "from requests_futures.sessions import FuturesSession"
   ]
  },
  {
   "cell_type": "code",
   "execution_count": 3,
   "metadata": {},
   "outputs": [],
   "source": [
    "from tracking_grants import articles_f, email, ncbi_api_key, tool_name"
   ]
  },
  {
   "cell_type": "code",
   "execution_count": 4,
   "metadata": {},
   "outputs": [],
   "source": [
    "from ratelimit import limits, sleep_and_retry\n",
    "from tqdm.auto import tqdm\n",
    "import re"
   ]
  },
  {
   "cell_type": "code",
   "execution_count": 5,
   "metadata": {},
   "outputs": [],
   "source": [
    "articles = pd.read_csv(articles_f)"
   ]
  },
  {
   "cell_type": "code",
   "execution_count": 6,
   "metadata": {},
   "outputs": [],
   "source": [
    "dois = articles.DOI.sample(100).unique().tolist()"
   ]
  },
  {
   "cell_type": "markdown",
   "metadata": {},
   "source": [
    "### Async calls with request futures"
   ]
  },
  {
   "cell_type": "code",
   "execution_count": 79,
   "metadata": {},
   "outputs": [],
   "source": [
    "NCBI_CALLS_PER_SEC = 3\n",
    "\n",
    "class Eutils:\n",
    "    def __init__(self, tool, email, api_key):\n",
    "        self.search_api = \"https://eutils.ncbi.nlm.nih.gov/entrez/eutils/esearch.fcgi\"\n",
    "        self.session = FuturesSession()\n",
    "        self.session.hooks['response'] = self.response_hook\n",
    "        \n",
    "        self.params = {\n",
    "            \"tool\": tool,\n",
    "            \"email\": email,\n",
    "            \"api_key\": api_key,\n",
    "            \"db\": \"pubmed\",\n",
    "            \"retmax\": 1,\n",
    "        }\n",
    "\n",
    "    @sleep_and_retry\n",
    "    @limits(calls=NCBI_CALLS_PER_SEC, period=1)\n",
    "    def search(self, doi):\n",
    "        params = self.params\n",
    "        params[\"term\"] = doi\n",
    "\n",
    "        future = self.session.get(self.search_api, params=params)\n",
    "        return future\n",
    "    \n",
    "    @staticmethod\n",
    "    def response_hook(resp, *args, **kwargs):\n",
    "        if resp.status_code != 200:\n",
    "            resp.data = f\"Error:{response.status_code}\"\n",
    "        else:\n",
    "            text = resp.text\n",
    "            resp.data = None\n",
    "\n",
    "            # Only return DOI has been found in the text\n",
    "            if 'PhraseNotFound' not in text:\n",
    "                count = int(re.search(r\"<Count>(\\d+)<\\/Count>\", text).group(1))\n",
    "                # Only return unique matches\n",
    "                if count == 1:\n",
    "                    match = re.search(r\"<Id>(\\d+)<\\/Id>\", text)\n",
    "                    if match:\n",
    "                        resp.data =  match.group(1)"
   ]
  },
  {
   "cell_type": "code",
   "execution_count": 80,
   "metadata": {},
   "outputs": [],
   "source": [
    "eutils = Eutils(tool_name, email, ncbi_api_key)"
   ]
  },
  {
   "cell_type": "code",
   "execution_count": 81,
   "metadata": {},
   "outputs": [
    {
     "data": {
      "application/vnd.jupyter.widget-view+json": {
       "model_id": "e277f6376c874a6683445f5df86b92a2",
       "version_major": 2,
       "version_minor": 0
      },
      "text/plain": [
       "HBox(children=(FloatProgress(value=0.0), HTML(value='')))"
      ]
     },
     "metadata": {},
     "output_type": "display_data"
    },
    {
     "name": "stdout",
     "output_type": "stream",
     "text": [
      "\n"
     ]
    }
   ],
   "source": [
    "futures = []\n",
    "for doi in tqdm(dois):\n",
    "    futures.append((doi, eutils.search(doi)))"
   ]
  },
  {
   "cell_type": "code",
   "execution_count": 82,
   "metadata": {},
   "outputs": [
    {
     "data": {
      "application/vnd.jupyter.widget-view+json": {
       "model_id": "0a94d8902e6244b9863a3df560e07c17",
       "version_major": 2,
       "version_minor": 0
      },
      "text/plain": [
       "HBox(children=(FloatProgress(value=0.0), HTML(value='')))"
      ]
     },
     "metadata": {},
     "output_type": "display_data"
    },
    {
     "name": "stdout",
     "output_type": "stream",
     "text": [
      "\n"
     ]
    }
   ],
   "source": [
    "results = {}\n",
    "for doi, future in tqdm(futures):\n",
    "    response = future.result()\n",
    "    results[doi] = response.data"
   ]
  },
  {
   "cell_type": "markdown",
   "metadata": {},
   "source": [
    "### Async Code with aiohttp"
   ]
  },
  {
   "cell_type": "code",
   "execution_count": 7,
   "metadata": {},
   "outputs": [],
   "source": [
    "import aiohttp\n",
    "import asyncio\n",
    "from asyncio_throttle import Throttler"
   ]
  },
  {
   "cell_type": "code",
   "execution_count": 8,
   "metadata": {},
   "outputs": [],
   "source": [
    "import time"
   ]
  },
  {
   "cell_type": "code",
   "execution_count": 9,
   "metadata": {},
   "outputs": [],
   "source": [
    "COUNT_REGEX = r\"<Count>(\\d+)<\\/Count>\"\n",
    "ID_REGEX = r\"<Id>(\\d+)<\\/Id>\"\n",
    "\n",
    "class Eutils():\n",
    "    def __init__(self, tool, email, api_key, loop, calls_per_sec=3):\n",
    "        self.baseurl = \"https://eutils.ncbi.nlm.nih.gov/entrez/eutils/esearch.fcgi\"\n",
    "        self.params = {\n",
    "            \"tool\": tool,\n",
    "            \"email\": email,\n",
    "            \"api_key\": api_key,\n",
    "            \"db\": \"pubmed\",\n",
    "            \"retmax\": 1,\n",
    "        }\n",
    "        \n",
    "        self.loop = loop\n",
    "        self.throttler = Throttler(rate_limit=calls_per_sec, period=1)\n",
    "    \n",
    "    async def __fetch(self, session, params):\n",
    "        async with self.throttler:\n",
    "            async with session.get(self.baseurl, params=params) as resp:\n",
    "                await asyncio.sleep(1)\n",
    "                return await resp.text()\n",
    "#         await asyncio.sleep(0.05)\n",
    "                \n",
    "    async def __parse(self, text):\n",
    "        pmid = None\n",
    "        if 'PhraseNotFound' not in text:\n",
    "            count = int(re.search(COUNT_REGEX, text).group(1))\n",
    "            # Only return unique matches\n",
    "            if count == 1:\n",
    "                match = re.search(ID_REGEX, text)\n",
    "                if match:\n",
    "                    pmid = match.group(1)\n",
    "        return pmid\n",
    "\n",
    "    async def get_pmid(self, session, doi):\n",
    "        params = self.params\n",
    "        params['term'] = doi\n",
    "        \n",
    "        text = await self.__fetch(session, params)\n",
    "        pmid = await self.__parse(text)\n",
    "        return (doi, pmid)\n",
    "\n",
    "    async def run(self, dois):\n",
    "        tasks = []\n",
    "        async with aiohttp.ClientSession(loop=self.loop) as session:\n",
    "            # Create tasks with DOI\n",
    "            tasks = [asyncio.ensure_future(self.get_pmid(session, doi)) for doi in dois]  \n",
    "\n",
    "            # Await tasks and print progress\n",
    "            responses = [await t for t in tqdm(asyncio.as_completed(tasks), total=len(dois))]\n",
    "\n",
    "            return responses"
   ]
  },
  {
   "cell_type": "code",
   "execution_count": 10,
   "metadata": {},
   "outputs": [],
   "source": [
    "loop = asyncio.get_event_loop()\n",
    "eutils = Eutils(tool_name, email, ncbi_api_key, loop)"
   ]
  },
  {
   "cell_type": "code",
   "execution_count": 11,
   "metadata": {},
   "outputs": [],
   "source": [
    "dois = articles.DOI.sample(10).unique().tolist()"
   ]
  },
  {
   "cell_type": "code",
   "execution_count": 13,
   "metadata": {},
   "outputs": [
    {
     "data": {
      "application/vnd.jupyter.widget-view+json": {
       "model_id": "0e2fe1162e97405fa79610d077eb48b5",
       "version_major": 2,
       "version_minor": 0
      },
      "text/plain": [
       "HBox(children=(FloatProgress(value=0.0, max=10.0), HTML(value='')))"
      ]
     },
     "metadata": {},
     "output_type": "display_data"
    },
    {
     "name": "stdout",
     "output_type": "stream",
     "text": [
      "\n"
     ]
    }
   ],
   "source": [
    "results = await eutils.run(dois)"
   ]
  },
  {
   "cell_type": "code",
   "execution_count": 17,
   "metadata": {},
   "outputs": [
    {
     "data": {
      "text/html": [
       "<div>\n",
       "<style scoped>\n",
       "    .dataframe tbody tr th:only-of-type {\n",
       "        vertical-align: middle;\n",
       "    }\n",
       "\n",
       "    .dataframe tbody tr th {\n",
       "        vertical-align: top;\n",
       "    }\n",
       "\n",
       "    .dataframe thead th {\n",
       "        text-align: right;\n",
       "    }\n",
       "</style>\n",
       "<table border=\"1\" class=\"dataframe\">\n",
       "  <thead>\n",
       "    <tr style=\"text-align: right;\">\n",
       "      <th></th>\n",
       "      <th>DOI</th>\n",
       "      <th>pmid</th>\n",
       "    </tr>\n",
       "  </thead>\n",
       "  <tbody>\n",
       "    <tr>\n",
       "      <th>0</th>\n",
       "      <td>10.1016/j.clgc.2014.08.012</td>\n",
       "      <td>25450037</td>\n",
       "    </tr>\n",
       "    <tr>\n",
       "      <th>1</th>\n",
       "      <td>10.1210/endo.143.6.8846</td>\n",
       "      <td>12021174</td>\n",
       "    </tr>\n",
       "    <tr>\n",
       "      <th>2</th>\n",
       "      <td>10.1124/mol.107.036681</td>\n",
       "      <td>17507690</td>\n",
       "    </tr>\n",
       "    <tr>\n",
       "      <th>3</th>\n",
       "      <td>10.3748/wjg.v13.i11.1659</td>\n",
       "      <td>12506112</td>\n",
       "    </tr>\n",
       "    <tr>\n",
       "      <th>4</th>\n",
       "      <td>10.1200/jco.2015.65.3154</td>\n",
       "      <td>12506112</td>\n",
       "    </tr>\n",
       "    <tr>\n",
       "      <th>5</th>\n",
       "      <td>10.1371/journal.pone.0071709</td>\n",
       "      <td>12506112</td>\n",
       "    </tr>\n",
       "    <tr>\n",
       "      <th>6</th>\n",
       "      <td>10.1002/nbm.973</td>\n",
       "      <td>12506112</td>\n",
       "    </tr>\n",
       "    <tr>\n",
       "      <th>7</th>\n",
       "      <td>10.2144/000114063</td>\n",
       "      <td>12506112</td>\n",
       "    </tr>\n",
       "    <tr>\n",
       "      <th>8</th>\n",
       "      <td>10.4161/cbt.12.9.17682</td>\n",
       "      <td>12506112</td>\n",
       "    </tr>\n",
       "    <tr>\n",
       "      <th>9</th>\n",
       "      <td>10.1074/jbc.m207637200</td>\n",
       "      <td>12506112</td>\n",
       "    </tr>\n",
       "  </tbody>\n",
       "</table>\n",
       "</div>"
      ],
      "text/plain": [
       "                            DOI      pmid\n",
       "0    10.1016/j.clgc.2014.08.012  25450037\n",
       "1       10.1210/endo.143.6.8846  12021174\n",
       "2        10.1124/mol.107.036681  17507690\n",
       "3      10.3748/wjg.v13.i11.1659  12506112\n",
       "4      10.1200/jco.2015.65.3154  12506112\n",
       "5  10.1371/journal.pone.0071709  12506112\n",
       "6               10.1002/nbm.973  12506112\n",
       "7             10.2144/000114063  12506112\n",
       "8        10.4161/cbt.12.9.17682  12506112\n",
       "9        10.1074/jbc.m207637200  12506112"
      ]
     },
     "execution_count": 17,
     "metadata": {},
     "output_type": "execute_result"
    }
   ],
   "source": [
    "pd.DataFrame(results, columns=[\"DOI\", \"pmid\"]).to_csv(pmid_f)"
   ]
  }
 ],
 "metadata": {
  "kernelspec": {
   "display_name": "tracking-grants",
   "language": "python",
   "name": "tracking-grants"
  },
  "language_info": {
   "codemirror_mode": {
    "name": "ipython",
    "version": 3
   },
   "file_extension": ".py",
   "mimetype": "text/x-python",
   "name": "python",
   "nbconvert_exporter": "python",
   "pygments_lexer": "ipython3",
   "version": "3.6.10"
  }
 },
 "nbformat": 4,
 "nbformat_minor": 4
}
