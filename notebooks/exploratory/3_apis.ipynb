{
 "cells": [
  {
   "cell_type": "code",
   "execution_count": 3,
   "metadata": {},
   "outputs": [],
   "source": [
    "from pprint import pprint\n",
    "import pandas as pd"
   ]
  },
  {
   "cell_type": "code",
   "execution_count": 4,
   "metadata": {},
   "outputs": [],
   "source": [
    "from requests_futures.sessions import FuturesSession"
   ]
  },
  {
   "cell_type": "code",
   "execution_count": 5,
   "metadata": {},
   "outputs": [],
   "source": [
    "from tracking_grants import articles_f, pmid_f, email, ncbi_api_key, tool_name"
   ]
  },
  {
   "cell_type": "code",
   "execution_count": 6,
   "metadata": {},
   "outputs": [],
   "source": [
    "from ratelimit import limits, sleep_and_retry\n",
    "from tqdm.auto import tqdm\n",
    "import re"
   ]
  },
  {
   "cell_type": "code",
   "execution_count": 7,
   "metadata": {},
   "outputs": [],
   "source": [
    "articles = pd.read_csv(articles_f)"
   ]
  },
  {
   "cell_type": "code",
   "execution_count": 31,
   "metadata": {},
   "outputs": [],
   "source": [
    "pmids = pd.read_csv(pmid_f)"
   ]
  },
  {
   "cell_type": "code",
   "execution_count": null,
   "metadata": {},
   "outputs": [],
   "source": [
    "articles.merge()"
   ]
  },
  {
   "cell_type": "code",
   "execution_count": 25,
   "metadata": {},
   "outputs": [
    {
     "data": {
      "text/html": [
       "<div>\n",
       "<style scoped>\n",
       "    .dataframe tbody tr th:only-of-type {\n",
       "        vertical-align: middle;\n",
       "    }\n",
       "\n",
       "    .dataframe tbody tr th {\n",
       "        vertical-align: top;\n",
       "    }\n",
       "\n",
       "    .dataframe thead th {\n",
       "        text-align: right;\n",
       "    }\n",
       "</style>\n",
       "<table border=\"1\" class=\"dataframe\">\n",
       "  <thead>\n",
       "    <tr style=\"text-align: right;\">\n",
       "      <th></th>\n",
       "      <th>DOI</th>\n",
       "      <th>pmid</th>\n",
       "      <th>response</th>\n",
       "      <th>ts</th>\n",
       "    </tr>\n",
       "  </thead>\n",
       "  <tbody>\n",
       "    <tr>\n",
       "      <th>6</th>\n",
       "      <td>10.1200/jco.2018.36.6_suppl.234</td>\n",
       "      <td>NaN</td>\n",
       "      <td>&lt;?xml version=\"1.0\" encoding=\"UTF-8\" ?&gt;\\n&lt;!DOC...</td>\n",
       "      <td>2020-06-25T21:48:42.702866</td>\n",
       "    </tr>\n",
       "    <tr>\n",
       "      <th>29</th>\n",
       "      <td>10.1200/jco.2007.25.18_suppl.5134</td>\n",
       "      <td>NaN</td>\n",
       "      <td>&lt;?xml version=\"1.0\" encoding=\"UTF-8\" ?&gt;\\n&lt;!DOC...</td>\n",
       "      <td>2020-06-25T22:04:33.613308</td>\n",
       "    </tr>\n",
       "    <tr>\n",
       "      <th>31</th>\n",
       "      <td>10.1200/jco.2008.26.15_suppl.5018</td>\n",
       "      <td>NaN</td>\n",
       "      <td>&lt;?xml version=\"1.0\" encoding=\"UTF-8\" ?&gt;\\n&lt;!DOC...</td>\n",
       "      <td>2020-06-25T22:04:33.613372</td>\n",
       "    </tr>\n",
       "    <tr>\n",
       "      <th>40</th>\n",
       "      <td>10.1109/tns.2011.2136387</td>\n",
       "      <td>NaN</td>\n",
       "      <td>&lt;?xml version=\"1.0\" encoding=\"UTF-8\" ?&gt;\\n&lt;!DOC...</td>\n",
       "      <td>2020-06-25T22:04:33.613468</td>\n",
       "    </tr>\n",
       "    <tr>\n",
       "      <th>51</th>\n",
       "      <td>10.1118/1.2241679</td>\n",
       "      <td>NaN</td>\n",
       "      <td>&lt;?xml version=\"1.0\" encoding=\"UTF-8\" ?&gt;\\n&lt;!DOC...</td>\n",
       "      <td>2020-06-25T22:04:34.613476</td>\n",
       "    </tr>\n",
       "    <tr>\n",
       "      <th>...</th>\n",
       "      <td>...</td>\n",
       "      <td>...</td>\n",
       "      <td>...</td>\n",
       "      <td>...</td>\n",
       "    </tr>\n",
       "    <tr>\n",
       "      <th>6883</th>\n",
       "      <td>10.1074/jbc.m108255200</td>\n",
       "      <td>NaN</td>\n",
       "      <td>{\"error\":\"API rate limit exceeded\",\"api-key\":\"...</td>\n",
       "      <td>2020-06-25T22:16:06.741685</td>\n",
       "    </tr>\n",
       "    <tr>\n",
       "      <th>6884</th>\n",
       "      <td>10.1016/s1063-5823(06)59019-2</td>\n",
       "      <td>NaN</td>\n",
       "      <td>&lt;?xml version=\"1.0\" encoding=\"UTF-8\" ?&gt;\\n&lt;!DOC...</td>\n",
       "      <td>2020-06-25T22:16:06.741708</td>\n",
       "    </tr>\n",
       "    <tr>\n",
       "      <th>6893</th>\n",
       "      <td>10.1118/1.4925550</td>\n",
       "      <td>NaN</td>\n",
       "      <td>&lt;?xml version=\"1.0\" encoding=\"UTF-8\" ?&gt;\\n&lt;!DOC...</td>\n",
       "      <td>2020-06-25T22:16:07.741711</td>\n",
       "    </tr>\n",
       "    <tr>\n",
       "      <th>6915</th>\n",
       "      <td>10.1002/cncr.20905</td>\n",
       "      <td>NaN</td>\n",
       "      <td>{\"error\":\"API rate limit exceeded\",\"api-key\":\"...</td>\n",
       "      <td>2020-06-25T22:16:09.741804</td>\n",
       "    </tr>\n",
       "    <tr>\n",
       "      <th>6917</th>\n",
       "      <td>10.1142/9789812770431_0004</td>\n",
       "      <td>NaN</td>\n",
       "      <td>&lt;?xml version=\"1.0\" encoding=\"UTF-8\" ?&gt;\\n&lt;!DOC...</td>\n",
       "      <td>2020-06-25T22:16:09.741832</td>\n",
       "    </tr>\n",
       "  </tbody>\n",
       "</table>\n",
       "<p>1167 rows × 4 columns</p>\n",
       "</div>"
      ],
      "text/plain": [
       "                                    DOI  pmid  \\\n",
       "6       10.1200/jco.2018.36.6_suppl.234   NaN   \n",
       "29    10.1200/jco.2007.25.18_suppl.5134   NaN   \n",
       "31    10.1200/jco.2008.26.15_suppl.5018   NaN   \n",
       "40             10.1109/tns.2011.2136387   NaN   \n",
       "51                    10.1118/1.2241679   NaN   \n",
       "...                                 ...   ...   \n",
       "6883             10.1074/jbc.m108255200   NaN   \n",
       "6884      10.1016/s1063-5823(06)59019-2   NaN   \n",
       "6893                  10.1118/1.4925550   NaN   \n",
       "6915                 10.1002/cncr.20905   NaN   \n",
       "6917         10.1142/9789812770431_0004   NaN   \n",
       "\n",
       "                                               response  \\\n",
       "6     <?xml version=\"1.0\" encoding=\"UTF-8\" ?>\\n<!DOC...   \n",
       "29    <?xml version=\"1.0\" encoding=\"UTF-8\" ?>\\n<!DOC...   \n",
       "31    <?xml version=\"1.0\" encoding=\"UTF-8\" ?>\\n<!DOC...   \n",
       "40    <?xml version=\"1.0\" encoding=\"UTF-8\" ?>\\n<!DOC...   \n",
       "51    <?xml version=\"1.0\" encoding=\"UTF-8\" ?>\\n<!DOC...   \n",
       "...                                                 ...   \n",
       "6883  {\"error\":\"API rate limit exceeded\",\"api-key\":\"...   \n",
       "6884  <?xml version=\"1.0\" encoding=\"UTF-8\" ?>\\n<!DOC...   \n",
       "6893  <?xml version=\"1.0\" encoding=\"UTF-8\" ?>\\n<!DOC...   \n",
       "6915  {\"error\":\"API rate limit exceeded\",\"api-key\":\"...   \n",
       "6917  <?xml version=\"1.0\" encoding=\"UTF-8\" ?>\\n<!DOC...   \n",
       "\n",
       "                              ts  \n",
       "6     2020-06-25T21:48:42.702866  \n",
       "29    2020-06-25T22:04:33.613308  \n",
       "31    2020-06-25T22:04:33.613372  \n",
       "40    2020-06-25T22:04:33.613468  \n",
       "51    2020-06-25T22:04:34.613476  \n",
       "...                          ...  \n",
       "6883  2020-06-25T22:16:06.741685  \n",
       "6884  2020-06-25T22:16:06.741708  \n",
       "6893  2020-06-25T22:16:07.741711  \n",
       "6915  2020-06-25T22:16:09.741804  \n",
       "6917  2020-06-25T22:16:09.741832  \n",
       "\n",
       "[1167 rows x 4 columns]"
      ]
     },
     "execution_count": 25,
     "metadata": {},
     "output_type": "execute_result"
    }
   ],
   "source": [
    "pmids[pmids.pmid.isna()]"
   ]
  },
  {
   "cell_type": "code",
   "execution_count": 6,
   "metadata": {},
   "outputs": [],
   "source": [
    "dois = articles.DOI.sample(100).unique().tolist()"
   ]
  },
  {
   "cell_type": "markdown",
   "metadata": {},
   "source": [
    "### Async calls with request futures"
   ]
  },
  {
   "cell_type": "code",
   "execution_count": 79,
   "metadata": {},
   "outputs": [],
   "source": [
    "NCBI_CALLS_PER_SEC = 3\n",
    "\n",
    "class Eutils:\n",
    "    def __init__(self, tool, email, api_key):\n",
    "        self.search_api = \"https://eutils.ncbi.nlm.nih.gov/entrez/eutils/esearch.fcgi\"\n",
    "        self.session = FuturesSession()\n",
    "        self.session.hooks['response'] = self.response_hook\n",
    "        \n",
    "        self.params = {\n",
    "            \"tool\": tool,\n",
    "            \"email\": email,\n",
    "            \"api_key\": api_key,\n",
    "            \"db\": \"pubmed\",\n",
    "            \"retmax\": 1,\n",
    "        }\n",
    "\n",
    "    @sleep_and_retry\n",
    "    @limits(calls=NCBI_CALLS_PER_SEC, period=1)\n",
    "    def search(self, doi):\n",
    "        params = self.params\n",
    "        params[\"term\"] = doi\n",
    "\n",
    "        future = self.session.get(self.search_api, params=params)\n",
    "        return future\n",
    "    \n",
    "    @staticmethod\n",
    "    def response_hook(resp, *args, **kwargs):\n",
    "        if resp.status_code != 200:\n",
    "            resp.data = f\"Error:{response.status_code}\"\n",
    "        else:\n",
    "            text = resp.text\n",
    "            resp.data = None\n",
    "\n",
    "            # Only return DOI has been found in the text\n",
    "            if 'PhraseNotFound' not in text:\n",
    "                count = int(re.search(r\"<Count>(\\d+)<\\/Count>\", text).group(1))\n",
    "                # Only return unique matches\n",
    "                if count == 1:\n",
    "                    match = re.search(r\"<Id>(\\d+)<\\/Id>\", text)\n",
    "                    if match:\n",
    "                        resp.data =  match.group(1)"
   ]
  },
  {
   "cell_type": "code",
   "execution_count": 80,
   "metadata": {},
   "outputs": [],
   "source": [
    "eutils = Eutils(tool_name, email, ncbi_api_key)"
   ]
  },
  {
   "cell_type": "code",
   "execution_count": 81,
   "metadata": {},
   "outputs": [
    {
     "data": {
      "application/vnd.jupyter.widget-view+json": {
       "model_id": "e277f6376c874a6683445f5df86b92a2",
       "version_major": 2,
       "version_minor": 0
      },
      "text/plain": [
       "HBox(children=(FloatProgress(value=0.0), HTML(value='')))"
      ]
     },
     "metadata": {},
     "output_type": "display_data"
    },
    {
     "name": "stdout",
     "output_type": "stream",
     "text": [
      "\n"
     ]
    }
   ],
   "source": [
    "futures = []\n",
    "for doi in tqdm(dois):\n",
    "    futures.append((doi, eutils.search(doi)))"
   ]
  },
  {
   "cell_type": "code",
   "execution_count": 82,
   "metadata": {},
   "outputs": [
    {
     "data": {
      "application/vnd.jupyter.widget-view+json": {
       "model_id": "0a94d8902e6244b9863a3df560e07c17",
       "version_major": 2,
       "version_minor": 0
      },
      "text/plain": [
       "HBox(children=(FloatProgress(value=0.0), HTML(value='')))"
      ]
     },
     "metadata": {},
     "output_type": "display_data"
    },
    {
     "name": "stdout",
     "output_type": "stream",
     "text": [
      "\n"
     ]
    }
   ],
   "source": [
    "results = {}\n",
    "for doi, future in tqdm(futures):\n",
    "    response = future.result()\n",
    "    results[doi] = response.data"
   ]
  },
  {
   "cell_type": "markdown",
   "metadata": {},
   "source": [
    "### Async Code with aiohttp"
   ]
  },
  {
   "cell_type": "code",
   "execution_count": 7,
   "metadata": {},
   "outputs": [],
   "source": [
    "import aiohttp\n",
    "import asyncio\n",
    "from asyncio_throttle import Throttler"
   ]
  },
  {
   "cell_type": "code",
   "execution_count": 8,
   "metadata": {},
   "outputs": [],
   "source": [
    "import time"
   ]
  },
  {
   "cell_type": "code",
   "execution_count": 9,
   "metadata": {},
   "outputs": [],
   "source": [
    "COUNT_REGEX = r\"<Count>(\\d+)<\\/Count>\"\n",
    "ID_REGEX = r\"<Id>(\\d+)<\\/Id>\"\n",
    "\n",
    "class Eutils():\n",
    "    def __init__(self, tool, email, api_key, loop, calls_per_sec=3):\n",
    "        self.baseurl = \"https://eutils.ncbi.nlm.nih.gov/entrez/eutils/esearch.fcgi\"\n",
    "        self.params = {\n",
    "            \"tool\": tool,\n",
    "            \"email\": email,\n",
    "            \"api_key\": api_key,\n",
    "            \"db\": \"pubmed\",\n",
    "            \"retmax\": 1,\n",
    "        }\n",
    "        \n",
    "        self.loop = loop\n",
    "        self.throttler = Throttler(rate_limit=calls_per_sec, period=1)\n",
    "    \n",
    "    async def __fetch(self, session, params):\n",
    "        async with self.throttler:\n",
    "            async with session.get(self.baseurl, params=params) as resp:\n",
    "                await asyncio.sleep(1)\n",
    "                return await resp.text()\n",
    "#         await asyncio.sleep(0.05)\n",
    "                \n",
    "    async def __parse(self, text):\n",
    "        pmid = None\n",
    "        if 'PhraseNotFound' not in text:\n",
    "            count = int(re.search(COUNT_REGEX, text).group(1))\n",
    "            # Only return unique matches\n",
    "            if count == 1:\n",
    "                match = re.search(ID_REGEX, text)\n",
    "                if match:\n",
    "                    pmid = match.group(1)\n",
    "        return pmid\n",
    "\n",
    "    async def get_pmid(self, session, doi):\n",
    "        params = self.params\n",
    "        params['term'] = doi\n",
    "        \n",
    "        text = await self.__fetch(session, params)\n",
    "        pmid = await self.__parse(text)\n",
    "        return (doi, pmid)\n",
    "\n",
    "    async def run(self, dois):\n",
    "        tasks = []\n",
    "        async with aiohttp.ClientSession(loop=self.loop) as session:\n",
    "            # Create tasks with DOI\n",
    "            tasks = [asyncio.ensure_future(self.get_pmid(session, doi)) for doi in dois]  \n",
    "\n",
    "            # Await tasks and print progress\n",
    "            responses = [await t for t in tqdm(asyncio.as_completed(tasks), total=len(dois))]\n",
    "\n",
    "            return responses"
   ]
  },
  {
   "cell_type": "code",
   "execution_count": 10,
   "metadata": {},
   "outputs": [],
   "source": [
    "loop = asyncio.get_event_loop()\n",
    "eutils = Eutils(tool_name, email, ncbi_api_key, loop)"
   ]
  },
  {
   "cell_type": "code",
   "execution_count": 7,
   "metadata": {},
   "outputs": [],
   "source": [
    "dois = articles.DOI.sample(10).unique().tolist()"
   ]
  },
  {
   "cell_type": "code",
   "execution_count": 11,
   "metadata": {},
   "outputs": [
    {
     "ename": "ParserError",
     "evalue": "Error tokenizing data. C error: Expected 4 fields in line 74, saw 6\n",
     "output_type": "error",
     "traceback": [
      "\u001b[0;31m---------------------------------------------------------------------------\u001b[0m",
      "\u001b[0;31mParserError\u001b[0m                               Traceback (most recent call last)",
      "\u001b[0;32m<ipython-input-11-726509eb17c1>\u001b[0m in \u001b[0;36m<module>\u001b[0;34m\u001b[0m\n\u001b[0;32m----> 1\u001b[0;31m \u001b[0mpmids\u001b[0m \u001b[0;34m=\u001b[0m \u001b[0mpd\u001b[0m\u001b[0;34m.\u001b[0m\u001b[0mread_csv\u001b[0m\u001b[0;34m(\u001b[0m\u001b[0mpmid_f\u001b[0m\u001b[0;34m)\u001b[0m\u001b[0;34m\u001b[0m\u001b[0;34m\u001b[0m\u001b[0m\n\u001b[0m\u001b[1;32m      2\u001b[0m \u001b[0mexisting_dois\u001b[0m \u001b[0;34m=\u001b[0m \u001b[0mset\u001b[0m\u001b[0;34m(\u001b[0m\u001b[0mpmids\u001b[0m\u001b[0;34m.\u001b[0m\u001b[0mDOI\u001b[0m\u001b[0;34m.\u001b[0m\u001b[0mtolist\u001b[0m\u001b[0;34m(\u001b[0m\u001b[0;34m)\u001b[0m\u001b[0;34m)\u001b[0m\u001b[0;34m\u001b[0m\u001b[0;34m\u001b[0m\u001b[0m\n\u001b[1;32m      3\u001b[0m \u001b[0mdois\u001b[0m \u001b[0;34m=\u001b[0m \u001b[0mlist\u001b[0m\u001b[0;34m(\u001b[0m\u001b[0mset\u001b[0m\u001b[0;34m(\u001b[0m\u001b[0mdois\u001b[0m\u001b[0;34m)\u001b[0m\u001b[0;34m.\u001b[0m\u001b[0mdifference\u001b[0m\u001b[0;34m(\u001b[0m\u001b[0mexisting_dois\u001b[0m\u001b[0;34m)\u001b[0m\u001b[0;34m)\u001b[0m\u001b[0;34m\u001b[0m\u001b[0;34m\u001b[0m\u001b[0m\n",
      "\u001b[0;32m~/Projects/scholcommlab/tracking-grants/.venv/lib/python3.6/site-packages/pandas/io/parsers.py\u001b[0m in \u001b[0;36mparser_f\u001b[0;34m(filepath_or_buffer, sep, delimiter, header, names, index_col, usecols, squeeze, prefix, mangle_dupe_cols, dtype, engine, converters, true_values, false_values, skipinitialspace, skiprows, skipfooter, nrows, na_values, keep_default_na, na_filter, verbose, skip_blank_lines, parse_dates, infer_datetime_format, keep_date_col, date_parser, dayfirst, cache_dates, iterator, chunksize, compression, thousands, decimal, lineterminator, quotechar, quoting, doublequote, escapechar, comment, encoding, dialect, error_bad_lines, warn_bad_lines, delim_whitespace, low_memory, memory_map, float_precision)\u001b[0m\n\u001b[1;32m    674\u001b[0m         )\n\u001b[1;32m    675\u001b[0m \u001b[0;34m\u001b[0m\u001b[0m\n\u001b[0;32m--> 676\u001b[0;31m         \u001b[0;32mreturn\u001b[0m \u001b[0m_read\u001b[0m\u001b[0;34m(\u001b[0m\u001b[0mfilepath_or_buffer\u001b[0m\u001b[0;34m,\u001b[0m \u001b[0mkwds\u001b[0m\u001b[0;34m)\u001b[0m\u001b[0;34m\u001b[0m\u001b[0;34m\u001b[0m\u001b[0m\n\u001b[0m\u001b[1;32m    677\u001b[0m \u001b[0;34m\u001b[0m\u001b[0m\n\u001b[1;32m    678\u001b[0m     \u001b[0mparser_f\u001b[0m\u001b[0;34m.\u001b[0m\u001b[0m__name__\u001b[0m \u001b[0;34m=\u001b[0m \u001b[0mname\u001b[0m\u001b[0;34m\u001b[0m\u001b[0;34m\u001b[0m\u001b[0m\n",
      "\u001b[0;32m~/Projects/scholcommlab/tracking-grants/.venv/lib/python3.6/site-packages/pandas/io/parsers.py\u001b[0m in \u001b[0;36m_read\u001b[0;34m(filepath_or_buffer, kwds)\u001b[0m\n\u001b[1;32m    452\u001b[0m \u001b[0;34m\u001b[0m\u001b[0m\n\u001b[1;32m    453\u001b[0m     \u001b[0;32mtry\u001b[0m\u001b[0;34m:\u001b[0m\u001b[0;34m\u001b[0m\u001b[0;34m\u001b[0m\u001b[0m\n\u001b[0;32m--> 454\u001b[0;31m         \u001b[0mdata\u001b[0m \u001b[0;34m=\u001b[0m \u001b[0mparser\u001b[0m\u001b[0;34m.\u001b[0m\u001b[0mread\u001b[0m\u001b[0;34m(\u001b[0m\u001b[0mnrows\u001b[0m\u001b[0;34m)\u001b[0m\u001b[0;34m\u001b[0m\u001b[0;34m\u001b[0m\u001b[0m\n\u001b[0m\u001b[1;32m    455\u001b[0m     \u001b[0;32mfinally\u001b[0m\u001b[0;34m:\u001b[0m\u001b[0;34m\u001b[0m\u001b[0;34m\u001b[0m\u001b[0m\n\u001b[1;32m    456\u001b[0m         \u001b[0mparser\u001b[0m\u001b[0;34m.\u001b[0m\u001b[0mclose\u001b[0m\u001b[0;34m(\u001b[0m\u001b[0;34m)\u001b[0m\u001b[0;34m\u001b[0m\u001b[0;34m\u001b[0m\u001b[0m\n",
      "\u001b[0;32m~/Projects/scholcommlab/tracking-grants/.venv/lib/python3.6/site-packages/pandas/io/parsers.py\u001b[0m in \u001b[0;36mread\u001b[0;34m(self, nrows)\u001b[0m\n\u001b[1;32m   1131\u001b[0m     \u001b[0;32mdef\u001b[0m \u001b[0mread\u001b[0m\u001b[0;34m(\u001b[0m\u001b[0mself\u001b[0m\u001b[0;34m,\u001b[0m \u001b[0mnrows\u001b[0m\u001b[0;34m=\u001b[0m\u001b[0;32mNone\u001b[0m\u001b[0;34m)\u001b[0m\u001b[0;34m:\u001b[0m\u001b[0;34m\u001b[0m\u001b[0;34m\u001b[0m\u001b[0m\n\u001b[1;32m   1132\u001b[0m         \u001b[0mnrows\u001b[0m \u001b[0;34m=\u001b[0m \u001b[0m_validate_integer\u001b[0m\u001b[0;34m(\u001b[0m\u001b[0;34m\"nrows\"\u001b[0m\u001b[0;34m,\u001b[0m \u001b[0mnrows\u001b[0m\u001b[0;34m)\u001b[0m\u001b[0;34m\u001b[0m\u001b[0;34m\u001b[0m\u001b[0m\n\u001b[0;32m-> 1133\u001b[0;31m         \u001b[0mret\u001b[0m \u001b[0;34m=\u001b[0m \u001b[0mself\u001b[0m\u001b[0;34m.\u001b[0m\u001b[0m_engine\u001b[0m\u001b[0;34m.\u001b[0m\u001b[0mread\u001b[0m\u001b[0;34m(\u001b[0m\u001b[0mnrows\u001b[0m\u001b[0;34m)\u001b[0m\u001b[0;34m\u001b[0m\u001b[0;34m\u001b[0m\u001b[0m\n\u001b[0m\u001b[1;32m   1134\u001b[0m \u001b[0;34m\u001b[0m\u001b[0m\n\u001b[1;32m   1135\u001b[0m         \u001b[0;31m# May alter columns / col_dict\u001b[0m\u001b[0;34m\u001b[0m\u001b[0;34m\u001b[0m\u001b[0;34m\u001b[0m\u001b[0m\n",
      "\u001b[0;32m~/Projects/scholcommlab/tracking-grants/.venv/lib/python3.6/site-packages/pandas/io/parsers.py\u001b[0m in \u001b[0;36mread\u001b[0;34m(self, nrows)\u001b[0m\n\u001b[1;32m   2035\u001b[0m     \u001b[0;32mdef\u001b[0m \u001b[0mread\u001b[0m\u001b[0;34m(\u001b[0m\u001b[0mself\u001b[0m\u001b[0;34m,\u001b[0m \u001b[0mnrows\u001b[0m\u001b[0;34m=\u001b[0m\u001b[0;32mNone\u001b[0m\u001b[0;34m)\u001b[0m\u001b[0;34m:\u001b[0m\u001b[0;34m\u001b[0m\u001b[0;34m\u001b[0m\u001b[0m\n\u001b[1;32m   2036\u001b[0m         \u001b[0;32mtry\u001b[0m\u001b[0;34m:\u001b[0m\u001b[0;34m\u001b[0m\u001b[0;34m\u001b[0m\u001b[0m\n\u001b[0;32m-> 2037\u001b[0;31m             \u001b[0mdata\u001b[0m \u001b[0;34m=\u001b[0m \u001b[0mself\u001b[0m\u001b[0;34m.\u001b[0m\u001b[0m_reader\u001b[0m\u001b[0;34m.\u001b[0m\u001b[0mread\u001b[0m\u001b[0;34m(\u001b[0m\u001b[0mnrows\u001b[0m\u001b[0;34m)\u001b[0m\u001b[0;34m\u001b[0m\u001b[0;34m\u001b[0m\u001b[0m\n\u001b[0m\u001b[1;32m   2038\u001b[0m         \u001b[0;32mexcept\u001b[0m \u001b[0mStopIteration\u001b[0m\u001b[0;34m:\u001b[0m\u001b[0;34m\u001b[0m\u001b[0;34m\u001b[0m\u001b[0m\n\u001b[1;32m   2039\u001b[0m             \u001b[0;32mif\u001b[0m \u001b[0mself\u001b[0m\u001b[0;34m.\u001b[0m\u001b[0m_first_chunk\u001b[0m\u001b[0;34m:\u001b[0m\u001b[0;34m\u001b[0m\u001b[0;34m\u001b[0m\u001b[0m\n",
      "\u001b[0;32mpandas/_libs/parsers.pyx\u001b[0m in \u001b[0;36mpandas._libs.parsers.TextReader.read\u001b[0;34m()\u001b[0m\n",
      "\u001b[0;32mpandas/_libs/parsers.pyx\u001b[0m in \u001b[0;36mpandas._libs.parsers.TextReader._read_low_memory\u001b[0;34m()\u001b[0m\n",
      "\u001b[0;32mpandas/_libs/parsers.pyx\u001b[0m in \u001b[0;36mpandas._libs.parsers.TextReader._read_rows\u001b[0;34m()\u001b[0m\n",
      "\u001b[0;32mpandas/_libs/parsers.pyx\u001b[0m in \u001b[0;36mpandas._libs.parsers.TextReader._tokenize_rows\u001b[0;34m()\u001b[0m\n",
      "\u001b[0;32mpandas/_libs/parsers.pyx\u001b[0m in \u001b[0;36mpandas._libs.parsers.raise_parser_error\u001b[0;34m()\u001b[0m\n",
      "\u001b[0;31mParserError\u001b[0m: Error tokenizing data. C error: Expected 4 fields in line 74, saw 6\n"
     ]
    }
   ],
   "source": [
    "pmids = pd.read_csv(pmid_f)\n",
    "existing_dois = set(pmids.DOI.tolist())\n",
    "dois = list(set(dois).difference(existing_dois))"
   ]
  },
  {
   "cell_type": "code",
   "execution_count": 9,
   "metadata": {},
   "outputs": [
    {
     "data": {
      "text/plain": [
       "['10.1093/jnci/djh145',\n",
       " '10.1016/j.nano.2007.11.005',\n",
       " '10.1677/joe.0.1690097',\n",
       " '10.1002/pros.20623',\n",
       " '10.1097/wco.0000000000000186',\n",
       " '10.7150/ijbs.4.223',\n",
       " '10.1021/pr500387m',\n",
       " '10.1002/pros.20227',\n",
       " '10.4049/jimmunol.1400806',\n",
       " '10.1107/s1744309110004409']"
      ]
     },
     "execution_count": 9,
     "metadata": {},
     "output_type": "execute_result"
    }
   ],
   "source": [
    "dois"
   ]
  },
  {
   "cell_type": "code",
   "execution_count": 13,
   "metadata": {},
   "outputs": [
    {
     "data": {
      "application/vnd.jupyter.widget-view+json": {
       "model_id": "0e2fe1162e97405fa79610d077eb48b5",
       "version_major": 2,
       "version_minor": 0
      },
      "text/plain": [
       "HBox(children=(FloatProgress(value=0.0, max=10.0), HTML(value='')))"
      ]
     },
     "metadata": {},
     "output_type": "display_data"
    },
    {
     "name": "stdout",
     "output_type": "stream",
     "text": [
      "\n"
     ]
    }
   ],
   "source": [
    "results = await eutils.run(dois)"
   ]
  },
  {
   "cell_type": "code",
   "execution_count": 20,
   "metadata": {},
   "outputs": [
    {
     "data": {
      "text/plain": [
       "[1]"
      ]
     },
     "execution_count": 20,
     "metadata": {},
     "output_type": "execute_result"
    }
   ],
   "source": [
    "list(set([1,2,3]).difference(set([2,3])))"
   ]
  },
  {
   "cell_type": "code",
   "execution_count": 17,
   "metadata": {},
   "outputs": [
    {
     "data": {
      "text/html": [
       "<div>\n",
       "<style scoped>\n",
       "    .dataframe tbody tr th:only-of-type {\n",
       "        vertical-align: middle;\n",
       "    }\n",
       "\n",
       "    .dataframe tbody tr th {\n",
       "        vertical-align: top;\n",
       "    }\n",
       "\n",
       "    .dataframe thead th {\n",
       "        text-align: right;\n",
       "    }\n",
       "</style>\n",
       "<table border=\"1\" class=\"dataframe\">\n",
       "  <thead>\n",
       "    <tr style=\"text-align: right;\">\n",
       "      <th></th>\n",
       "      <th>DOI</th>\n",
       "      <th>pmid</th>\n",
       "    </tr>\n",
       "  </thead>\n",
       "  <tbody>\n",
       "    <tr>\n",
       "      <th>0</th>\n",
       "      <td>10.1016/j.clgc.2014.08.012</td>\n",
       "      <td>25450037</td>\n",
       "    </tr>\n",
       "    <tr>\n",
       "      <th>1</th>\n",
       "      <td>10.1210/endo.143.6.8846</td>\n",
       "      <td>12021174</td>\n",
       "    </tr>\n",
       "    <tr>\n",
       "      <th>2</th>\n",
       "      <td>10.1124/mol.107.036681</td>\n",
       "      <td>17507690</td>\n",
       "    </tr>\n",
       "    <tr>\n",
       "      <th>3</th>\n",
       "      <td>10.3748/wjg.v13.i11.1659</td>\n",
       "      <td>12506112</td>\n",
       "    </tr>\n",
       "    <tr>\n",
       "      <th>4</th>\n",
       "      <td>10.1200/jco.2015.65.3154</td>\n",
       "      <td>12506112</td>\n",
       "    </tr>\n",
       "    <tr>\n",
       "      <th>5</th>\n",
       "      <td>10.1371/journal.pone.0071709</td>\n",
       "      <td>12506112</td>\n",
       "    </tr>\n",
       "    <tr>\n",
       "      <th>6</th>\n",
       "      <td>10.1002/nbm.973</td>\n",
       "      <td>12506112</td>\n",
       "    </tr>\n",
       "    <tr>\n",
       "      <th>7</th>\n",
       "      <td>10.2144/000114063</td>\n",
       "      <td>12506112</td>\n",
       "    </tr>\n",
       "    <tr>\n",
       "      <th>8</th>\n",
       "      <td>10.4161/cbt.12.9.17682</td>\n",
       "      <td>12506112</td>\n",
       "    </tr>\n",
       "    <tr>\n",
       "      <th>9</th>\n",
       "      <td>10.1074/jbc.m207637200</td>\n",
       "      <td>12506112</td>\n",
       "    </tr>\n",
       "  </tbody>\n",
       "</table>\n",
       "</div>"
      ],
      "text/plain": [
       "                            DOI      pmid\n",
       "0    10.1016/j.clgc.2014.08.012  25450037\n",
       "1       10.1210/endo.143.6.8846  12021174\n",
       "2        10.1124/mol.107.036681  17507690\n",
       "3      10.3748/wjg.v13.i11.1659  12506112\n",
       "4      10.1200/jco.2015.65.3154  12506112\n",
       "5  10.1371/journal.pone.0071709  12506112\n",
       "6               10.1002/nbm.973  12506112\n",
       "7             10.2144/000114063  12506112\n",
       "8        10.4161/cbt.12.9.17682  12506112\n",
       "9        10.1074/jbc.m207637200  12506112"
      ]
     },
     "execution_count": 17,
     "metadata": {},
     "output_type": "execute_result"
    }
   ],
   "source": [
    "pd.DataFrame(results, columns=[\"DOI\", \"pmid\"]).to_csv(pmid_f)"
   ]
  }
 ],
 "metadata": {
  "kernelspec": {
   "display_name": "tracking-grants",
   "language": "python",
   "name": "tracking-grants"
  },
  "language_info": {
   "codemirror_mode": {
    "name": "ipython",
    "version": 3
   },
   "file_extension": ".py",
   "mimetype": "text/x-python",
   "name": "python",
   "nbconvert_exporter": "python",
   "pygments_lexer": "ipython3",
   "version": "3.6.10"
  }
 },
 "nbformat": 4,
 "nbformat_minor": 4
}
