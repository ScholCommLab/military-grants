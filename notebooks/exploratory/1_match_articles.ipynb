{
 "cells": [
  {
   "cell_type": "code",
   "execution_count": 1,
   "metadata": {},
   "outputs": [],
   "source": [
    "# -*- coding: utf-8 -*-\n",
    "import json\n",
    "import pandas as pd\n",
    "from tracking_grants.utils.logging import logger\n",
    "from tracking_grants import references_f, articles_f, matched_articles_f"
   ]
  },
  {
   "cell_type": "code",
   "execution_count": 2,
   "metadata": {},
   "outputs": [],
   "source": [
    "# Load files\n",
    "refs = pd.read_csv(references_f)\n",
    "matches = pd.DataFrame.from_dict(json.loads(matched_articles_f.read_text()))"
   ]
  },
  {
   "cell_type": "code",
   "execution_count": 3,
   "metadata": {},
   "outputs": [],
   "source": [
    "# Merge references and matched responses from crossref by reference ID\n",
    "merged = refs.merge(matches[['score', 'DOI']], left_on=\"reference_id\", right_index=True)\n",
    "\n",
    "# Drop all references without a match\n",
    "merged = merged[merged.DOI.notna()]"
   ]
  },
  {
   "cell_type": "code",
   "execution_count": 4,
   "metadata": {},
   "outputs": [],
   "source": [
    "merged = merged[['reference_id', 'grant_id', 'program', 'score', 'DOI']].drop_duplicates()"
   ]
  },
  {
   "cell_type": "code",
   "execution_count": 6,
   "metadata": {},
   "outputs": [],
   "source": [
    "merged.to_csv(articles_f, index=False)"
   ]
  },
  {
   "cell_type": "markdown",
   "metadata": {},
   "source": [
    "## Matching"
   ]
  },
  {
   "cell_type": "code",
   "execution_count": 32,
   "metadata": {},
   "outputs": [],
   "source": [
    "from tracking_grants import (matched_articles_f, one_ref_per_line,\n",
    "                             reference_matcher, references_f, data_dir)\n",
    "\n",
    "from pathlib import Path"
   ]
  },
  {
   "cell_type": "code",
   "execution_count": 33,
   "metadata": {},
   "outputs": [],
   "source": [
    "n_refs = 0\n",
    "with open(one_ref_per_line) as rf:\n",
    "    n_refs = sum(1 for line in rf)"
   ]
  },
  {
   "cell_type": "code",
   "execution_count": 55,
   "metadata": {},
   "outputs": [],
   "source": [
    "batch_size = 500\n",
    "batches = list(range(0, n_refs, batch_size))\n",
    "tempfiles = [data_dir / f\"interim/{i}.txt\" for i in range(0,len(batches))]\n",
    "outfiles = [data_dir / f\"interim/{i}.json\" for i in range(0,len(batches))]"
   ]
  },
  {
   "cell_type": "code",
   "execution_count": 45,
   "metadata": {},
   "outputs": [],
   "source": [
    "for f in tempfiles:\n",
    "    f.open(\"w\")\n",
    "    \n",
    "with open(one_ref_per_line) as rf:\n",
    "    counter = 0\n",
    "    file_count = 0\n",
    "    for line in rf:\n",
    "        if counter == batch_size:\n",
    "            file_count = file_count + 1\n",
    "            counter = 0\n",
    "            \n",
    "        with tempfiles[file_count].open('a+') as file:\n",
    "            if counter==499:\n",
    "                file.write(line.strip())\n",
    "            else:\n",
    "                file.write(line)\n",
    "            \n",
    "        counter = counter + 1"
   ]
  },
  {
   "cell_type": "code",
   "execution_count": 56,
   "metadata": {},
   "outputs": [],
   "source": [
    "import json"
   ]
  },
  {
   "cell_type": "code",
   "execution_count": 66,
   "metadata": {},
   "outputs": [],
   "source": [
    "# merge all outfiles\n",
    "output = []\n",
    "for fout in outfiles:\n",
    "    d = json.loads(fout.read_text())\n",
    "    output = output + d\n",
    "\n",
    "with matched_articles_f.open(\"w\") as f:\n",
    "    json.dump(output, f)"
   ]
  },
  {
   "cell_type": "code",
   "execution_count": 67,
   "metadata": {},
   "outputs": [],
   "source": [
    "for fin, fout in zip(tempfiles, outfiles):\n",
    "    fin.unlink()\n",
    "    fout.unlink()"
   ]
  },
  {
   "cell_type": "code",
   "execution_count": 52,
   "metadata": {},
   "outputs": [
    {
     "name": "stdout",
     "output_type": "stream",
     "text": [
      "0.json\n",
      "1.json\n",
      "2.json\n",
      "3.json\n",
      "4.json\n",
      "5.json\n",
      "6.json\n",
      "7.json\n",
      "8.json\n",
      "9.json\n",
      "10.json\n",
      "11.json\n",
      "12.json\n",
      "13.json\n",
      "14.json\n",
      "15.json\n",
      "16.json\n",
      "17.json\n",
      "18.json\n",
      "19.json\n"
     ]
    }
   ],
   "source": [
    "for f in tempfiles:\n",
    "    print()"
   ]
  }
 ],
 "metadata": {
  "kernelspec": {
   "display_name": "tracking-grants",
   "language": "python",
   "name": "tracking-grants"
  },
  "language_info": {
   "codemirror_mode": {
    "name": "ipython",
    "version": 3
   },
   "file_extension": ".py",
   "mimetype": "text/x-python",
   "name": "python",
   "nbconvert_exporter": "python",
   "pygments_lexer": "ipython3",
   "version": "3.6.10"
  }
 },
 "nbformat": 4,
 "nbformat_minor": 4
}
